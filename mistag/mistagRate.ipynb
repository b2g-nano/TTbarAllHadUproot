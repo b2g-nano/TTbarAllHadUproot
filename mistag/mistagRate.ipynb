{
 "cells": [
  {
   "cell_type": "code",
   "execution_count": 117,
   "id": "22004ca3",
   "metadata": {},
   "outputs": [],
   "source": [
    "import coffea\n",
    "from coffea import util\n",
    "import numpy as np\n",
    "import pandas as pd\n",
    "import itertools\n",
    "import os"
   ]
  },
  {
   "cell_type": "code",
   "execution_count": 30,
   "id": "cee7afdd",
   "metadata": {},
   "outputs": [],
   "source": [
    "# analysis categories #\n",
    "ttagcats = [\"AT&Pt\", \"at\", \"pret\", \"0t\", \"1t\", \">=1t\", \"2t\", \">=0t\"] \n",
    "btagcats = [\"0b\", \"1b\", \"2b\"]\n",
    "ycats = ['cen', 'fwd']\n",
    "\n",
    "anacats = [ t+b+y for t,b,y in itertools.product( ttagcats, btagcats, ycats) ]\n",
    "label_dict = {i: label for i, label in enumerate(anacats)}\n",
    "label_to_int_dict = {label: i for i, label in enumerate(anacats)}"
   ]
  },
  {
   "cell_type": "code",
   "execution_count": 166,
   "id": "60c25368",
   "metadata": {},
   "outputs": [],
   "source": [
    "# label_dict"
   ]
  },
  {
   "cell_type": "code",
   "execution_count": 151,
   "id": "4954bc41",
   "metadata": {},
   "outputs": [],
   "source": [
    "save_csv_filename = 'mistag_rate.csv'"
   ]
  },
  {
   "cell_type": "code",
   "execution_count": 218,
   "id": "3abea32d",
   "metadata": {},
   "outputs": [],
   "source": [
    "coffea_dir = '../outputs/'\n",
    "coffeaFiles = {\n",
    "    \"JetHT\":{\n",
    "        \"2016APV\": {\n",
    "            \"B\": coffea_dir+'JetHT_2016APVB.coffea',\n",
    "            \"C\": coffea_dir+'JetHT_2016APVC.coffea',\n",
    "            \"D\": coffea_dir+'JetHT_2016APVD.coffea',\n",
    "            \"E\": coffea_dir+'JetHT_2016APVE.coffea',\n",
    "        },\n",
    "        \"2016\": {\n",
    "            \"F\": coffea_dir+'JetHT_2016F.coffea',\n",
    "            \"G\": coffea_dir+'JetHT_2016G.coffea',\n",
    "            \"H\": coffea_dir+'JetHT_2016H.coffea',\n",
    "        },\n",
    "        \"2017\": '',\n",
    "        \"2018\": ''\n",
    "    },\n",
    "    \n",
    "    \"TTbar\": {\n",
    "        \"2016APV\": {\n",
    "            \"700to1000\": coffea_dir+'TTbar_2016APV_700to_1000.coffea',\n",
    "            \"1000toInf\": coffea_dir+'TTbar_2016APV_1000toInf.coffea',\n",
    "        },\n",
    "        \"2016\": {\n",
    "            \"700to1000\": coffea_dir+'TTbar_2016_700to_1000.coffea',\n",
    "            \"1000toInf\": coffea_dir+'TTbar_2016_1000toInf.coffea',\n",
    "        },\n",
    "        \"2017\": {\n",
    "            \"700to1000\": '',\n",
    "            \"1000toInf\": '',\n",
    "        },\n",
    "        \"2018\": {\n",
    "            \"700to1000\": '',\n",
    "            \"1000toInf\": '',\n",
    "        }\n",
    "    }\n",
    "}\n",
    "\n",
    "\n"
   ]
  },
  {
   "cell_type": "code",
   "execution_count": null,
   "id": "e41a4d4d",
   "metadata": {},
   "outputs": [],
   "source": []
  },
  {
   "cell_type": "code",
   "execution_count": 219,
   "id": "ea55be45",
   "metadata": {},
   "outputs": [],
   "source": [
    "# pbins = numerator.axes['jetp'].centers - numerator.axes['jetp'].widths/2\n",
    "pbins = np.array([ 400.,  500.,  600.,  800., 1000., 1500., 2000., 3000., 7000.])"
   ]
  },
  {
   "cell_type": "code",
   "execution_count": null,
   "id": "eec1cc88",
   "metadata": {},
   "outputs": [],
   "source": []
  },
  {
   "cell_type": "code",
   "execution_count": 223,
   "id": "449288f1",
   "metadata": {},
   "outputs": [
    {
     "name": "stdout",
     "output_type": "stream",
     "text": [
      "loading ../outputs/JetHT_2016F.coffea\n",
      "loading ../outputs/JetHT_2016G.coffea\n",
      "loading ../outputs/JetHT_2016H.coffea\n",
      "loading ../outputs/TTbar_2016_700to_1000.coffea\n",
      "loading ../outputs/TTbar_2016_1000toInf.coffea\n",
      "saving mistag_rate_2016.csv\n"
     ]
    },
    {
     "name": "stderr",
     "output_type": "stream",
     "text": [
      "/tmp/ipykernel_33/2015335619.py:41: RuntimeWarning: invalid value encountered in divide\n",
      "  mistag_rate = (jetht_numerator - ttbar_numerator) / (jetht_denominator - ttbar_denominator)\n"
     ]
    }
   ],
   "source": [
    "IOVs = ['2016']\n",
    "\n",
    "\n",
    "for IOV in IOVs:\n",
    "    save_csv_filename = f'mistag_rate_{IOV}.csv'\n",
    "\n",
    "    jetht_files = []\n",
    "\n",
    "    for era, file in coffeaFiles['JetHT'][IOV].items():\n",
    "        if os.path.isfile(file):\n",
    "            print('loading', file)\n",
    "            jetht_files.append(util.load(file))\n",
    "            \n",
    "            \n",
    "    ttbar_700to1000 = util.load(coffeaFiles['TTbar'][IOV]['700to1000'])\n",
    "    ttbar_1000toInf = util.load(coffeaFiles['TTbar'][IOV]['1000toInf'])\n",
    "    print('loading', coffeaFiles['TTbar'][IOV]['700to1000'])\n",
    "    print('loading', coffeaFiles['TTbar'][IOV]['1000toInf'])\n",
    "\n",
    "\n",
    "\n",
    "\n",
    "    mistag_rate_dict = {}\n",
    "    mistag_rate_dict[\"jetp bins\"] = pbins\n",
    "\n",
    "    for i, label in label_dict.items():\n",
    "\n",
    "        jetht_numerator   = jetht_files[0]['numerator'][{'dataset':sum, 'anacat':i}].values()\n",
    "        jetht_denominator = jetht_files[0]['denominator'][{'dataset':sum, 'anacat':i}].values()\n",
    "\n",
    "        for file in jetht_files[1:]:\n",
    "            jetht_numerator   += file['numerator'][{'dataset':sum, 'anacat':i}].values()\n",
    "            jetht_denominator += file['denominator'][{'dataset':sum, 'anacat':i}].values()\n",
    "\n",
    "        ttbar_numerator   = ttbar_700to1000['numerator'][{'dataset':sum, 'anacat':i}].values() * ttbar_SF['700to1000']\n",
    "        ttbar_denominator = ttbar_700to1000['denominator'][{'dataset':sum, 'anacat':i}].values() * ttbar_SF['700to1000']\n",
    "\n",
    "        ttbar_numerator   += ttbar_1000toInf['numerator'][{'dataset':sum, 'anacat':i}].values() * ttbar_SF['1000toInf']\n",
    "        ttbar_denominator += ttbar_1000toInf['denominator'][{'dataset':sum, 'anacat':i}].values() * ttbar_SF['1000toInf']\n",
    "\n",
    "        mistag_rate = (jetht_numerator - ttbar_numerator) / (jetht_denominator - ttbar_denominator)\n",
    "#         mistag_rate = (jetht_numerator - ttbar_numerator) / (jetht_denominator)\n",
    "\n",
    "        mistag_rate[np.isnan(mistag_rate)] = 0.\n",
    "\n",
    "        mistag_rate_dict[label] = mistag_rate\n",
    "        \n",
    "    df_mistag = pd.DataFrame(data=mistag_rate_dict)\n",
    "    df_mistag.to_csv(save_csv_filename)\n",
    "    print('saving', save_csv_filename)\n",
    "\n",
    "        "
   ]
  },
  {
   "cell_type": "code",
   "execution_count": null,
   "id": "13624872",
   "metadata": {},
   "outputs": [],
   "source": []
  },
  {
   "cell_type": "code",
   "execution_count": 224,
   "id": "4a53255c",
   "metadata": {},
   "outputs": [],
   "source": [
    "df_mistag = pd.DataFrame(data=mistag_rate_dict)"
   ]
  },
  {
   "cell_type": "code",
   "execution_count": 225,
   "id": "a80c7a1d",
   "metadata": {},
   "outputs": [
    {
     "data": {
      "text/html": [
       "<div>\n",
       "<style scoped>\n",
       "    .dataframe tbody tr th:only-of-type {\n",
       "        vertical-align: middle;\n",
       "    }\n",
       "\n",
       "    .dataframe tbody tr th {\n",
       "        vertical-align: top;\n",
       "    }\n",
       "\n",
       "    .dataframe thead th {\n",
       "        text-align: right;\n",
       "    }\n",
       "</style>\n",
       "<table border=\"1\" class=\"dataframe\">\n",
       "  <thead>\n",
       "    <tr style=\"text-align: right;\">\n",
       "      <th></th>\n",
       "      <th>at0bcen</th>\n",
       "      <th>at0bfwd</th>\n",
       "      <th>at1bcen</th>\n",
       "      <th>at1bfwd</th>\n",
       "      <th>at2bcen</th>\n",
       "      <th>at2bfwd</th>\n",
       "    </tr>\n",
       "  </thead>\n",
       "  <tbody>\n",
       "    <tr>\n",
       "      <th>0</th>\n",
       "      <td>0.049703</td>\n",
       "      <td>0.056627</td>\n",
       "      <td>0.069703</td>\n",
       "      <td>0.063222</td>\n",
       "      <td>0.123204</td>\n",
       "      <td>0.048513</td>\n",
       "    </tr>\n",
       "    <tr>\n",
       "      <th>1</th>\n",
       "      <td>0.050615</td>\n",
       "      <td>0.051627</td>\n",
       "      <td>0.075497</td>\n",
       "      <td>0.069642</td>\n",
       "      <td>0.108504</td>\n",
       "      <td>0.091166</td>\n",
       "    </tr>\n",
       "    <tr>\n",
       "      <th>2</th>\n",
       "      <td>0.042909</td>\n",
       "      <td>0.043783</td>\n",
       "      <td>0.056891</td>\n",
       "      <td>0.058130</td>\n",
       "      <td>0.085656</td>\n",
       "      <td>0.060743</td>\n",
       "    </tr>\n",
       "    <tr>\n",
       "      <th>3</th>\n",
       "      <td>0.038261</td>\n",
       "      <td>0.036193</td>\n",
       "      <td>0.044815</td>\n",
       "      <td>0.046783</td>\n",
       "      <td>0.069295</td>\n",
       "      <td>0.063532</td>\n",
       "    </tr>\n",
       "    <tr>\n",
       "      <th>4</th>\n",
       "      <td>0.032559</td>\n",
       "      <td>0.031492</td>\n",
       "      <td>0.034966</td>\n",
       "      <td>0.036909</td>\n",
       "      <td>0.066019</td>\n",
       "      <td>0.054593</td>\n",
       "    </tr>\n",
       "    <tr>\n",
       "      <th>5</th>\n",
       "      <td>0.025565</td>\n",
       "      <td>0.024042</td>\n",
       "      <td>0.029679</td>\n",
       "      <td>0.031799</td>\n",
       "      <td>0.036520</td>\n",
       "      <td>0.057750</td>\n",
       "    </tr>\n",
       "    <tr>\n",
       "      <th>6</th>\n",
       "      <td>0.028147</td>\n",
       "      <td>0.025961</td>\n",
       "      <td>0.027467</td>\n",
       "      <td>0.034490</td>\n",
       "      <td>0.077573</td>\n",
       "      <td>0.070781</td>\n",
       "    </tr>\n",
       "    <tr>\n",
       "      <th>7</th>\n",
       "      <td>0.007234</td>\n",
       "      <td>0.027039</td>\n",
       "      <td>-0.001462</td>\n",
       "      <td>0.034990</td>\n",
       "      <td>-0.016180</td>\n",
       "      <td>-0.004996</td>\n",
       "    </tr>\n",
       "    <tr>\n",
       "      <th>8</th>\n",
       "      <td>0.000000</td>\n",
       "      <td>0.000000</td>\n",
       "      <td>0.000000</td>\n",
       "      <td>0.000000</td>\n",
       "      <td>0.000000</td>\n",
       "      <td>0.000000</td>\n",
       "    </tr>\n",
       "  </tbody>\n",
       "</table>\n",
       "</div>"
      ],
      "text/plain": [
       "    at0bcen   at0bfwd   at1bcen   at1bfwd   at2bcen   at2bfwd\n",
       "0  0.049703  0.056627  0.069703  0.063222  0.123204  0.048513\n",
       "1  0.050615  0.051627  0.075497  0.069642  0.108504  0.091166\n",
       "2  0.042909  0.043783  0.056891  0.058130  0.085656  0.060743\n",
       "3  0.038261  0.036193  0.044815  0.046783  0.069295  0.063532\n",
       "4  0.032559  0.031492  0.034966  0.036909  0.066019  0.054593\n",
       "5  0.025565  0.024042  0.029679  0.031799  0.036520  0.057750\n",
       "6  0.028147  0.025961  0.027467  0.034490  0.077573  0.070781\n",
       "7  0.007234  0.027039 -0.001462  0.034990 -0.016180 -0.004996\n",
       "8  0.000000  0.000000  0.000000  0.000000  0.000000  0.000000"
      ]
     },
     "execution_count": 225,
     "metadata": {},
     "output_type": "execute_result"
    }
   ],
   "source": [
    "df_mistag[df_mistag.columns[7:13]]"
   ]
  },
  {
   "cell_type": "code",
   "execution_count": 99,
   "id": "e24646fb",
   "metadata": {},
   "outputs": [
    {
     "name": "stderr",
     "output_type": "stream",
     "text": [
      "/tmp/ipykernel_33/1322345589.py:1: RuntimeWarning: invalid value encountered in divide\n",
      "  np.where(ttbar_denominator > 1e-7, ttbar_numerator / ttbar_denominator, 0.)\n"
     ]
    },
    {
     "data": {
      "text/plain": [
       "array([0.24161602, 0.24673043, 0.23924274, 0.19126429, 0.16562336,\n",
       "       0.10668181, 0.07024908, 0.        , 0.        ])"
      ]
     },
     "execution_count": 99,
     "metadata": {},
     "output_type": "execute_result"
    }
   ],
   "source": [
    "np.where(ttbar_denominator > 1e-7, ttbar_numerator / ttbar_denominator, 0.)"
   ]
  },
  {
   "cell_type": "code",
   "execution_count": 92,
   "id": "4348f444",
   "metadata": {},
   "outputs": [
    {
     "data": {
      "text/plain": [
       "array([-0.16754195, -0.17641793, -0.17893146, -0.14411789, -0.12005374,\n",
       "       -0.06822027, -0.04850995,  0.        ,  0.        ])"
      ]
     },
     "execution_count": 92,
     "metadata": {},
     "output_type": "execute_result"
    }
   ],
   "source": [
    "mistag_rate"
   ]
  },
  {
   "cell_type": "code",
   "execution_count": 85,
   "id": "0eb873b1",
   "metadata": {},
   "outputs": [
    {
     "data": {
      "text/plain": [
       "(array([ 4.,  9., 31., 19., 18.,  4.,  1.,  0.,  0.]),\n",
       " array([ 4.,  9., 31., 19., 18.,  4.,  1.,  0.,  0.]))"
      ]
     },
     "execution_count": 85,
     "metadata": {},
     "output_type": "execute_result"
    }
   ],
   "source": [
    "jetht_numerator.view().value, jetht_numerator.values()"
   ]
  },
  {
   "cell_type": "code",
   "execution_count": 21,
   "id": "65adef3f",
   "metadata": {},
   "outputs": [],
   "source": [
    "# https://twiki.cern.ch/twiki/bin/viewauth/CMS/PdmVAnalysisSummaryTable\n",
    "luminosity = {\n",
    "    \"2016APV\": 19800.,\n",
    "    \"2016\": 16120., #35920 - 19800\n",
    "    \"2017\": 41530.,\n",
    "    \"2018\": 59740.\n",
    "}\n",
    "\n",
    "ttbar_evts = {}\n",
    "ttbar_evts[\"700to1000\"] = ttbar_700to1000['cutflow']['sumw']\n",
    "ttbar_evts[\"1000toInf\"] = ttbar_1000toInf['cutflow']['sumw']\n",
    "\n",
    "ttbar_xs = {}\n",
    "ttbar_xs[\"700to1000\"] = 831.76 * (0.09210)\n",
    "ttbar_xs[\"1000toInf\"] = 831.76 * (0.02474)\n",
    "toptag_sf = 0.9\n",
    "toptag_kf = 0.7"
   ]
  },
  {
   "cell_type": "code",
   "execution_count": 22,
   "id": "cd9c2c14",
   "metadata": {},
   "outputs": [],
   "source": [
    "\n",
    "IOV = \"2016\"\n",
    "ttbar_SF = {}\n",
    "ttbar_SF[\"700to1000\"] = luminosity[IOV] * ttbar_xs[\"700to1000\"] * toptag_sf**2 * toptag_kf / ttbar_evts[\"1000toInf\"]\n",
    "ttbar_SF[\"1000toInf\"] = luminosity[IOV] * ttbar_xs[\"1000toInf\"] * toptag_sf**2 * toptag_kf / ttbar_evts[\"1000toInf\"]\n",
    "\n"
   ]
  },
  {
   "cell_type": "code",
   "execution_count": 180,
   "id": "4c7ce602",
   "metadata": {},
   "outputs": [],
   "source": [
    "mcsv = pd.read_csv('mistag_rate_2016.csv')"
   ]
  },
  {
   "cell_type": "code",
   "execution_count": 184,
   "id": "cb683226",
   "metadata": {},
   "outputs": [
    {
     "data": {
      "text/plain": [
       "array([ 400.,  500.,  600.,  800., 1000., 1500., 2000., 3000., 7000.])"
      ]
     },
     "execution_count": 184,
     "metadata": {},
     "output_type": "execute_result"
    }
   ],
   "source": [
    "mcsv['jetp bins'].values"
   ]
  },
  {
   "cell_type": "code",
   "execution_count": 190,
   "id": "40d27749",
   "metadata": {},
   "outputs": [
    {
     "data": {
      "text/plain": [
       "array([5983, 2987,  925, 1923, 1290, 5772,  491, 5533, 4214, 4955, 4930,\n",
       "       2868, 2386, 3933,  909, 4403, 3996, 3442, 1071, 1938, 7374, 1611,\n",
       "       3696, 6006, 6407, 4363, 1250, 4324, 5846, 7321, 5968, 4965, 6855,\n",
       "       5421, 3851, 6620, 1348, 2263, 4225, 2234,  887, 1931, 5849, 4848,\n",
       "       2878, 6120, 5092,  884,  810, 5314, 5727, 3778, 2575, 4777,  882,\n",
       "       4388, 2764, 5109, 1888, 2574, 5003, 3851, 6256, 1535, 2814, 3522,\n",
       "       3407, 7364, 4172, 2224, 1570,  439,  552, 5283, 4650, 4504, 1069,\n",
       "       4009, 3103, 6374, 4304, 2050, 6673, 7102, 1494, 1419, 3573, 2568,\n",
       "       3857, 3257, 1069, 5599, 7466, 2306, 6919, 2355, 7344, 5432, 6146,\n",
       "       5269])"
      ]
     },
     "execution_count": 190,
     "metadata": {},
     "output_type": "execute_result"
    }
   ],
   "source": [
    "prand = np.random.randint(400, 7500, 100)\n",
    "prand"
   ]
  },
  {
   "cell_type": "code",
   "execution_count": 196,
   "id": "cfc42a94",
   "metadata": {},
   "outputs": [
    {
     "data": {
      "text/plain": [
       "array([7, 6, 3, 5, 4, 7, 0, 7, 7, 7, 7, 6, 6, 7, 3, 7, 7, 7, 4, 5, 8, 5,\n",
       "       7, 7, 7, 7, 4, 7, 7, 8, 7, 7, 7, 7, 7, 7, 4, 6, 7, 6, 3, 5, 7, 7,\n",
       "       6, 7, 7, 3, 3, 7, 7, 7, 6, 7, 3, 7, 6, 7, 5, 6, 7, 7, 7, 5, 6, 7,\n",
       "       7, 8, 7, 6, 5, 0, 1, 7, 7, 7, 4, 7, 7, 7, 7, 6, 7, 8, 4, 4, 7, 6,\n",
       "       7, 7, 4, 7, 8, 6, 7, 6, 8, 7, 7, 7])"
      ]
     },
     "execution_count": 196,
     "metadata": {},
     "output_type": "execute_result"
    }
   ],
   "source": [
    "mbins = np.digitize(prand, pbins) - 1\n",
    "mbins"
   ]
  },
  {
   "cell_type": "code",
   "execution_count": 199,
   "id": "c0d01718",
   "metadata": {},
   "outputs": [
    {
     "data": {
      "text/plain": [
       "array([0.00957868, 0.02825792, 0.03811876, 0.02545634, 0.03283913,\n",
       "       0.00957868, 0.05207721, 0.00957868, 0.00957868, 0.00957868,\n",
       "       0.00957868, 0.02825792, 0.02825792, 0.00957868, 0.03811876,\n",
       "       0.00957868, 0.00957868, 0.00957868, 0.03283913, 0.02545634,\n",
       "       0.        , 0.02545634, 0.00957868, 0.00957868, 0.00957868,\n",
       "       0.00957868, 0.03283913, 0.00957868, 0.00957868, 0.        ,\n",
       "       0.00957868, 0.00957868, 0.00957868, 0.00957868, 0.00957868,\n",
       "       0.00957868, 0.03283913, 0.02825792, 0.00957868, 0.02825792,\n",
       "       0.03811876, 0.02545634, 0.00957868, 0.00957868, 0.02825792,\n",
       "       0.00957868, 0.00957868, 0.03811876, 0.03811876, 0.00957868,\n",
       "       0.00957868, 0.00957868, 0.02825792, 0.00957868, 0.03811876,\n",
       "       0.00957868, 0.02825792, 0.00957868, 0.02545634, 0.02825792,\n",
       "       0.00957868, 0.00957868, 0.00957868, 0.02545634, 0.02825792,\n",
       "       0.00957868, 0.00957868, 0.        , 0.00957868, 0.02825792,\n",
       "       0.02545634, 0.05207721, 0.05139537, 0.00957868, 0.00957868,\n",
       "       0.00957868, 0.03283913, 0.00957868, 0.00957868, 0.00957868,\n",
       "       0.00957868, 0.02825792, 0.00957868, 0.        , 0.03283913,\n",
       "       0.03283913, 0.00957868, 0.02825792, 0.00957868, 0.00957868,\n",
       "       0.03283913, 0.00957868, 0.        , 0.02825792, 0.00957868,\n",
       "       0.02825792, 0.        , 0.00957868, 0.00957868, 0.00957868])"
      ]
     },
     "execution_count": 199,
     "metadata": {},
     "output_type": "execute_result"
    }
   ],
   "source": [
    "mcsv['at0bcen'].values[mbins]"
   ]
  },
  {
   "cell_type": "code",
   "execution_count": 202,
   "id": "1be628fa",
   "metadata": {},
   "outputs": [],
   "source": [
    "qcdfile = util.load(f'../outputs/QCD_2016.coffea')"
   ]
  },
  {
   "cell_type": "code",
   "execution_count": 209,
   "id": "0594e677",
   "metadata": {},
   "outputs": [
    {
     "data": {
      "text/plain": [
       "array([0.00000000e+00, 0.00000000e+00, 0.00000000e+00, 0.00000000e+00,\n",
       "       0.00000000e+00, 0.00000000e+00, 0.00000000e+00, 0.00000000e+00,\n",
       "       0.00000000e+00, 0.00000000e+00, 2.52478069e-08, 3.04080636e-07,\n",
       "       8.70998433e-07, 1.47814509e-06, 1.04100185e-06, 1.25910178e-06,\n",
       "       1.41757937e-06, 1.73558173e-06, 9.84309064e-07, 1.42726135e-06,\n",
       "       1.44039576e-06, 2.75280300e-07, 2.28666923e-07, 1.33773422e-07,\n",
       "       7.57524391e-08, 3.11545845e-08, 1.33427762e-08, 2.48417761e-08,\n",
       "       7.80186908e-09, 3.01755657e-09, 7.13076366e-09, 1.01725612e-08,\n",
       "       1.38713286e-09, 3.34282503e-10, 6.76411445e-10, 5.52272194e-10,\n",
       "       5.26103367e-10, 7.44152017e-10, 1.22090357e-09, 2.07592312e-10,\n",
       "       2.62665140e-10, 2.21191033e-10, 4.43096820e-12, 4.67514320e-11,\n",
       "       6.57216644e-11, 5.56804303e-11, 1.41271774e-10, 7.04712843e-11,\n",
       "       2.13078393e-11, 5.57718435e-11])"
      ]
     },
     "execution_count": 209,
     "metadata": {},
     "output_type": "execute_result"
    }
   ],
   "source": [
    "qcdfile['jetmass'][{'dataset':sum, 'anacat':label_to_int_dict['2t0bcen']}].values()"
   ]
  },
  {
   "cell_type": "code",
   "execution_count": 215,
   "id": "2ed7e67c",
   "metadata": {},
   "outputs": [
    {
     "data": {
      "text/plain": [
       "array([  0.,  10.,  20.,  30.,  40.,  50.,  60.,  70.,  80.,  90., 100.,\n",
       "       110., 120., 130., 140., 150., 160., 170., 180., 190., 200., 210.,\n",
       "       220., 230., 240., 250., 260., 270., 280., 290., 300., 310., 320.,\n",
       "       330., 340., 350., 360., 370., 380., 390., 400., 410., 420., 430.,\n",
       "       440., 450., 460., 470., 480., 490.])"
      ]
     },
     "execution_count": 215,
     "metadata": {},
     "output_type": "execute_result"
    }
   ],
   "source": [
    "qcdfile['jetmass'].axes['jetmass'].centers - qcdfile['jetmass'].axes['jetmass'].widths/2"
   ]
  },
  {
   "cell_type": "code",
   "execution_count": null,
   "id": "283cff47",
   "metadata": {},
   "outputs": [],
   "source": []
  }
 ],
 "metadata": {
  "kernelspec": {
   "display_name": "Python 3 (ipykernel)",
   "language": "python",
   "name": "python3"
  },
  "language_info": {
   "codemirror_mode": {
    "name": "ipython",
    "version": 3
   },
   "file_extension": ".py",
   "mimetype": "text/x-python",
   "name": "python",
   "nbconvert_exporter": "python",
   "pygments_lexer": "ipython3",
   "version": "3.8.15"
  }
 },
 "nbformat": 4,
 "nbformat_minor": 5
}
