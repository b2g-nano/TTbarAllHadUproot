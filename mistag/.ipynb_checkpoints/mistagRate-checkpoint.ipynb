{
 "cells": [
  {
   "cell_type": "code",
   "execution_count": 117,
   "id": "962a6d17",
   "metadata": {},
   "outputs": [],
   "source": [
    "import coffea\n",
    "from coffea import util\n",
    "import numpy as np\n",
    "import pandas as pd\n",
    "import itertools\n",
    "import os"
   ]
  },
  {
   "cell_type": "code",
   "execution_count": 30,
   "id": "f164bd2d",
   "metadata": {},
   "outputs": [],
   "source": [
    "# analysis categories #\n",
    "ttagcats = [\"AT&Pt\", \"at\", \"pret\", \"0t\", \"1t\", \">=1t\", \"2t\", \">=0t\"] \n",
    "btagcats = [\"0b\", \"1b\", \"2b\"]\n",
    "ycats = ['cen', 'fwd']\n",
    "\n",
    "anacats = [ t+b+y for t,b,y in itertools.product( ttagcats, btagcats, ycats) ]\n",
    "label_dict = {i: label for i, label in enumerate(anacats)}\n",
    "label_to_int_dict = {label: i for i, label in enumerate(anacats)}"
   ]
  },
  {
   "cell_type": "code",
   "execution_count": null,
   "id": "482be51d",
   "metadata": {},
   "outputs": [],
   "source": [
    "coffea_dir = '../outputs/'"
   ]
  },
  {
   "cell_type": "code",
   "execution_count": 129,
   "id": "7a2c463f",
   "metadata": {},
   "outputs": [
    {
     "ename": "SyntaxError",
     "evalue": "invalid syntax (1248006893.py, line 34)",
     "output_type": "error",
     "traceback": [
      "\u001b[0;36m  Cell \u001b[0;32mIn[129], line 34\u001b[0;36m\u001b[0m\n\u001b[0;31m    jetht = util.load('../outputs/JetHT_2016F.coffea')\u001b[0m\n\u001b[0m    ^\u001b[0m\n\u001b[0;31mSyntaxError\u001b[0m\u001b[0;31m:\u001b[0m invalid syntax\n"
     ]
    }
   ],
   "source": [
    "coffeaFiles = {\n",
    "    \"JetHT\":{\n",
    "        \"2016APV\": coffea_dir+'JetHT_2016F.coffea',\n",
    "        \"2016\": {\n",
    "            \"F\": coffea_dir+'JetHT_2016F.coffea',\n",
    "            \"G\": coffea_dir+'JetHT_2016F.coffea',\n",
    "            \"H\": ''\n",
    "        }\n",
    "        \"2017\": '',\n",
    "        \"2018\": ''\n",
    "    },\n",
    "    \n",
    "    \"TTbar\": {\n",
    "        \"2016APV\": {\n",
    "            \"700to1000\": '',\n",
    "            \"1000toInf\": '',\n",
    "        },\n",
    "        \"2016\": {\n",
    "            \"700to1000\": coffea_dir+'TTbar_2016_700to_1000.coffea',\n",
    "            \"1000toInf\": coffea_dir+'TTbar_2016_1000toInf.coffea',\n",
    "        },\n",
    "        \"2017\": {\n",
    "            \"700to1000\": '',\n",
    "            \"1000toInf\": '',\n",
    "        },\n",
    "        \"2018\": {\n",
    "            \"700to1000\": '',\n",
    "            \"1000toInf\": '',\n",
    "        }\n",
    "    }\n",
    "}\n",
    "\n",
    "\n",
    "\n",
    "jetht = util.load('../outputs/JetHT_2016F.coffea')\n",
    "ttbar_700to1000 = util.load('../outputs/TTbar_2016_700to_1000.coffea')\n",
    "ttbar_1000toInf = util.load('../outputs/TTbar_2016_700to_1000.coffea')"
   ]
  },
  {
   "cell_type": "code",
   "execution_count": 125,
   "id": "87f1a6d0",
   "metadata": {},
   "outputs": [],
   "source": [
    "IOV = '2016'\n",
    "\n",
    "jetht_files = []\n",
    "\n",
    "for file in coffeaFiles['JetHT'][IOV]:\n",
    "    print(file)\n",
    "    print(os.path.isfile(file))\n"
   ]
  },
  {
   "cell_type": "code",
   "execution_count": 127,
   "id": "df4a7ac7",
   "metadata": {},
   "outputs": [
    {
     "data": {
      "text/plain": [
       "{'2016APV': '../outputs/JetHT_2016F.coffea',\n",
       " '2016': '',\n",
       " '2017': '',\n",
       " '2018': ''}"
      ]
     },
     "execution_count": 127,
     "metadata": {},
     "output_type": "execute_result"
    }
   ],
   "source": [
    "coffeaFiles['JetHT']"
   ]
  },
  {
   "cell_type": "code",
   "execution_count": 76,
   "id": "b08f7fe5",
   "metadata": {},
   "outputs": [
    {
     "data": {
      "text/plain": [
       "array([ 400.,  500.,  600.,  800., 1000., 1500., 2000., 3000., 7000.])"
      ]
     },
     "execution_count": 76,
     "metadata": {},
     "output_type": "execute_result"
    }
   ],
   "source": [
    "# pbins = numerator.axes['jetp'].centers - numerator.axes['jetp'].widths/2\n",
    "pbins = np.array([ 400.,  500.,  600.,  800., 1000., 1500., 2000., 3000., 7000.])"
   ]
  },
  {
   "cell_type": "code",
   "execution_count": null,
   "id": "3011f949",
   "metadata": {},
   "outputs": [],
   "source": []
  },
  {
   "cell_type": "code",
   "execution_count": 115,
   "id": "59f583b8",
   "metadata": {},
   "outputs": [
    {
     "name": "stderr",
     "output_type": "stream",
     "text": [
      "/tmp/ipykernel_33/2545810300.py:13: RuntimeWarning: invalid value encountered in divide\n",
      "  mistag_rate = (jetht_numerator / jetht_denominator) - (ttbar_numerator / ttbar_denominator)\n"
     ]
    }
   ],
   "source": [
    "mistag_rate_dict = {}\n",
    "mistag_rate_dict[\"jetp bins\"] = pbins\n",
    "\n",
    "for i, label in label_dict.items():\n",
    "    \n",
    "    jetht_numerator   = jetht['numerator'][{'dataset':sum, 'anacat':i}].values()\n",
    "    jetht_denominator = jetht['denominator'][{'dataset':sum, 'anacat':i}].values()\n",
    "\n",
    "    ttbar_numerator   = ttbar['numerator'][{'dataset':sum, 'anacat':i}].values() * ttbar_SF['700to1000']\n",
    "    ttbar_denominator = ttbar['denominator'][{'dataset':sum, 'anacat':i}].values() * ttbar_SF['700to1000']\n",
    "\n",
    "    mistag_rate = (jetht_numerator / jetht_denominator) - (ttbar_numerator / ttbar_denominator)\n",
    "    mistag_rate[np.isnan(mistag_rate)] = 0.\n",
    "\n",
    "    mistag_rate_dict[label] = mistag_rate\n",
    "        \n",
    "        "
   ]
  },
  {
   "cell_type": "code",
   "execution_count": null,
   "id": "b59cc9af",
   "metadata": {},
   "outputs": [],
   "source": []
  },
  {
   "cell_type": "code",
   "execution_count": 116,
   "id": "e77162e8",
   "metadata": {},
   "outputs": [
    {
     "data": {
      "text/html": [
       "<div>\n",
       "<style scoped>\n",
       "    .dataframe tbody tr th:only-of-type {\n",
       "        vertical-align: middle;\n",
       "    }\n",
       "\n",
       "    .dataframe tbody tr th {\n",
       "        vertical-align: top;\n",
       "    }\n",
       "\n",
       "    .dataframe thead th {\n",
       "        text-align: right;\n",
       "    }\n",
       "</style>\n",
       "<table border=\"1\" class=\"dataframe\">\n",
       "  <thead>\n",
       "    <tr style=\"text-align: right;\">\n",
       "      <th></th>\n",
       "      <th>jetp bins</th>\n",
       "      <th>AT&amp;Pt0bcen</th>\n",
       "      <th>AT&amp;Pt0bfwd</th>\n",
       "      <th>AT&amp;Pt1bcen</th>\n",
       "      <th>AT&amp;Pt1bfwd</th>\n",
       "      <th>AT&amp;Pt2bcen</th>\n",
       "      <th>AT&amp;Pt2bfwd</th>\n",
       "      <th>at0bcen</th>\n",
       "      <th>at0bfwd</th>\n",
       "      <th>at1bcen</th>\n",
       "      <th>...</th>\n",
       "      <th>2t1bcen</th>\n",
       "      <th>2t1bfwd</th>\n",
       "      <th>2t2bcen</th>\n",
       "      <th>2t2bfwd</th>\n",
       "      <th>&gt;=0t0bcen</th>\n",
       "      <th>&gt;=0t0bfwd</th>\n",
       "      <th>&gt;=0t1bcen</th>\n",
       "      <th>&gt;=0t1bfwd</th>\n",
       "      <th>&gt;=0t2bcen</th>\n",
       "      <th>&gt;=0t2bfwd</th>\n",
       "    </tr>\n",
       "  </thead>\n",
       "  <tbody>\n",
       "    <tr>\n",
       "      <th>0</th>\n",
       "      <td>400.0</td>\n",
       "      <td>0.0</td>\n",
       "      <td>0.0</td>\n",
       "      <td>0.0</td>\n",
       "      <td>0.0</td>\n",
       "      <td>0.0</td>\n",
       "      <td>0.0</td>\n",
       "      <td>-0.101003</td>\n",
       "      <td>-0.121937</td>\n",
       "      <td>-0.167542</td>\n",
       "      <td>...</td>\n",
       "      <td>0.0</td>\n",
       "      <td>0.0</td>\n",
       "      <td>0.0</td>\n",
       "      <td>0.0</td>\n",
       "      <td>-0.101003</td>\n",
       "      <td>-0.121937</td>\n",
       "      <td>-0.167542</td>\n",
       "      <td>-0.221867</td>\n",
       "      <td>-0.364315</td>\n",
       "      <td>-0.383674</td>\n",
       "    </tr>\n",
       "    <tr>\n",
       "      <th>1</th>\n",
       "      <td>500.0</td>\n",
       "      <td>0.0</td>\n",
       "      <td>0.0</td>\n",
       "      <td>0.0</td>\n",
       "      <td>0.0</td>\n",
       "      <td>0.0</td>\n",
       "      <td>0.0</td>\n",
       "      <td>-0.148990</td>\n",
       "      <td>-0.128270</td>\n",
       "      <td>-0.176418</td>\n",
       "      <td>...</td>\n",
       "      <td>0.0</td>\n",
       "      <td>0.0</td>\n",
       "      <td>0.0</td>\n",
       "      <td>0.0</td>\n",
       "      <td>-0.148990</td>\n",
       "      <td>-0.128270</td>\n",
       "      <td>-0.176418</td>\n",
       "      <td>-0.220373</td>\n",
       "      <td>-0.125241</td>\n",
       "      <td>-0.140052</td>\n",
       "    </tr>\n",
       "    <tr>\n",
       "      <th>2</th>\n",
       "      <td>600.0</td>\n",
       "      <td>0.0</td>\n",
       "      <td>0.0</td>\n",
       "      <td>0.0</td>\n",
       "      <td>0.0</td>\n",
       "      <td>0.0</td>\n",
       "      <td>0.0</td>\n",
       "      <td>-0.138106</td>\n",
       "      <td>-0.145616</td>\n",
       "      <td>-0.178931</td>\n",
       "      <td>...</td>\n",
       "      <td>0.0</td>\n",
       "      <td>0.0</td>\n",
       "      <td>0.0</td>\n",
       "      <td>0.0</td>\n",
       "      <td>-0.138106</td>\n",
       "      <td>-0.145616</td>\n",
       "      <td>-0.178931</td>\n",
       "      <td>-0.201935</td>\n",
       "      <td>-0.200557</td>\n",
       "      <td>-0.169508</td>\n",
       "    </tr>\n",
       "    <tr>\n",
       "      <th>3</th>\n",
       "      <td>800.0</td>\n",
       "      <td>0.0</td>\n",
       "      <td>0.0</td>\n",
       "      <td>0.0</td>\n",
       "      <td>0.0</td>\n",
       "      <td>0.0</td>\n",
       "      <td>0.0</td>\n",
       "      <td>-0.110815</td>\n",
       "      <td>-0.114892</td>\n",
       "      <td>-0.144118</td>\n",
       "      <td>...</td>\n",
       "      <td>0.0</td>\n",
       "      <td>0.0</td>\n",
       "      <td>0.0</td>\n",
       "      <td>0.0</td>\n",
       "      <td>-0.110815</td>\n",
       "      <td>-0.114892</td>\n",
       "      <td>-0.144118</td>\n",
       "      <td>-0.144128</td>\n",
       "      <td>-0.145199</td>\n",
       "      <td>-0.215783</td>\n",
       "    </tr>\n",
       "    <tr>\n",
       "      <th>4</th>\n",
       "      <td>1000.0</td>\n",
       "      <td>0.0</td>\n",
       "      <td>0.0</td>\n",
       "      <td>0.0</td>\n",
       "      <td>0.0</td>\n",
       "      <td>0.0</td>\n",
       "      <td>0.0</td>\n",
       "      <td>-0.084134</td>\n",
       "      <td>-0.068458</td>\n",
       "      <td>-0.120054</td>\n",
       "      <td>...</td>\n",
       "      <td>0.0</td>\n",
       "      <td>0.0</td>\n",
       "      <td>0.0</td>\n",
       "      <td>0.0</td>\n",
       "      <td>-0.084134</td>\n",
       "      <td>-0.068458</td>\n",
       "      <td>-0.120054</td>\n",
       "      <td>-0.082093</td>\n",
       "      <td>-0.191290</td>\n",
       "      <td>-0.136616</td>\n",
       "    </tr>\n",
       "    <tr>\n",
       "      <th>5</th>\n",
       "      <td>1500.0</td>\n",
       "      <td>0.0</td>\n",
       "      <td>0.0</td>\n",
       "      <td>0.0</td>\n",
       "      <td>0.0</td>\n",
       "      <td>0.0</td>\n",
       "      <td>0.0</td>\n",
       "      <td>-0.030017</td>\n",
       "      <td>-0.045395</td>\n",
       "      <td>-0.068220</td>\n",
       "      <td>...</td>\n",
       "      <td>0.0</td>\n",
       "      <td>0.0</td>\n",
       "      <td>0.0</td>\n",
       "      <td>0.0</td>\n",
       "      <td>-0.030017</td>\n",
       "      <td>-0.045395</td>\n",
       "      <td>-0.068220</td>\n",
       "      <td>-0.066876</td>\n",
       "      <td>-0.247871</td>\n",
       "      <td>-0.062590</td>\n",
       "    </tr>\n",
       "    <tr>\n",
       "      <th>6</th>\n",
       "      <td>2000.0</td>\n",
       "      <td>0.0</td>\n",
       "      <td>0.0</td>\n",
       "      <td>0.0</td>\n",
       "      <td>0.0</td>\n",
       "      <td>0.0</td>\n",
       "      <td>0.0</td>\n",
       "      <td>0.012541</td>\n",
       "      <td>-0.057114</td>\n",
       "      <td>-0.048510</td>\n",
       "      <td>...</td>\n",
       "      <td>0.0</td>\n",
       "      <td>0.0</td>\n",
       "      <td>0.0</td>\n",
       "      <td>0.0</td>\n",
       "      <td>0.012541</td>\n",
       "      <td>-0.057114</td>\n",
       "      <td>-0.048510</td>\n",
       "      <td>-0.036137</td>\n",
       "      <td>-0.169757</td>\n",
       "      <td>-0.064490</td>\n",
       "    </tr>\n",
       "    <tr>\n",
       "      <th>7</th>\n",
       "      <td>3000.0</td>\n",
       "      <td>0.0</td>\n",
       "      <td>0.0</td>\n",
       "      <td>0.0</td>\n",
       "      <td>0.0</td>\n",
       "      <td>0.0</td>\n",
       "      <td>0.0</td>\n",
       "      <td>0.000000</td>\n",
       "      <td>0.011236</td>\n",
       "      <td>0.000000</td>\n",
       "      <td>...</td>\n",
       "      <td>0.0</td>\n",
       "      <td>0.0</td>\n",
       "      <td>0.0</td>\n",
       "      <td>0.0</td>\n",
       "      <td>0.000000</td>\n",
       "      <td>0.011236</td>\n",
       "      <td>0.000000</td>\n",
       "      <td>0.047619</td>\n",
       "      <td>0.000000</td>\n",
       "      <td>0.000000</td>\n",
       "    </tr>\n",
       "    <tr>\n",
       "      <th>8</th>\n",
       "      <td>7000.0</td>\n",
       "      <td>0.0</td>\n",
       "      <td>0.0</td>\n",
       "      <td>0.0</td>\n",
       "      <td>0.0</td>\n",
       "      <td>0.0</td>\n",
       "      <td>0.0</td>\n",
       "      <td>0.000000</td>\n",
       "      <td>0.000000</td>\n",
       "      <td>0.000000</td>\n",
       "      <td>...</td>\n",
       "      <td>0.0</td>\n",
       "      <td>0.0</td>\n",
       "      <td>0.0</td>\n",
       "      <td>0.0</td>\n",
       "      <td>0.000000</td>\n",
       "      <td>0.000000</td>\n",
       "      <td>0.000000</td>\n",
       "      <td>0.000000</td>\n",
       "      <td>0.000000</td>\n",
       "      <td>0.000000</td>\n",
       "    </tr>\n",
       "  </tbody>\n",
       "</table>\n",
       "<p>9 rows × 49 columns</p>\n",
       "</div>"
      ],
      "text/plain": [
       "   jetp bins  AT&Pt0bcen  AT&Pt0bfwd  AT&Pt1bcen  AT&Pt1bfwd  AT&Pt2bcen  \\\n",
       "0      400.0         0.0         0.0         0.0         0.0         0.0   \n",
       "1      500.0         0.0         0.0         0.0         0.0         0.0   \n",
       "2      600.0         0.0         0.0         0.0         0.0         0.0   \n",
       "3      800.0         0.0         0.0         0.0         0.0         0.0   \n",
       "4     1000.0         0.0         0.0         0.0         0.0         0.0   \n",
       "5     1500.0         0.0         0.0         0.0         0.0         0.0   \n",
       "6     2000.0         0.0         0.0         0.0         0.0         0.0   \n",
       "7     3000.0         0.0         0.0         0.0         0.0         0.0   \n",
       "8     7000.0         0.0         0.0         0.0         0.0         0.0   \n",
       "\n",
       "   AT&Pt2bfwd   at0bcen   at0bfwd   at1bcen  ...  2t1bcen  2t1bfwd  2t2bcen  \\\n",
       "0         0.0 -0.101003 -0.121937 -0.167542  ...      0.0      0.0      0.0   \n",
       "1         0.0 -0.148990 -0.128270 -0.176418  ...      0.0      0.0      0.0   \n",
       "2         0.0 -0.138106 -0.145616 -0.178931  ...      0.0      0.0      0.0   \n",
       "3         0.0 -0.110815 -0.114892 -0.144118  ...      0.0      0.0      0.0   \n",
       "4         0.0 -0.084134 -0.068458 -0.120054  ...      0.0      0.0      0.0   \n",
       "5         0.0 -0.030017 -0.045395 -0.068220  ...      0.0      0.0      0.0   \n",
       "6         0.0  0.012541 -0.057114 -0.048510  ...      0.0      0.0      0.0   \n",
       "7         0.0  0.000000  0.011236  0.000000  ...      0.0      0.0      0.0   \n",
       "8         0.0  0.000000  0.000000  0.000000  ...      0.0      0.0      0.0   \n",
       "\n",
       "   2t2bfwd  >=0t0bcen  >=0t0bfwd  >=0t1bcen  >=0t1bfwd  >=0t2bcen  >=0t2bfwd  \n",
       "0      0.0  -0.101003  -0.121937  -0.167542  -0.221867  -0.364315  -0.383674  \n",
       "1      0.0  -0.148990  -0.128270  -0.176418  -0.220373  -0.125241  -0.140052  \n",
       "2      0.0  -0.138106  -0.145616  -0.178931  -0.201935  -0.200557  -0.169508  \n",
       "3      0.0  -0.110815  -0.114892  -0.144118  -0.144128  -0.145199  -0.215783  \n",
       "4      0.0  -0.084134  -0.068458  -0.120054  -0.082093  -0.191290  -0.136616  \n",
       "5      0.0  -0.030017  -0.045395  -0.068220  -0.066876  -0.247871  -0.062590  \n",
       "6      0.0   0.012541  -0.057114  -0.048510  -0.036137  -0.169757  -0.064490  \n",
       "7      0.0   0.000000   0.011236   0.000000   0.047619   0.000000   0.000000  \n",
       "8      0.0   0.000000   0.000000   0.000000   0.000000   0.000000   0.000000  \n",
       "\n",
       "[9 rows x 49 columns]"
      ]
     },
     "execution_count": 116,
     "metadata": {},
     "output_type": "execute_result"
    }
   ],
   "source": [
    "df_mistag = pd.DataFrame(data=mistag_rate_dict)"
   ]
  },
  {
   "cell_type": "code",
   "execution_count": 99,
   "id": "4cd063f7",
   "metadata": {},
   "outputs": [
    {
     "name": "stderr",
     "output_type": "stream",
     "text": [
      "/tmp/ipykernel_33/1322345589.py:1: RuntimeWarning: invalid value encountered in divide\n",
      "  np.where(ttbar_denominator > 1e-7, ttbar_numerator / ttbar_denominator, 0.)\n"
     ]
    },
    {
     "data": {
      "text/plain": [
       "array([0.24161602, 0.24673043, 0.23924274, 0.19126429, 0.16562336,\n",
       "       0.10668181, 0.07024908, 0.        , 0.        ])"
      ]
     },
     "execution_count": 99,
     "metadata": {},
     "output_type": "execute_result"
    }
   ],
   "source": [
    "np.where(ttbar_denominator > 1e-7, ttbar_numerator / ttbar_denominator, 0.)"
   ]
  },
  {
   "cell_type": "code",
   "execution_count": 92,
   "id": "27f88365",
   "metadata": {},
   "outputs": [
    {
     "data": {
      "text/plain": [
       "array([-0.16754195, -0.17641793, -0.17893146, -0.14411789, -0.12005374,\n",
       "       -0.06822027, -0.04850995,  0.        ,  0.        ])"
      ]
     },
     "execution_count": 92,
     "metadata": {},
     "output_type": "execute_result"
    }
   ],
   "source": [
    "mistag_rate"
   ]
  },
  {
   "cell_type": "code",
   "execution_count": 85,
   "id": "642bce50",
   "metadata": {},
   "outputs": [
    {
     "data": {
      "text/plain": [
       "(array([ 4.,  9., 31., 19., 18.,  4.,  1.,  0.,  0.]),\n",
       " array([ 4.,  9., 31., 19., 18.,  4.,  1.,  0.,  0.]))"
      ]
     },
     "execution_count": 85,
     "metadata": {},
     "output_type": "execute_result"
    }
   ],
   "source": [
    "jetht_numerator.view().value, jetht_numerator.values()"
   ]
  },
  {
   "cell_type": "code",
   "execution_count": 21,
   "id": "0af593b4",
   "metadata": {},
   "outputs": [],
   "source": [
    "# https://twiki.cern.ch/twiki/bin/viewauth/CMS/PdmVAnalysisSummaryTable\n",
    "luminosity = {\n",
    "    \"2016APV\": 19800.,\n",
    "    \"2016\": 16120., #35920 - 19800\n",
    "    \"2017\": 41530.,\n",
    "    \"2018\": 59740.\n",
    "}\n",
    "\n",
    "ttbar_evts = {}\n",
    "ttbar_evts[\"700to1000\"] = ttbar_700to1000['cutflow']['sumw']\n",
    "ttbar_evts[\"1000toInf\"] = ttbar_1000toInf['cutflow']['sumw']\n",
    "\n",
    "ttbar_xs = {}\n",
    "ttbar_xs[\"700to1000\"] = 831.76 * (0.09210)\n",
    "ttbar_xs[\"1000toInf\"] = 831.76 * (0.02474)\n",
    "toptag_sf = 0.9\n",
    "toptag_kf = 0.7"
   ]
  },
  {
   "cell_type": "code",
   "execution_count": 22,
   "id": "e26ffd8b",
   "metadata": {},
   "outputs": [],
   "source": [
    "\n",
    "IOV = \"2016\"\n",
    "ttbar_SF = {}\n",
    "ttbar_SF[\"700to1000\"] = luminosity[IOV] * ttbar_xs[\"700to1000\"] * toptag_sf**2 * toptag_kf / ttbar_evts[\"1000toInf\"]\n",
    "ttbar_SF[\"1000toInf\"] = luminosity[IOV] * ttbar_xs[\"1000toInf\"] * toptag_sf**2 * toptag_kf / ttbar_evts[\"1000toInf\"]\n",
    "\n"
   ]
  },
  {
   "cell_type": "code",
   "execution_count": 23,
   "id": "8f43dd7a",
   "metadata": {},
   "outputs": [
    {
     "data": {
      "text/plain": [
       "{'700to1000': 3.1085710282647536e-05, '1000toInf': 8.350276573210641e-06}"
      ]
     },
     "execution_count": 23,
     "metadata": {},
     "output_type": "execute_result"
    }
   ],
   "source": [
    "ttbar_SF"
   ]
  },
  {
   "cell_type": "code",
   "execution_count": null,
   "id": "10ec2b05",
   "metadata": {},
   "outputs": [],
   "source": []
  }
 ],
 "metadata": {
  "kernelspec": {
   "display_name": "Python 3 (ipykernel)",
   "language": "python",
   "name": "python3"
  },
  "language_info": {
   "codemirror_mode": {
    "name": "ipython",
    "version": 3
   },
   "file_extension": ".py",
   "mimetype": "text/x-python",
   "name": "python",
   "nbconvert_exporter": "python",
   "pygments_lexer": "ipython3",
   "version": "3.8.15"
  }
 },
 "nbformat": 4,
 "nbformat_minor": 5
}
