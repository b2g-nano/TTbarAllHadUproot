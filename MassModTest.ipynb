{
 "cells": [
  {
   "cell_type": "code",
   "execution_count": null,
   "id": "b22b58c9-dd62-4830-af88-74f40d3b0b41",
   "metadata": {},
   "outputs": [],
   "source": [
    "import os\n",
    "import hist\n",
    "from coffea import util\n",
    "import numpy as np\n",
    "import itertools\n",
    "import mplhep as hep\n",
    "import matplotlib.pyplot as plt\n",
    "import scipy.stats as ss\n",
    "\n",
    "import warnings\n",
    "import re # regular expressions\n",
    "warnings.filterwarnings(\"ignore\")"
   ]
  },
  {
   "cell_type": "code",
   "execution_count": null,
   "id": "b45e8bb1-b3c4-4d3f-af4f-5df9338bec46",
   "metadata": {},
   "outputs": [],
   "source": [
    "dir1 = 'CoffeaOutputs/UnweightedOutputs/'\n",
    "dir2 = 'CoffeaOutputsForCombine/Coffea_FirstRun/'\n",
    "\n",
    "btagdir = 'MediumBTag/'\n",
    "yeardir = '2016/'\n",
    "apvdir = 'noAPV/'"
   ]
  },
  {
   "cell_type": "code",
   "execution_count": null,
   "id": "4de0edcd-442f-4476-96ac-489d3b4f57a5",
   "metadata": {},
   "outputs": [],
   "source": [
    "def ConvertLabelToInt(mapping, str_label):\n",
    "    for intkey, string in mapping.items():\n",
    "        if str_label == string:\n",
    "            return intkey\n",
    "\n",
    "ttagcats = [\"AT&Pt\", \"at\", \"pret\", \">=0t\", \"0t\", \">=1t\", \"1t\", \"2t\"]\n",
    "btagcats = [\"0b\", \"1b\", \"2b\"]\n",
    "ycats = ['cen', 'fwd']\n",
    "\n",
    "list_of_cats = [ t+b+y for t,b,y in itertools.product( ttagcats, btagcats, ycats) ]\n",
    "label_cats_dict = {i: label for i, label in enumerate(list_of_cats)}"
   ]
  },
  {
   "cell_type": "code",
   "execution_count": null,
   "id": "5806b35c-6cc2-4eb2-bbee-750cff11fe51",
   "metadata": {},
   "outputs": [],
   "source": [
    "QCD_file = util.load(dir2+'QCD/'+btagdir+yeardir+apvdir+'TTbarRes_0l_UL16postVFP_QCD.coffea')"
   ]
  },
  {
   "cell_type": "code",
   "execution_count": null,
   "id": "1238afbb-acd9-42e4-9f16-7b64d39fff3e",
   "metadata": {},
   "outputs": [],
   "source": [
    "dataset = 'UL16postVFP_QCD'"
   ]
  },
  {
   "cell_type": "code",
   "execution_count": null,
   "id": "3e73c5c0-2580-46ab-8413-4fe015a97cf5",
   "metadata": {},
   "outputs": [],
   "source": [
    "# for ilabel in list_of_cats:\n",
    "# fig = plt.figure()\n",
    "# ax = fig.add_axes([0,0,1,1])\n",
    "# ax.set_title(ilabel)\n",
    "ilabel = '2t0bcen'\n",
    "QCD_hist = QCD_file['jetmass'][dataset, ConvertLabelToInt(label_cats_dict, '2t' + str(ilabel[-5:])), :]\n",
    "QCD_hist.plot1d(histtype='fill', color='yellow')\n",
    "\n",
    "QCD_data = QCD_hist.view().value\n",
    "print(QCD_data)\n",
    "\n",
    "# QCD_data = [i for i in data.view()] # place every element of the dictionary into a numpy array\n",
    "# print(QCD_data)\n",
    "\n",
    "# ---- Re-create Bins from QCD_hist as Numpy Array ---- #\n",
    "bins = np.arange(510) #Re-make bins from the jetmass_axis starting with the appropriate range\n",
    "QCD_bins = bins[::10] #Finish re-making bins by insuring exactly 50 bins like the jetmass_axis\n",
    "\n",
    "# ---- Define Mod Mass Distribution ---- #\n",
    "ModMass_hist_dist = ss.rv_histogram([QCD_data,QCD_bins])\n",
    "ModMass_hist_dist.rvs(size=100)"
   ]
  },
  {
   "cell_type": "code",
   "execution_count": null,
   "id": "3fac5054-74d6-4cff-a31b-4ad76cc5e7df",
   "metadata": {},
   "outputs": [],
   "source": []
  }
 ],
 "metadata": {
  "kernelspec": {
   "display_name": "Python 3 (ipykernel)",
   "language": "python",
   "name": "python3"
  },
  "language_info": {
   "codemirror_mode": {
    "name": "ipython",
    "version": 3
   },
   "file_extension": ".py",
   "mimetype": "text/x-python",
   "name": "python",
   "nbconvert_exporter": "python",
   "pygments_lexer": "ipython3",
   "version": "3.8.13"
  }
 },
 "nbformat": 4,
 "nbformat_minor": 5
}
