{
 "cells": [
  {
   "cell_type": "code",
   "execution_count": 1,
   "id": "b8255544-a3f9-415a-b67c-5fd3dddc8b88",
   "metadata": {},
   "outputs": [
    {
     "name": "stderr",
     "output_type": "stream",
     "text": [
      "/opt/conda/lib/python3.8/site-packages/awkward0/__init__.py:8: DeprecationWarning: distutils Version classes are deprecated. Use packaging.version instead.\n",
      "  if distutils.version.LooseVersion(numpy.__version__) < distutils.version.LooseVersion(\"1.13.1\"):\n"
     ]
    }
   ],
   "source": [
    "import uproot\n",
    "from coffea import util\n",
    "import coffea\n",
    "from hist import Hist\n",
    "import awkward as ak\n",
    "from coffea.nanoevents import NanoEventsFactory, NanoAODSchema\n",
    "import matplotlib.pyplot as plt\n",
    "import uproot3\n",
    "import itertools\n",
    "import numpy as np\n",
    "import pandas as pd"
   ]
  },
  {
   "cell_type": "markdown",
   "id": "d42302aa-6d5c-4f1d-b182-8fbf360d3fda",
   "metadata": {
    "tags": []
   },
   "source": [
    "### Get contents of nanoaod"
   ]
  },
  {
   "cell_type": "code",
   "execution_count": 3,
   "id": "6b2b0769-a2df-47de-b753-5f239d981e17",
   "metadata": {},
   "outputs": [],
   "source": [
    "# fname = 'root://xcache//store/data/Run2016B/JetHT/NANOAOD/ver1_HIPM_UL2016_MiniAODv2_NanoAODv9-v2/2430000/341EF3A8-3C77-8C4F-A0F6-A71CCB9FAF37.root'\n",
    "# fname = 'root://xcache//store/mc/RunIISummer20UL16NanoAODv9/TT_Mtt-1000toInf_TuneCP5_13TeV-powheg-pythia8/NANOAODSIM/106X_mcRun2_asymptotic_v17-v1/270000/7B50DBA5-347A-7D43-8A65-68E0A5845EF3.root'\n",
    "fname = 'root://xcache//store/mc/RunIISummer20UL16NanoAODAPVv9/QCD_Pt-15to7000_TuneCP5_Flat2018_13TeV_pythia8/NANOAODSIM/106X_mcRun2_asymptotic_preVFP_v11-v1/280000/28D6431D-53B5-4848-9711-1004968A7B19.root'\n",
    "\n",
    "\n",
    "rfile = uproot.open(fname)\n",
    "events = NanoEventsFactory.from_root(fname, schemaclass=NanoAODSchema).events()\n",
    "# events.fields\n",
    "# events['LHEPdfWeight']\n"
   ]
  },
  {
   "cell_type": "code",
   "execution_count": 4,
   "id": "31278047-74c5-4952-bed0-9b08187ee9d0",
   "metadata": {},
   "outputs": [
    {
     "data": {
      "text/plain": [
       "(89300, 89300)"
      ]
     },
     "execution_count": 4,
     "metadata": {},
     "output_type": "execute_result"
    }
   ],
   "source": [
    "len(events.L1PreFiringWeight['Up']), len(events.event)"
   ]
  },
  {
   "cell_type": "code",
   "execution_count": 16,
   "id": "295dceef-dc48-4829-bf0b-7116d0b2c37d",
   "metadata": {},
   "outputs": [
    {
     "name": "stdout",
     "output_type": "stream",
     "text": [
      "genJetAK8Idx\n",
      "genJetAK8IdxG\n"
     ]
    }
   ],
   "source": [
    "for f in events.FatJet.fields: \n",
    "    if ('gen' in f.lower()):\n",
    "        print(f)"
   ]
  },
  {
   "cell_type": "code",
   "execution_count": 12,
   "id": "bc2af95a-319e-4a6a-bef0-51b60dff6f50",
   "metadata": {
    "tags": []
   },
   "outputs": [
    {
     "data": {
      "text/plain": [
       "<Array [44161, 44161, ... 103785, 103785] type='89300 * uint32[parameters={\"__do...'>"
      ]
     },
     "execution_count": 12,
     "metadata": {},
     "output_type": "execute_result"
    }
   ],
   "source": [
    "even"
   ]
  },
  {
   "cell_type": "code",
   "execution_count": 26,
   "id": "cab79b22-0578-456e-9f51-4cfff628fe0b",
   "metadata": {},
   "outputs": [
    {
     "data": {
      "text/plain": [
       "<Array [0.0179, 0.05, ... 1.79e-09, 1.6e-13] type='89300 * float32[parameters={\"...'>"
      ]
     },
     "execution_count": 26,
     "metadata": {},
     "output_type": "execute_result"
    }
   ],
   "source": [
    "events['Generator']['weight']"
   ]
  },
  {
   "cell_type": "code",
   "execution_count": 11,
   "id": "c30d216f-6bf8-439b-bf70-dd0c88f07920",
   "metadata": {},
   "outputs": [
    {
     "name": "stdout",
     "output_type": "stream",
     "text": [
      "binvar [32.2, 24.3, 15.8, 131, 23.9, 166, ... 2.19e+03, 4.15e+03, 49.4, 1.09e+03, 3.11e+03]\n",
      "scalePDF [32.3, 24.3, 15.8, 131, 23.9, 166, ... 2.19e+03, 4.15e+03, 49.4, 1.09e+03, 3.11e+03]\n",
      "weight [0.0179, 0.05, 0.229, 8.43e-05, 0.0529, ... 1.95e-15, 0.00372, 1.79e-09, 1.6e-13]\n",
      "x1 [0.00182, 0.000145, 0.00277, 0.242, 0.0285, ... 0.435, 0.502, 0.147, 0.243, 0.445]\n",
      "x2 [0.0179, 0.127, 0.00896, 0.00314, 0.00223, ... 0.324, 0.829, 0.0315, 0.131, 0.784]\n",
      "xpdf1 [18.3, 43.9, 13, 0.145, 0.503, 8.8, ... 0.28, 0.11, 0.0609, 0.312, 0.0113, 0.00182]\n",
      "xpdf2 [0.663, 0.728, 7.47, 16.9, 15.7, 0.244, ... 0.225, 0.000416, 3.41, 0.429, 0.00245]\n",
      "id1 [21, 21, 21, 21, 1, 21, 2, 21, 21, 2, 2, ... -3, 2, 3, 21, 21, 2, 2, 2, 1, -2, -1]\n",
      "id2 [2, 21, 21, 21, 21, 21, 2, 21, 21, 21, 1, ... 21, 2, 21, 21, 1, 2, 2, -3, 21, 21, 2]\n"
     ]
    }
   ],
   "source": [
    "for field in events['Generator'].fields:\n",
    "    print(field, events['Generator'][field])\n",
    "# print(events['Generator']['xpdf1'])\n",
    "# print(events['Generator']['xpdf2'])\n"
   ]
  },
  {
   "cell_type": "code",
   "execution_count": 8,
   "id": "8b0c45be-3cc9-4309-bfcc-5bd962dbe841",
   "metadata": {},
   "outputs": [],
   "source": [
    "xpdf1 = events['Generator']['xpdf1']\n",
    "xpdf2 = events['Generator']['xpdf2']"
   ]
  },
  {
   "cell_type": "code",
   "execution_count": 19,
   "id": "bae23f84-7bfc-478e-a1b3-30173fc3b0d0",
   "metadata": {},
   "outputs": [
    {
     "ename": "SyntaxError",
     "evalue": "invalid syntax (3327667123.py, line 1)",
     "output_type": "error",
     "traceback": [
      "\u001b[0;36m  Input \u001b[0;32mIn [19]\u001b[0;36m\u001b[0m\n\u001b[0;31m    inline double weightxQ2(int id, double x, double Q2, const PDF& basepdf, const PDF& newpdf, double aschk=5e-2) {\u001b[0m\n\u001b[0m           ^\u001b[0m\n\u001b[0;31mSyntaxError\u001b[0m\u001b[0;31m:\u001b[0m invalid syntax\n"
     ]
    }
   ],
   "source": [
    "  inline double weightxQ2(int id, double x, double Q2, const PDF& basepdf, const PDF& newpdf, double aschk=5e-2) {\n",
    "    if (aschk >= 0) _checkAlphasQ2(Q2, basepdf, newpdf, aschk);\n",
    "    const double xf_base = basepdf.xfxQ2(id, x, Q2);\n",
    "    const double xf_new = newpdf.xfxQ2(id, x, Q2);\n",
    "    return xf_new / xf_base;\n",
    " \n",
    " \n",
    " \n",
    "  inline double weightxxQ2(int id1, int id2, double x1, double x2, double Q2, const PDF& basepdf, const PDF& newpdf, double aschk=5e-2) {\n",
    "    if (aschk >= 0) _checkAlphasQ2(Q2, basepdf, newpdf, aschk);\n",
    "    const double w1 = weightxQ2(id1, x1, Q2, basepdf, newpdf, -1);\n",
    "    const double w2 = weightxQ2(id2, x2, Q2, basepdf, newpdf, -1);\n",
    "    return w1 * w2;"
   ]
  },
  {
   "cell_type": "code",
   "execution_count": 20,
   "id": "562cf1ba-1cb2-400a-afcb-21c5412f3a45",
   "metadata": {},
   "outputs": [
    {
     "ename": "ModuleNotFoundError",
     "evalue": "No module named 'lhapdf'",
     "output_type": "error",
     "traceback": [
      "\u001b[0;31m---------------------------------------------------------------------------\u001b[0m",
      "\u001b[0;31mModuleNotFoundError\u001b[0m                       Traceback (most recent call last)",
      "Input \u001b[0;32mIn [20]\u001b[0m, in \u001b[0;36m<cell line: 1>\u001b[0;34m()\u001b[0m\n\u001b[0;32m----> 1\u001b[0m \u001b[38;5;28;01mimport\u001b[39;00m \u001b[38;5;21;01mlhapdf\u001b[39;00m\n",
      "\u001b[0;31mModuleNotFoundError\u001b[0m: No module named 'lhapdf'"
     ]
    }
   ],
   "source": [
    "import lhapdf"
   ]
  },
  {
   "cell_type": "code",
   "execution_count": 21,
   "id": "016f7c01-5711-4c3b-9d0a-77f33d24253d",
   "metadata": {},
   "outputs": [
    {
     "ename": "ModuleNotFoundError",
     "evalue": "No module named 'ROOT'",
     "output_type": "error",
     "traceback": [
      "\u001b[0;31m---------------------------------------------------------------------------\u001b[0m",
      "\u001b[0;31mModuleNotFoundError\u001b[0m                       Traceback (most recent call last)",
      "Input \u001b[0;32mIn [21]\u001b[0m, in \u001b[0;36m<cell line: 1>\u001b[0;34m()\u001b[0m\n\u001b[0;32m----> 1\u001b[0m \u001b[38;5;28;01mimport\u001b[39;00m \u001b[38;5;21;01mROOT\u001b[39;00m\n",
      "\u001b[0;31mModuleNotFoundError\u001b[0m: No module named 'ROOT'"
     ]
    }
   ],
   "source": [
    "import ROOT"
   ]
  },
  {
   "cell_type": "code",
   "execution_count": null,
   "id": "31696aae-79d9-4e37-883c-9fe0b8fb29b8",
   "metadata": {},
   "outputs": [],
   "source": [
    "\n",
    "\n",
    "def weightxQ2(x, Q2, basepdf, newpdf, idx):\n",
    "    \n",
    "    xf_base = basepdf.eval(idx, x, Q2)\n",
    "    xf_new  =  newpdf.eval(idx, x, Q2)\n",
    "    \n",
    "    return xf_new / xf_base\n",
    "    \n",
    "def weightxxQ2(x1, x2, Q2, basepdf, newpdf, pgdid)\n",
    "    \n",
    "    w1 = weightxQ2(x1, Q, basepdf, newpdf, id1)\n",
    "    w2 = weightxQ2(x2, Q, basepdf, newpdf, id1)\n",
    "\n",
    "    return w1 * w2    "
   ]
  },
  {
   "cell_type": "code",
   "execution_count": null,
   "id": "21d08689-3faa-441b-bd36-b32992da0b23",
   "metadata": {},
   "outputs": [],
   "source": [
    "def weightxxQ2(xpdf1, xpdf2)\n",
    "    \n",
    "    w1 = weightxQ2(x1, Q, basepdf, newpdf)\n",
    "    w2 = weightxQ2(x2, Q, basepdf, newpdf)\n",
    "\n",
    "    return w1 * w2"
   ]
  },
  {
   "cell_type": "code",
   "execution_count": 17,
   "id": "f0e6c27e-ebdc-46b3-a04d-d37007694388",
   "metadata": {},
   "outputs": [],
   "source": [
    "def weightxxQ2(xpdf1, xpdf2):\n",
    "    \n",
    "    xf1_new = np.ones_like(xpdf1)\n",
    "    xf1_base = np.ones_like(xpdf1)\n",
    "    xf2_new = np.ones_like(xpdf2)\n",
    "    xf2_base = np.ones_like(xpdf2)\n",
    "    \n",
    "    w1 = xf1_new / xf1_base\n",
    "    w2 = xf2_new / xf2_base\n",
    "\n",
    "    return w1 * w2\n",
    "    \n",
    "    "
   ]
  },
  {
   "cell_type": "code",
   "execution_count": 18,
   "id": "3bcd70ff-23cf-40d1-8d38-236446d11a3e",
   "metadata": {},
   "outputs": [
    {
     "data": {
      "text/plain": [
       "<Array [1, 1, 1, 1, 1, 1, ... 1, 1, 1, 1, 1, 1] type='89300 * float32'>"
      ]
     },
     "execution_count": 18,
     "metadata": {},
     "output_type": "execute_result"
    }
   ],
   "source": [
    "weightxxQ2(xpdf1, xpdf2)"
   ]
  },
  {
   "cell_type": "code",
   "execution_count": 5,
   "id": "5b16f3d1-0988-4f7e-89fa-2b2ace9998d3",
   "metadata": {},
   "outputs": [
    {
     "ename": "NameError",
     "evalue": "name 'pdf1' is not defined",
     "output_type": "error",
     "traceback": [
      "\u001b[0;31m---------------------------------------------------------------------------\u001b[0m",
      "\u001b[0;31mNameError\u001b[0m                                 Traceback (most recent call last)",
      "Input \u001b[0;32mIn [5]\u001b[0m, in \u001b[0;36m<cell line: 1>\u001b[0;34m()\u001b[0m\n\u001b[0;32m----> 1\u001b[0m \u001b[38;5;28mprint\u001b[39m(\u001b[43mpdf1\u001b[49m)\n\u001b[1;32m      2\u001b[0m \u001b[38;5;28mprint\u001b[39m(pdf2)\n",
      "\u001b[0;31mNameError\u001b[0m: name 'pdf1' is not defined"
     ]
    }
   ],
   "source": [
    "print(pdf1)\n",
    "print(pdf2)"
   ]
  },
  {
   "cell_type": "code",
   "execution_count": 6,
   "id": "afdda77b-e9cb-43f9-bd5b-cf0d83d1e2ca",
   "metadata": {},
   "outputs": [
    {
     "data": {
      "text/plain": [
       "['area',\n",
       " 'btagCSVV2',\n",
       " 'btagDDBvLV2',\n",
       " 'btagDDCvBV2',\n",
       " 'btagDDCvLV2',\n",
       " 'btagDeepB',\n",
       " 'btagHbb',\n",
       " 'deepTagMD_H4qvsQCD',\n",
       " 'deepTagMD_HbbvsQCD',\n",
       " 'deepTagMD_TvsQCD',\n",
       " 'deepTagMD_WvsQCD',\n",
       " 'deepTagMD_ZHbbvsQCD',\n",
       " 'deepTagMD_ZHccvsQCD',\n",
       " 'deepTagMD_ZbbvsQCD',\n",
       " 'deepTagMD_ZvsQCD',\n",
       " 'deepTagMD_bbvsLight',\n",
       " 'deepTagMD_ccvsLight',\n",
       " 'deepTag_H',\n",
       " 'deepTag_QCD',\n",
       " 'deepTag_QCDothers',\n",
       " 'deepTag_TvsQCD',\n",
       " 'deepTag_WvsQCD',\n",
       " 'deepTag_ZvsQCD',\n",
       " 'eta',\n",
       " 'mass',\n",
       " 'msoftdrop',\n",
       " 'n2b1',\n",
       " 'n3b1',\n",
       " 'particleNetMD_QCD',\n",
       " 'particleNetMD_Xbb',\n",
       " 'particleNetMD_Xcc',\n",
       " 'particleNetMD_Xqq',\n",
       " 'particleNet_H4qvsQCD',\n",
       " 'particleNet_HbbvsQCD',\n",
       " 'particleNet_HccvsQCD',\n",
       " 'particleNet_QCD',\n",
       " 'particleNet_TvsQCD',\n",
       " 'particleNet_WvsQCD',\n",
       " 'particleNet_ZvsQCD',\n",
       " 'particleNet_mass',\n",
       " 'phi',\n",
       " 'pt',\n",
       " 'rawFactor',\n",
       " 'tau1',\n",
       " 'tau2',\n",
       " 'tau3',\n",
       " 'tau4',\n",
       " 'lsf3',\n",
       " 'jetId',\n",
       " 'subJetIdx1',\n",
       " 'subJetIdx2',\n",
       " 'electronIdx3SJ',\n",
       " 'muonIdx3SJ',\n",
       " 'nConstituents',\n",
       " 'genJetAK8Idx',\n",
       " 'hadronFlavour',\n",
       " 'nBHadrons',\n",
       " 'nCHadrons',\n",
       " 'genJetAK8IdxG',\n",
       " 'subJetIdx1G',\n",
       " 'subJetIdx2G',\n",
       " 'subJetIdxG']"
      ]
     },
     "execution_count": 6,
     "metadata": {},
     "output_type": "execute_result"
    }
   ],
   "source": [
    "events.FatJet.fields"
   ]
  },
  {
   "cell_type": "markdown",
   "id": "5924beee-b3d5-4f6f-91ba-f5419c1ed66a",
   "metadata": {},
   "source": [
    "### load .coffea file"
   ]
  },
  {
   "cell_type": "code",
   "execution_count": 7,
   "id": "856cd7f7-60a6-430a-95ca-006d64deabeb",
   "metadata": {},
   "outputs": [
    {
     "ename": "FileNotFoundError",
     "evalue": "[Errno 2] No such file or directory: 'TTbar_output.coffea'",
     "output_type": "error",
     "traceback": [
      "\u001b[0;31m---------------------------------------------------------------------------\u001b[0m",
      "\u001b[0;31mFileNotFoundError\u001b[0m                         Traceback (most recent call last)",
      "Input \u001b[0;32mIn [7]\u001b[0m, in \u001b[0;36m<cell line: 2>\u001b[0;34m()\u001b[0m\n\u001b[1;32m      1\u001b[0m \u001b[38;5;66;03m# output = util.load('test.coffea')\u001b[39;00m\n\u001b[0;32m----> 2\u001b[0m output \u001b[38;5;241m=\u001b[39m \u001b[43mutil\u001b[49m\u001b[38;5;241;43m.\u001b[39;49m\u001b[43mload\u001b[49m\u001b[43m(\u001b[49m\u001b[38;5;124;43m'\u001b[39;49m\u001b[38;5;124;43mTTbar_output.coffea\u001b[39;49m\u001b[38;5;124;43m'\u001b[39;49m\u001b[43m)\u001b[49m\n",
      "File \u001b[0;32m/opt/conda/lib/python3.8/site-packages/coffea/util.py:33\u001b[0m, in \u001b[0;36mload\u001b[0;34m(filename)\u001b[0m\n\u001b[1;32m     31\u001b[0m \u001b[38;5;28;01mdef\u001b[39;00m \u001b[38;5;21mload\u001b[39m(filename):\n\u001b[1;32m     32\u001b[0m     \u001b[38;5;124;03m\"\"\"Load a coffea file from disk\"\"\"\u001b[39;00m\n\u001b[0;32m---> 33\u001b[0m     \u001b[38;5;28;01mwith\u001b[39;00m \u001b[43mlz4\u001b[49m\u001b[38;5;241;43m.\u001b[39;49m\u001b[43mframe\u001b[49m\u001b[38;5;241;43m.\u001b[39;49m\u001b[43mopen\u001b[49m\u001b[43m(\u001b[49m\u001b[43mfilename\u001b[49m\u001b[43m)\u001b[49m \u001b[38;5;28;01mas\u001b[39;00m fin:\n\u001b[1;32m     34\u001b[0m         output \u001b[38;5;241m=\u001b[39m cloudpickle\u001b[38;5;241m.\u001b[39mload(fin)\n\u001b[1;32m     35\u001b[0m     \u001b[38;5;28;01mreturn\u001b[39;00m output\n",
      "File \u001b[0;32m/opt/conda/lib/python3.8/site-packages/lz4/frame/__init__.py:846\u001b[0m, in \u001b[0;36mopen\u001b[0;34m(filename, mode, encoding, errors, newline, block_size, block_linked, compression_level, content_checksum, block_checksum, auto_flush, return_bytearray, source_size)\u001b[0m\n\u001b[1;32m    842\u001b[0m         \u001b[38;5;28;01mraise\u001b[39;00m \u001b[38;5;167;01mValueError\u001b[39;00m(\u001b[38;5;124m\"\u001b[39m\u001b[38;5;124mArgument \u001b[39m\u001b[38;5;124m'\u001b[39m\u001b[38;5;124mnewline\u001b[39m\u001b[38;5;124m'\u001b[39m\u001b[38;5;124m not supported in binary mode\u001b[39m\u001b[38;5;124m\"\u001b[39m)\n\u001b[1;32m    844\u001b[0m _mode \u001b[38;5;241m=\u001b[39m mode\u001b[38;5;241m.\u001b[39mreplace(\u001b[38;5;124m'\u001b[39m\u001b[38;5;124mt\u001b[39m\u001b[38;5;124m'\u001b[39m, \u001b[38;5;124m'\u001b[39m\u001b[38;5;124m'\u001b[39m)\n\u001b[0;32m--> 846\u001b[0m binary_file \u001b[38;5;241m=\u001b[39m \u001b[43mLZ4FrameFile\u001b[49m\u001b[43m(\u001b[49m\n\u001b[1;32m    847\u001b[0m \u001b[43m    \u001b[49m\u001b[43mfilename\u001b[49m\u001b[43m,\u001b[49m\n\u001b[1;32m    848\u001b[0m \u001b[43m    \u001b[49m\u001b[43mmode\u001b[49m\u001b[38;5;241;43m=\u001b[39;49m\u001b[43m_mode\u001b[49m\u001b[43m,\u001b[49m\n\u001b[1;32m    849\u001b[0m \u001b[43m    \u001b[49m\u001b[43mblock_size\u001b[49m\u001b[38;5;241;43m=\u001b[39;49m\u001b[43mblock_size\u001b[49m\u001b[43m,\u001b[49m\n\u001b[1;32m    850\u001b[0m \u001b[43m    \u001b[49m\u001b[43mblock_linked\u001b[49m\u001b[38;5;241;43m=\u001b[39;49m\u001b[43mblock_linked\u001b[49m\u001b[43m,\u001b[49m\n\u001b[1;32m    851\u001b[0m \u001b[43m    \u001b[49m\u001b[43mcompression_level\u001b[49m\u001b[38;5;241;43m=\u001b[39;49m\u001b[43mcompression_level\u001b[49m\u001b[43m,\u001b[49m\n\u001b[1;32m    852\u001b[0m \u001b[43m    \u001b[49m\u001b[43mcontent_checksum\u001b[49m\u001b[38;5;241;43m=\u001b[39;49m\u001b[43mcontent_checksum\u001b[49m\u001b[43m,\u001b[49m\n\u001b[1;32m    853\u001b[0m \u001b[43m    \u001b[49m\u001b[43mblock_checksum\u001b[49m\u001b[38;5;241;43m=\u001b[39;49m\u001b[43mblock_checksum\u001b[49m\u001b[43m,\u001b[49m\n\u001b[1;32m    854\u001b[0m \u001b[43m    \u001b[49m\u001b[43mauto_flush\u001b[49m\u001b[38;5;241;43m=\u001b[39;49m\u001b[43mauto_flush\u001b[49m\u001b[43m,\u001b[49m\n\u001b[1;32m    855\u001b[0m \u001b[43m    \u001b[49m\u001b[43mreturn_bytearray\u001b[49m\u001b[38;5;241;43m=\u001b[39;49m\u001b[43mreturn_bytearray\u001b[49m\u001b[43m,\u001b[49m\n\u001b[1;32m    856\u001b[0m \u001b[43m    \u001b[49m\u001b[43msource_size\u001b[49m\u001b[38;5;241;43m=\u001b[39;49m\u001b[43msource_size\u001b[49m\u001b[43m,\u001b[49m\n\u001b[1;32m    857\u001b[0m \u001b[43m\u001b[49m\u001b[43m)\u001b[49m\n\u001b[1;32m    859\u001b[0m \u001b[38;5;28;01mif\u001b[39;00m \u001b[38;5;124m'\u001b[39m\u001b[38;5;124mt\u001b[39m\u001b[38;5;124m'\u001b[39m \u001b[38;5;129;01min\u001b[39;00m mode:\n\u001b[1;32m    860\u001b[0m     \u001b[38;5;28;01mreturn\u001b[39;00m io\u001b[38;5;241m.\u001b[39mTextIOWrapper(binary_file, encoding, errors, newline)\n",
      "File \u001b[0;32m/opt/conda/lib/python3.8/site-packages/lz4/frame/__init__.py:512\u001b[0m, in \u001b[0;36mLZ4FrameFile.__init__\u001b[0;34m(self, filename, mode, block_size, block_linked, compression_level, content_checksum, block_checksum, auto_flush, return_bytearray, source_size)\u001b[0m\n\u001b[1;32m    510\u001b[0m \u001b[38;5;28;01mif\u001b[39;00m \u001b[38;5;124m'\u001b[39m\u001b[38;5;124mb\u001b[39m\u001b[38;5;124m'\u001b[39m \u001b[38;5;129;01mnot\u001b[39;00m \u001b[38;5;129;01min\u001b[39;00m mode:\n\u001b[1;32m    511\u001b[0m     mode \u001b[38;5;241m+\u001b[39m\u001b[38;5;241m=\u001b[39m \u001b[38;5;124m'\u001b[39m\u001b[38;5;124mb\u001b[39m\u001b[38;5;124m'\u001b[39m\n\u001b[0;32m--> 512\u001b[0m \u001b[38;5;28mself\u001b[39m\u001b[38;5;241m.\u001b[39m_fp \u001b[38;5;241m=\u001b[39m \u001b[43mbuiltins\u001b[49m\u001b[38;5;241;43m.\u001b[39;49m\u001b[43mopen\u001b[49m\u001b[43m(\u001b[49m\u001b[43mfilename\u001b[49m\u001b[43m,\u001b[49m\u001b[43m \u001b[49m\u001b[43mmode\u001b[49m\u001b[43m)\u001b[49m\n\u001b[1;32m    513\u001b[0m \u001b[38;5;28mself\u001b[39m\u001b[38;5;241m.\u001b[39m_closefp \u001b[38;5;241m=\u001b[39m \u001b[38;5;28;01mTrue\u001b[39;00m\n\u001b[1;32m    514\u001b[0m \u001b[38;5;28mself\u001b[39m\u001b[38;5;241m.\u001b[39m_mode \u001b[38;5;241m=\u001b[39m mode_code\n",
      "\u001b[0;31mFileNotFoundError\u001b[0m: [Errno 2] No such file or directory: 'TTbar_output.coffea'"
     ]
    }
   ],
   "source": [
    "# output = util.load('test.coffea')\n",
    "output = util.load('TTbar_output.coffea')\n",
    "# output = util.load('RSGluon3000_output.coffea')"
   ]
  },
  {
   "cell_type": "code",
   "execution_count": 8,
   "id": "c9d81546-3b9e-4d41-a077-f12ce92f8062",
   "metadata": {},
   "outputs": [
    {
     "ename": "AttributeError",
     "evalue": "module 'coffea' has no attribute 'hist'",
     "output_type": "error",
     "traceback": [
      "\u001b[0;31m---------------------------------------------------------------------------\u001b[0m",
      "\u001b[0;31mAttributeError\u001b[0m                            Traceback (most recent call last)",
      "Input \u001b[0;32mIn [8]\u001b[0m, in \u001b[0;36m<cell line: 1>\u001b[0;34m()\u001b[0m\n\u001b[0;32m----> 1\u001b[0m \u001b[43mcoffea\u001b[49m\u001b[38;5;241;43m.\u001b[39;49m\u001b[43mhist\u001b[49m\u001b[38;5;241m.\u001b[39mplot1d(output[\u001b[38;5;124m'\u001b[39m\u001b[38;5;124mttbarmass_jer_up\u001b[39m\u001b[38;5;124m'\u001b[39m]\u001b[38;5;241m.\u001b[39msum(\u001b[38;5;124m'\u001b[39m\u001b[38;5;124manacat\u001b[39m\u001b[38;5;124m'\u001b[39m))\n\u001b[1;32m      2\u001b[0m coffea\u001b[38;5;241m.\u001b[39mhist\u001b[38;5;241m.\u001b[39mplot1d(output[\u001b[38;5;124m'\u001b[39m\u001b[38;5;124mttbarmass_jer\u001b[39m\u001b[38;5;124m'\u001b[39m]\u001b[38;5;241m.\u001b[39msum(\u001b[38;5;124m'\u001b[39m\u001b[38;5;124manacat\u001b[39m\u001b[38;5;124m'\u001b[39m))\n\u001b[1;32m      3\u001b[0m coffea\u001b[38;5;241m.\u001b[39mhist\u001b[38;5;241m.\u001b[39mplot1d(output[\u001b[38;5;124m'\u001b[39m\u001b[38;5;124mttbarmass_jer_down\u001b[39m\u001b[38;5;124m'\u001b[39m]\u001b[38;5;241m.\u001b[39msum(\u001b[38;5;124m'\u001b[39m\u001b[38;5;124manacat\u001b[39m\u001b[38;5;124m'\u001b[39m))\n",
      "\u001b[0;31mAttributeError\u001b[0m: module 'coffea' has no attribute 'hist'"
     ]
    }
   ],
   "source": [
    "coffea.hist.plot1d(output['ttbarmass_jer_up'].sum('anacat'))\n",
    "coffea.hist.plot1d(output['ttbarmass_jer'].sum('anacat'))\n",
    "coffea.hist.plot1d(output['ttbarmass_jer_down'].sum('anacat'))\n",
    "plt.legend(['JER', 'JER down', 'JER up'])"
   ]
  },
  {
   "cell_type": "code",
   "execution_count": 9,
   "id": "04bfec72-8972-4902-a8ed-6d8c621a5507",
   "metadata": {},
   "outputs": [
    {
     "ename": "FileNotFoundError",
     "evalue": "[Errno 2] No such file or directory: 'TTbar_output.coffea'",
     "output_type": "error",
     "traceback": [
      "\u001b[0;31m---------------------------------------------------------------------------\u001b[0m",
      "\u001b[0;31mFileNotFoundError\u001b[0m                         Traceback (most recent call last)",
      "Input \u001b[0;32mIn [9]\u001b[0m, in \u001b[0;36m<cell line: 2>\u001b[0;34m()\u001b[0m\n\u001b[1;32m      1\u001b[0m \u001b[38;5;66;03m# output = util.load('test.coffea')\u001b[39;00m\n\u001b[0;32m----> 2\u001b[0m output \u001b[38;5;241m=\u001b[39m \u001b[43mutil\u001b[49m\u001b[38;5;241;43m.\u001b[39;49m\u001b[43mload\u001b[49m\u001b[43m(\u001b[49m\u001b[38;5;124;43m'\u001b[39;49m\u001b[38;5;124;43mTTbar_output.coffea\u001b[39;49m\u001b[38;5;124;43m'\u001b[39;49m\u001b[43m)\u001b[49m\n",
      "File \u001b[0;32m/opt/conda/lib/python3.8/site-packages/coffea/util.py:33\u001b[0m, in \u001b[0;36mload\u001b[0;34m(filename)\u001b[0m\n\u001b[1;32m     31\u001b[0m \u001b[38;5;28;01mdef\u001b[39;00m \u001b[38;5;21mload\u001b[39m(filename):\n\u001b[1;32m     32\u001b[0m     \u001b[38;5;124;03m\"\"\"Load a coffea file from disk\"\"\"\u001b[39;00m\n\u001b[0;32m---> 33\u001b[0m     \u001b[38;5;28;01mwith\u001b[39;00m \u001b[43mlz4\u001b[49m\u001b[38;5;241;43m.\u001b[39;49m\u001b[43mframe\u001b[49m\u001b[38;5;241;43m.\u001b[39;49m\u001b[43mopen\u001b[49m\u001b[43m(\u001b[49m\u001b[43mfilename\u001b[49m\u001b[43m)\u001b[49m \u001b[38;5;28;01mas\u001b[39;00m fin:\n\u001b[1;32m     34\u001b[0m         output \u001b[38;5;241m=\u001b[39m cloudpickle\u001b[38;5;241m.\u001b[39mload(fin)\n\u001b[1;32m     35\u001b[0m     \u001b[38;5;28;01mreturn\u001b[39;00m output\n",
      "File \u001b[0;32m/opt/conda/lib/python3.8/site-packages/lz4/frame/__init__.py:846\u001b[0m, in \u001b[0;36mopen\u001b[0;34m(filename, mode, encoding, errors, newline, block_size, block_linked, compression_level, content_checksum, block_checksum, auto_flush, return_bytearray, source_size)\u001b[0m\n\u001b[1;32m    842\u001b[0m         \u001b[38;5;28;01mraise\u001b[39;00m \u001b[38;5;167;01mValueError\u001b[39;00m(\u001b[38;5;124m\"\u001b[39m\u001b[38;5;124mArgument \u001b[39m\u001b[38;5;124m'\u001b[39m\u001b[38;5;124mnewline\u001b[39m\u001b[38;5;124m'\u001b[39m\u001b[38;5;124m not supported in binary mode\u001b[39m\u001b[38;5;124m\"\u001b[39m)\n\u001b[1;32m    844\u001b[0m _mode \u001b[38;5;241m=\u001b[39m mode\u001b[38;5;241m.\u001b[39mreplace(\u001b[38;5;124m'\u001b[39m\u001b[38;5;124mt\u001b[39m\u001b[38;5;124m'\u001b[39m, \u001b[38;5;124m'\u001b[39m\u001b[38;5;124m'\u001b[39m)\n\u001b[0;32m--> 846\u001b[0m binary_file \u001b[38;5;241m=\u001b[39m \u001b[43mLZ4FrameFile\u001b[49m\u001b[43m(\u001b[49m\n\u001b[1;32m    847\u001b[0m \u001b[43m    \u001b[49m\u001b[43mfilename\u001b[49m\u001b[43m,\u001b[49m\n\u001b[1;32m    848\u001b[0m \u001b[43m    \u001b[49m\u001b[43mmode\u001b[49m\u001b[38;5;241;43m=\u001b[39;49m\u001b[43m_mode\u001b[49m\u001b[43m,\u001b[49m\n\u001b[1;32m    849\u001b[0m \u001b[43m    \u001b[49m\u001b[43mblock_size\u001b[49m\u001b[38;5;241;43m=\u001b[39;49m\u001b[43mblock_size\u001b[49m\u001b[43m,\u001b[49m\n\u001b[1;32m    850\u001b[0m \u001b[43m    \u001b[49m\u001b[43mblock_linked\u001b[49m\u001b[38;5;241;43m=\u001b[39;49m\u001b[43mblock_linked\u001b[49m\u001b[43m,\u001b[49m\n\u001b[1;32m    851\u001b[0m \u001b[43m    \u001b[49m\u001b[43mcompression_level\u001b[49m\u001b[38;5;241;43m=\u001b[39;49m\u001b[43mcompression_level\u001b[49m\u001b[43m,\u001b[49m\n\u001b[1;32m    852\u001b[0m \u001b[43m    \u001b[49m\u001b[43mcontent_checksum\u001b[49m\u001b[38;5;241;43m=\u001b[39;49m\u001b[43mcontent_checksum\u001b[49m\u001b[43m,\u001b[49m\n\u001b[1;32m    853\u001b[0m \u001b[43m    \u001b[49m\u001b[43mblock_checksum\u001b[49m\u001b[38;5;241;43m=\u001b[39;49m\u001b[43mblock_checksum\u001b[49m\u001b[43m,\u001b[49m\n\u001b[1;32m    854\u001b[0m \u001b[43m    \u001b[49m\u001b[43mauto_flush\u001b[49m\u001b[38;5;241;43m=\u001b[39;49m\u001b[43mauto_flush\u001b[49m\u001b[43m,\u001b[49m\n\u001b[1;32m    855\u001b[0m \u001b[43m    \u001b[49m\u001b[43mreturn_bytearray\u001b[49m\u001b[38;5;241;43m=\u001b[39;49m\u001b[43mreturn_bytearray\u001b[49m\u001b[43m,\u001b[49m\n\u001b[1;32m    856\u001b[0m \u001b[43m    \u001b[49m\u001b[43msource_size\u001b[49m\u001b[38;5;241;43m=\u001b[39;49m\u001b[43msource_size\u001b[49m\u001b[43m,\u001b[49m\n\u001b[1;32m    857\u001b[0m \u001b[43m\u001b[49m\u001b[43m)\u001b[49m\n\u001b[1;32m    859\u001b[0m \u001b[38;5;28;01mif\u001b[39;00m \u001b[38;5;124m'\u001b[39m\u001b[38;5;124mt\u001b[39m\u001b[38;5;124m'\u001b[39m \u001b[38;5;129;01min\u001b[39;00m mode:\n\u001b[1;32m    860\u001b[0m     \u001b[38;5;28;01mreturn\u001b[39;00m io\u001b[38;5;241m.\u001b[39mTextIOWrapper(binary_file, encoding, errors, newline)\n",
      "File \u001b[0;32m/opt/conda/lib/python3.8/site-packages/lz4/frame/__init__.py:512\u001b[0m, in \u001b[0;36mLZ4FrameFile.__init__\u001b[0;34m(self, filename, mode, block_size, block_linked, compression_level, content_checksum, block_checksum, auto_flush, return_bytearray, source_size)\u001b[0m\n\u001b[1;32m    510\u001b[0m \u001b[38;5;28;01mif\u001b[39;00m \u001b[38;5;124m'\u001b[39m\u001b[38;5;124mb\u001b[39m\u001b[38;5;124m'\u001b[39m \u001b[38;5;129;01mnot\u001b[39;00m \u001b[38;5;129;01min\u001b[39;00m mode:\n\u001b[1;32m    511\u001b[0m     mode \u001b[38;5;241m+\u001b[39m\u001b[38;5;241m=\u001b[39m \u001b[38;5;124m'\u001b[39m\u001b[38;5;124mb\u001b[39m\u001b[38;5;124m'\u001b[39m\n\u001b[0;32m--> 512\u001b[0m \u001b[38;5;28mself\u001b[39m\u001b[38;5;241m.\u001b[39m_fp \u001b[38;5;241m=\u001b[39m \u001b[43mbuiltins\u001b[49m\u001b[38;5;241;43m.\u001b[39;49m\u001b[43mopen\u001b[49m\u001b[43m(\u001b[49m\u001b[43mfilename\u001b[49m\u001b[43m,\u001b[49m\u001b[43m \u001b[49m\u001b[43mmode\u001b[49m\u001b[43m)\u001b[49m\n\u001b[1;32m    513\u001b[0m \u001b[38;5;28mself\u001b[39m\u001b[38;5;241m.\u001b[39m_closefp \u001b[38;5;241m=\u001b[39m \u001b[38;5;28;01mTrue\u001b[39;00m\n\u001b[1;32m    514\u001b[0m \u001b[38;5;28mself\u001b[39m\u001b[38;5;241m.\u001b[39m_mode \u001b[38;5;241m=\u001b[39m mode_code\n",
      "\u001b[0;31mFileNotFoundError\u001b[0m: [Errno 2] No such file or directory: 'TTbar_output.coffea'"
     ]
    }
   ],
   "source": [
    "# output = util.load('test.coffea')\n",
    "output = util.load('TTbar_output.coffea')\n",
    "# output = util.load('RSGluon3000_output.coffea')"
   ]
  },
  {
   "cell_type": "code",
   "execution_count": 10,
   "id": "21bb5244-d06f-43ce-b1f6-5178dcbeb6e0",
   "metadata": {},
   "outputs": [],
   "source": [
    "# output['jetpt_jec'].axis('anacat').identifiers()"
   ]
  },
  {
   "cell_type": "code",
   "execution_count": 11,
   "id": "988be732-ed70-45c6-b8e1-4822ed1bb4a8",
   "metadata": {},
   "outputs": [
    {
     "ename": "NameError",
     "evalue": "name 'output' is not defined",
     "output_type": "error",
     "traceback": [
      "\u001b[0;31m---------------------------------------------------------------------------\u001b[0m",
      "\u001b[0;31mNameError\u001b[0m                                 Traceback (most recent call last)",
      "Input \u001b[0;32mIn [11]\u001b[0m, in \u001b[0;36m<cell line: 1>\u001b[0;34m()\u001b[0m\n\u001b[0;32m----> 1\u001b[0m h \u001b[38;5;241m=\u001b[39m \u001b[43moutput\u001b[49m[\u001b[38;5;124m'\u001b[39m\u001b[38;5;124mjetpt_jec\u001b[39m\u001b[38;5;124m'\u001b[39m]\u001b[38;5;241m.\u001b[39mintegrate(\u001b[38;5;124m'\u001b[39m\u001b[38;5;124manacat\u001b[39m\u001b[38;5;124m'\u001b[39m,\u001b[38;5;124m'\u001b[39m\u001b[38;5;124m2t2bcen\u001b[39m\u001b[38;5;124m'\u001b[39m)\u001b[38;5;241m.\u001b[39msum(\u001b[38;5;124m'\u001b[39m\u001b[38;5;124mdataset\u001b[39m\u001b[38;5;124m'\u001b[39m)\n\u001b[1;32m      2\u001b[0m coffea\u001b[38;5;241m.\u001b[39mhist\u001b[38;5;241m.\u001b[39mplot1d(h)\n",
      "\u001b[0;31mNameError\u001b[0m: name 'output' is not defined"
     ]
    }
   ],
   "source": [
    "h = output['jetpt_jec'].integrate('anacat','2t2bcen').sum('dataset')\n",
    "coffea.hist.plot1d(h)"
   ]
  },
  {
   "cell_type": "markdown",
   "id": "0962902e-beb7-4af2-b7c5-b58d94fdbffe",
   "metadata": {},
   "source": [
    "### coffea.hist.export1d\n",
    "export coffea histogram to root file"
   ]
  },
  {
   "cell_type": "code",
   "execution_count": 12,
   "id": "ae92e260-f1ef-4ab9-a04f-3e671d00a2a5",
   "metadata": {},
   "outputs": [],
   "source": [
    "# hname = 'RSGluon3000_cen2b_jetpt'\n",
    "\n",
    "\n",
    "# fout = uproot3.create(hname+'.root')\n",
    "# fout[hname] = coffea.hist.export1d(h)\n",
    "# fout.close()"
   ]
  },
  {
   "cell_type": "code",
   "execution_count": 3,
   "id": "9aa71c36-1347-400f-9e68-4540044a8342",
   "metadata": {},
   "outputs": [],
   "source": [
    "import itertools"
   ]
  },
  {
   "cell_type": "code",
   "execution_count": 4,
   "id": "458822ab-a094-4d56-866f-4736a024d785",
   "metadata": {},
   "outputs": [],
   "source": [
    "ttagcats = [\"AT&Pt\", \"at\", \"pret\", \"0t\", \"1t\", \">=1t\", \"2t\", \">=0t\"]\n",
    "btagcats = ['0b', '1b', '2b']\n",
    "ycats = ['cen', 'fwd']\n",
    "labels = [ t+b+y for t,b,y in itertools.product( ttagcats, btagcats, ycats) ]\n",
    "label_map = {i: label for i, label in enumerate(labels)}"
   ]
  },
  {
   "cell_type": "code",
   "execution_count": 9,
   "id": "1c41c605-a9d2-4fd3-9b9f-2c3dae2276d0",
   "metadata": {},
   "outputs": [],
   "source": []
  },
  {
   "cell_type": "code",
   "execution_count": 10,
   "id": "8a403058-383f-4dae-b85f-16670e28d056",
   "metadata": {},
   "outputs": [
    {
     "data": {
      "text/plain": [
       "{0: 'AT&Pt0bcen',\n",
       " 1: 'AT&Pt0bfwd',\n",
       " 2: 'AT&Pt1bcen',\n",
       " 3: 'AT&Pt1bfwd',\n",
       " 4: 'AT&Pt2bcen',\n",
       " 5: 'AT&Pt2bfwd',\n",
       " 6: 'at0bcen',\n",
       " 7: 'at0bfwd',\n",
       " 8: 'at1bcen',\n",
       " 9: 'at1bfwd',\n",
       " 10: 'at2bcen',\n",
       " 11: 'at2bfwd',\n",
       " 12: 'pret0bcen',\n",
       " 13: 'pret0bfwd',\n",
       " 14: 'pret1bcen',\n",
       " 15: 'pret1bfwd',\n",
       " 16: 'pret2bcen',\n",
       " 17: 'pret2bfwd',\n",
       " 18: '0t0bcen',\n",
       " 19: '0t0bfwd',\n",
       " 20: '0t1bcen',\n",
       " 21: '0t1bfwd',\n",
       " 22: '0t2bcen',\n",
       " 23: '0t2bfwd',\n",
       " 24: '1t0bcen',\n",
       " 25: '1t0bfwd',\n",
       " 26: '1t1bcen',\n",
       " 27: '1t1bfwd',\n",
       " 28: '1t2bcen',\n",
       " 29: '1t2bfwd',\n",
       " 30: '>=1t0bcen',\n",
       " 31: '>=1t0bfwd',\n",
       " 32: '>=1t1bcen',\n",
       " 33: '>=1t1bfwd',\n",
       " 34: '>=1t2bcen',\n",
       " 35: '>=1t2bfwd',\n",
       " 36: '2t0bcen',\n",
       " 37: '2t0bfwd',\n",
       " 38: '2t1bcen',\n",
       " 39: '2t1bfwd',\n",
       " 40: '2t2bcen',\n",
       " 41: '2t2bfwd',\n",
       " 42: '>=0t0bcen',\n",
       " 43: '>=0t0bfwd',\n",
       " 44: '>=0t1bcen',\n",
       " 45: '>=0t1bfwd',\n",
       " 46: '>=0t2bcen',\n",
       " 47: '>=0t2bfwd'}"
      ]
     },
     "execution_count": 10,
     "metadata": {},
     "output_type": "execute_result"
    }
   ],
   "source": [
    "label_map"
   ]
  },
  {
   "cell_type": "code",
   "execution_count": 7,
   "id": "708d24b2-85b7-4b0a-bcb8-fb3760f2bae2",
   "metadata": {},
   "outputs": [],
   "source": [
    "labels = [ t+b+y for t,b,y in itertools.product( ttagcats, btagcats, ycats) ]"
   ]
  },
  {
   "cell_type": "code",
   "execution_count": 8,
   "id": "08c2141c-b0a4-4f8d-8a19-03db3cb03dc6",
   "metadata": {},
   "outputs": [
    {
     "name": "stdout",
     "output_type": "stream",
     "text": [
      "0 AT&Pt0bcen\n",
      "1 AT&Pt0bfwd\n",
      "2 AT&Pt1bcen\n",
      "3 AT&Pt1bfwd\n",
      "4 AT&Pt2bcen\n",
      "5 AT&Pt2bfwd\n",
      "6 at0bcen\n",
      "7 at0bfwd\n",
      "8 at1bcen\n",
      "9 at1bfwd\n",
      "10 at2bcen\n",
      "11 at2bfwd\n",
      "12 pret0bcen\n",
      "13 pret0bfwd\n",
      "14 pret1bcen\n",
      "15 pret1bfwd\n",
      "16 pret2bcen\n",
      "17 pret2bfwd\n",
      "18 0t0bcen\n",
      "19 0t0bfwd\n",
      "20 0t1bcen\n",
      "21 0t1bfwd\n",
      "22 0t2bcen\n",
      "23 0t2bfwd\n",
      "24 1t0bcen\n",
      "25 1t0bfwd\n",
      "26 1t1bcen\n",
      "27 1t1bfwd\n",
      "28 1t2bcen\n",
      "29 1t2bfwd\n",
      "30 >=1t0bcen\n",
      "31 >=1t0bfwd\n",
      "32 >=1t1bcen\n",
      "33 >=1t1bfwd\n",
      "34 >=1t2bcen\n",
      "35 >=1t2bfwd\n",
      "36 2t0bcen\n",
      "37 2t0bfwd\n",
      "38 2t1bcen\n",
      "39 2t1bfwd\n",
      "40 2t2bcen\n",
      "41 2t2bfwd\n",
      "42 >=0t0bcen\n",
      "43 >=0t0bfwd\n",
      "44 >=0t1bcen\n",
      "45 >=0t1bfwd\n",
      "46 >=0t2bcen\n",
      "47 >=0t2bfwd\n"
     ]
    }
   ],
   "source": [
    "for i, label in enumerate(labels):\n",
    "    print(i, label)"
   ]
  },
  {
   "cell_type": "code",
   "execution_count": 13,
   "id": "f793c8ee-3aa6-4606-8031-5842c25b065a",
   "metadata": {},
   "outputs": [
    {
     "name": "stdout",
     "output_type": "stream",
     "text": [
      "creating TTbarCombine.root\n"
     ]
    },
    {
     "ename": "NameError",
     "evalue": "name 'output' is not defined",
     "output_type": "error",
     "traceback": [
      "\u001b[0;31m---------------------------------------------------------------------------\u001b[0m",
      "\u001b[0;31mNameError\u001b[0m                                 Traceback (most recent call last)",
      "Input \u001b[0;32mIn [13]\u001b[0m, in \u001b[0;36m<cell line: 13>\u001b[0;34m()\u001b[0m\n\u001b[1;32m     24\u001b[0m     h \u001b[38;5;241m=\u001b[39m output[\u001b[38;5;124m'\u001b[39m\u001b[38;5;124mjetpt_jec_up\u001b[39m\u001b[38;5;124m'\u001b[39m]\u001b[38;5;241m.\u001b[39mintegrate(\u001b[38;5;124m'\u001b[39m\u001b[38;5;124manacat\u001b[39m\u001b[38;5;124m'\u001b[39m,cat)\u001b[38;5;241m.\u001b[39msum(\u001b[38;5;124m'\u001b[39m\u001b[38;5;124mdataset\u001b[39m\u001b[38;5;124m'\u001b[39m)\n\u001b[1;32m     25\u001b[0m \u001b[38;5;28;01melse\u001b[39;00m:\n\u001b[0;32m---> 26\u001b[0m     h \u001b[38;5;241m=\u001b[39m \u001b[43moutput\u001b[49m[\u001b[38;5;124m'\u001b[39m\u001b[38;5;124mjetpt_jec\u001b[39m\u001b[38;5;124m'\u001b[39m]\u001b[38;5;241m.\u001b[39mintegrate(\u001b[38;5;124m'\u001b[39m\u001b[38;5;124manacat\u001b[39m\u001b[38;5;124m'\u001b[39m,cat)\u001b[38;5;241m.\u001b[39msum(\u001b[38;5;124m'\u001b[39m\u001b[38;5;124mdataset\u001b[39m\u001b[38;5;124m'\u001b[39m)\n\u001b[1;32m     29\u001b[0m fout[hname] \u001b[38;5;241m=\u001b[39m coffea\u001b[38;5;241m.\u001b[39mhist\u001b[38;5;241m.\u001b[39mexport1d(h)\n\u001b[1;32m     31\u001b[0m \u001b[38;5;28mprint\u001b[39m(hname)\n",
      "\u001b[0;31mNameError\u001b[0m: name 'output' is not defined"
     ]
    }
   ],
   "source": [
    "bcats = ['0b', '1b', '2b']\n",
    "ycats = ['cen', 'fwd']\n",
    "# dsname = 'RSGluon3000'\n",
    "dsname = 'TTbar'\n",
    "histnames = ['ttbarmass', 'jetpt']\n",
    "systs = ['', '_jerUp', '_jerDown']\n",
    "fname = dsname+'Combine.root'\n",
    "\n",
    "fout = uproot3.create(fname)\n",
    "print('creating '+fname)\n",
    "\n",
    "\n",
    "for histname in histnames:\n",
    "    for bcat in bcats:\n",
    "        for ycat in ycats:\n",
    "            for syst in systs:\n",
    "\n",
    "                cat = '2t' + bcat + ycat\n",
    "                hname = dsname+'_'+ycat+bcat+'_'+histname+syst\n",
    "\n",
    "                if 'Down' in syst:\n",
    "                    h = output['jetpt_jec_down'].integrate('anacat',cat).sum('dataset')\n",
    "                elif 'Up' in syst:\n",
    "                    h = output['jetpt_jec_up'].integrate('anacat',cat).sum('dataset')\n",
    "                else:\n",
    "                    h = output['jetpt_jec'].integrate('anacat',cat).sum('dataset')\n",
    "\n",
    "\n",
    "                fout[hname] = coffea.hist.export1d(h)\n",
    "\n",
    "                print(hname)\n",
    "\n",
    "\n",
    "        \n",
    "\n",
    "         \n",
    "\n",
    "fout.close()\n",
    "\n",
    "        \n",
    "        "
   ]
  },
  {
   "cell_type": "code",
   "execution_count": null,
   "id": "e39476fa-595e-42f5-8393-2a03e2b0c63a",
   "metadata": {},
   "outputs": [],
   "source": []
  },
  {
   "cell_type": "code",
   "execution_count": null,
   "id": "ee4bd204-4292-4ee1-aa55-d87e5d58cbe1",
   "metadata": {},
   "outputs": [],
   "source": []
  },
  {
   "cell_type": "code",
   "execution_count": 14,
   "id": "0b3749de-55e1-4a0e-ad6d-5a8bf8ea60b8",
   "metadata": {},
   "outputs": [],
   "source": [
    "import hist"
   ]
  },
  {
   "cell_type": "code",
   "execution_count": 15,
   "id": "b84ae15f-9d79-4f14-a838-fb052a9ffd66",
   "metadata": {},
   "outputs": [],
   "source": [
    "h = Hist.new"
   ]
  },
  {
   "cell_type": "code",
   "execution_count": 16,
   "id": "e178e88e-4a6c-4bb2-9a0b-70b52d85e653",
   "metadata": {},
   "outputs": [
    {
     "ename": "AttributeError",
     "evalue": "module hist has no attribute plot1d",
     "output_type": "error",
     "traceback": [
      "\u001b[0;31m---------------------------------------------------------------------------\u001b[0m",
      "\u001b[0;31mAttributeError\u001b[0m                            Traceback (most recent call last)",
      "Input \u001b[0;32mIn [16]\u001b[0m, in \u001b[0;36m<cell line: 1>\u001b[0;34m()\u001b[0m\n\u001b[0;32m----> 1\u001b[0m \u001b[43mhist\u001b[49m\u001b[38;5;241;43m.\u001b[39;49m\u001b[43mplot1d\u001b[49m(h)\n",
      "File \u001b[0;32m/opt/conda/lib/python3.8/site-packages/hist/__init__.py:60\u001b[0m, in \u001b[0;36m__getattr__\u001b[0;34m(name)\u001b[0m\n\u001b[1;32m     58\u001b[0m     warnings\u001b[38;5;241m.\u001b[39mwarn(msg)\n\u001b[1;32m     59\u001b[0m     \u001b[38;5;28;01mreturn\u001b[39;00m axis\n\u001b[0;32m---> 60\u001b[0m \u001b[38;5;28;01mraise\u001b[39;00m \u001b[38;5;167;01mAttributeError\u001b[39;00m(\u001b[38;5;124mf\u001b[39m\u001b[38;5;124m\"\u001b[39m\u001b[38;5;124mmodule \u001b[39m\u001b[38;5;132;01m{\u001b[39;00m\u001b[38;5;18m__name__\u001b[39m\u001b[38;5;132;01m}\u001b[39;00m\u001b[38;5;124m has no attribute \u001b[39m\u001b[38;5;132;01m{\u001b[39;00mname\u001b[38;5;132;01m}\u001b[39;00m\u001b[38;5;124m\"\u001b[39m)\n",
      "\u001b[0;31mAttributeError\u001b[0m: module hist has no attribute plot1d"
     ]
    }
   ],
   "source": [
    "hist.plot1d(h)"
   ]
  },
  {
   "cell_type": "code",
   "execution_count": 17,
   "id": "8b30355d-5261-4c52-975f-6bfdce56fbc2",
   "metadata": {},
   "outputs": [
    {
     "data": {
      "text/plain": [
       "<module 'hist' from '/opt/conda/lib/python3.8/site-packages/hist/__init__.py'>"
      ]
     },
     "execution_count": 17,
     "metadata": {},
     "output_type": "execute_result"
    }
   ],
   "source": [
    "hist"
   ]
  },
  {
   "cell_type": "code",
   "execution_count": 18,
   "id": "b5cae2a4-3ddc-4ae8-a8d0-cd1b1efe6016",
   "metadata": {},
   "outputs": [],
   "source": [
    "h = (\n",
    "  Hist.new\n",
    "  .Reg(10, 0 ,1, name=\"x\", label=\"x-axis\")\n",
    "  .Var(range(10), name=\"y\", label=\"y-axis\")\n",
    "  .Int64()\n",
    ")"
   ]
  },
  {
   "cell_type": "code",
   "execution_count": 19,
   "id": "bf2e536c-4d4c-44a2-8895-df867db2a5bb",
   "metadata": {},
   "outputs": [
    {
     "data": {
      "text/html": [
       "<html>\n",
       "<div style=\"display:flex; align-items:center;\">\n",
       "<div style=\"width:290px;\">\n",
       "<svg xmlns=\"http://www.w3.org/2000/svg\" viewBox=\"-20 -270 290 290\">\n",
       "<text text-anchor=\"middle\" x=\"0\" y=\"13\" style=\"fill:currentColor;\">\n",
       "0\n",
       "</text>\n",
       "<text text-anchor=\"middle\" x=\"250\" y=\"13\" style=\"fill:currentColor;\">\n",
       "1\n",
       "</text>\n",
       "<text text-anchor=\"middle\" x=\"-10\" y=\"0\" style=\"fill:currentColor;\">\n",
       "0\n",
       "</text>\n",
       "<text text-anchor=\"middle\" x=\"-10\" y=\"-250\" style=\"fill:currentColor;\">\n",
       "9\n",
       "</text>\n",
       "<text text-anchor=\"middle\" x=\"125.0\" y=\"13\" style=\"fill:currentColor;\">\n",
       "x-axis\n",
       "</text>\n",
       "<text text-anchor=\"middle\" x=\"-10\" y=\"-125.0\" transform=\"rotate(-90,-10,-125.0)\" style=\"fill:currentColor;\">\n",
       "y-axis\n",
       "</text>\n",
       "<rect x=\"0.0\" y=\"-27.777777777777775\" width=\"25.0\" height=\"27.778\" opacity=\"0.0\" fill=\"currentColor\" stroke-width=\"0.1\"/>\n",
       "<rect x=\"25.0\" y=\"-27.777777777777775\" width=\"25.0\" height=\"27.778\" opacity=\"0.0\" fill=\"currentColor\" stroke-width=\"0.1\"/>\n",
       "<rect x=\"50.0\" y=\"-27.777777777777775\" width=\"25.0\" height=\"27.778\" opacity=\"0.0\" fill=\"currentColor\" stroke-width=\"0.1\"/>\n",
       "<rect x=\"75.0\" y=\"-27.777777777777775\" width=\"25.0\" height=\"27.778\" opacity=\"0.0\" fill=\"currentColor\" stroke-width=\"0.1\"/>\n",
       "<rect x=\"100.0\" y=\"-27.777777777777775\" width=\"25.0\" height=\"27.778\" opacity=\"0.0\" fill=\"currentColor\" stroke-width=\"0.1\"/>\n",
       "<rect x=\"125.0\" y=\"-27.777777777777775\" width=\"25.0\" height=\"27.778\" opacity=\"0.0\" fill=\"currentColor\" stroke-width=\"0.1\"/>\n",
       "<rect x=\"150.0\" y=\"-27.777777777777775\" width=\"25.0\" height=\"27.778\" opacity=\"0.0\" fill=\"currentColor\" stroke-width=\"0.1\"/>\n",
       "<rect x=\"175.0\" y=\"-27.777777777777775\" width=\"25.0\" height=\"27.778\" opacity=\"0.0\" fill=\"currentColor\" stroke-width=\"0.1\"/>\n",
       "<rect x=\"200.0\" y=\"-27.777777777777775\" width=\"25.0\" height=\"27.778\" opacity=\"0.0\" fill=\"currentColor\" stroke-width=\"0.1\"/>\n",
       "<rect x=\"225.0\" y=\"-27.777777777777775\" width=\"25.0\" height=\"27.778\" opacity=\"0.0\" fill=\"currentColor\" stroke-width=\"0.1\"/>\n",
       "<rect x=\"0.0\" y=\"-55.55555555555555\" width=\"25.0\" height=\"27.778\" opacity=\"0.0\" fill=\"currentColor\" stroke-width=\"0.1\"/>\n",
       "<rect x=\"25.0\" y=\"-55.55555555555555\" width=\"25.0\" height=\"27.778\" opacity=\"0.0\" fill=\"currentColor\" stroke-width=\"0.1\"/>\n",
       "<rect x=\"50.0\" y=\"-55.55555555555555\" width=\"25.0\" height=\"27.778\" opacity=\"0.0\" fill=\"currentColor\" stroke-width=\"0.1\"/>\n",
       "<rect x=\"75.0\" y=\"-55.55555555555555\" width=\"25.0\" height=\"27.778\" opacity=\"0.0\" fill=\"currentColor\" stroke-width=\"0.1\"/>\n",
       "<rect x=\"100.0\" y=\"-55.55555555555555\" width=\"25.0\" height=\"27.778\" opacity=\"0.0\" fill=\"currentColor\" stroke-width=\"0.1\"/>\n",
       "<rect x=\"125.0\" y=\"-55.55555555555555\" width=\"25.0\" height=\"27.778\" opacity=\"0.0\" fill=\"currentColor\" stroke-width=\"0.1\"/>\n",
       "<rect x=\"150.0\" y=\"-55.55555555555555\" width=\"25.0\" height=\"27.778\" opacity=\"0.0\" fill=\"currentColor\" stroke-width=\"0.1\"/>\n",
       "<rect x=\"175.0\" y=\"-55.55555555555555\" width=\"25.0\" height=\"27.778\" opacity=\"0.0\" fill=\"currentColor\" stroke-width=\"0.1\"/>\n",
       "<rect x=\"200.0\" y=\"-55.55555555555555\" width=\"25.0\" height=\"27.778\" opacity=\"0.0\" fill=\"currentColor\" stroke-width=\"0.1\"/>\n",
       "<rect x=\"225.0\" y=\"-55.55555555555555\" width=\"25.0\" height=\"27.778\" opacity=\"0.0\" fill=\"currentColor\" stroke-width=\"0.1\"/>\n",
       "<rect x=\"0.0\" y=\"-83.33333333333333\" width=\"25.0\" height=\"27.778\" opacity=\"0.0\" fill=\"currentColor\" stroke-width=\"0.1\"/>\n",
       "<rect x=\"25.0\" y=\"-83.33333333333333\" width=\"25.0\" height=\"27.778\" opacity=\"0.0\" fill=\"currentColor\" stroke-width=\"0.1\"/>\n",
       "<rect x=\"50.0\" y=\"-83.33333333333333\" width=\"25.0\" height=\"27.778\" opacity=\"0.0\" fill=\"currentColor\" stroke-width=\"0.1\"/>\n",
       "<rect x=\"75.0\" y=\"-83.33333333333333\" width=\"25.0\" height=\"27.778\" opacity=\"0.0\" fill=\"currentColor\" stroke-width=\"0.1\"/>\n",
       "<rect x=\"100.0\" y=\"-83.33333333333333\" width=\"25.0\" height=\"27.778\" opacity=\"0.0\" fill=\"currentColor\" stroke-width=\"0.1\"/>\n",
       "<rect x=\"125.0\" y=\"-83.33333333333333\" width=\"25.0\" height=\"27.778\" opacity=\"0.0\" fill=\"currentColor\" stroke-width=\"0.1\"/>\n",
       "<rect x=\"150.0\" y=\"-83.33333333333333\" width=\"25.0\" height=\"27.778\" opacity=\"0.0\" fill=\"currentColor\" stroke-width=\"0.1\"/>\n",
       "<rect x=\"175.0\" y=\"-83.33333333333333\" width=\"25.0\" height=\"27.778\" opacity=\"0.0\" fill=\"currentColor\" stroke-width=\"0.1\"/>\n",
       "<rect x=\"200.0\" y=\"-83.33333333333333\" width=\"25.0\" height=\"27.778\" opacity=\"0.0\" fill=\"currentColor\" stroke-width=\"0.1\"/>\n",
       "<rect x=\"225.0\" y=\"-83.33333333333333\" width=\"25.0\" height=\"27.778\" opacity=\"0.0\" fill=\"currentColor\" stroke-width=\"0.1\"/>\n",
       "<rect x=\"0.0\" y=\"-111.1111111111111\" width=\"25.0\" height=\"27.778\" opacity=\"0.0\" fill=\"currentColor\" stroke-width=\"0.1\"/>\n",
       "<rect x=\"25.0\" y=\"-111.1111111111111\" width=\"25.0\" height=\"27.778\" opacity=\"0.0\" fill=\"currentColor\" stroke-width=\"0.1\"/>\n",
       "<rect x=\"50.0\" y=\"-111.1111111111111\" width=\"25.0\" height=\"27.778\" opacity=\"0.0\" fill=\"currentColor\" stroke-width=\"0.1\"/>\n",
       "<rect x=\"75.0\" y=\"-111.1111111111111\" width=\"25.0\" height=\"27.778\" opacity=\"0.0\" fill=\"currentColor\" stroke-width=\"0.1\"/>\n",
       "<rect x=\"100.0\" y=\"-111.1111111111111\" width=\"25.0\" height=\"27.778\" opacity=\"0.0\" fill=\"currentColor\" stroke-width=\"0.1\"/>\n",
       "<rect x=\"125.0\" y=\"-111.1111111111111\" width=\"25.0\" height=\"27.778\" opacity=\"0.0\" fill=\"currentColor\" stroke-width=\"0.1\"/>\n",
       "<rect x=\"150.0\" y=\"-111.1111111111111\" width=\"25.0\" height=\"27.778\" opacity=\"0.0\" fill=\"currentColor\" stroke-width=\"0.1\"/>\n",
       "<rect x=\"175.0\" y=\"-111.1111111111111\" width=\"25.0\" height=\"27.778\" opacity=\"0.0\" fill=\"currentColor\" stroke-width=\"0.1\"/>\n",
       "<rect x=\"200.0\" y=\"-111.1111111111111\" width=\"25.0\" height=\"27.778\" opacity=\"0.0\" fill=\"currentColor\" stroke-width=\"0.1\"/>\n",
       "<rect x=\"225.0\" y=\"-111.1111111111111\" width=\"25.0\" height=\"27.778\" opacity=\"0.0\" fill=\"currentColor\" stroke-width=\"0.1\"/>\n",
       "<rect x=\"0.0\" y=\"-138.88888888888889\" width=\"25.0\" height=\"27.778\" opacity=\"0.0\" fill=\"currentColor\" stroke-width=\"0.1\"/>\n",
       "<rect x=\"25.0\" y=\"-138.88888888888889\" width=\"25.0\" height=\"27.778\" opacity=\"0.0\" fill=\"currentColor\" stroke-width=\"0.1\"/>\n",
       "<rect x=\"50.0\" y=\"-138.88888888888889\" width=\"25.0\" height=\"27.778\" opacity=\"0.0\" fill=\"currentColor\" stroke-width=\"0.1\"/>\n",
       "<rect x=\"75.0\" y=\"-138.88888888888889\" width=\"25.0\" height=\"27.778\" opacity=\"0.0\" fill=\"currentColor\" stroke-width=\"0.1\"/>\n",
       "<rect x=\"100.0\" y=\"-138.88888888888889\" width=\"25.0\" height=\"27.778\" opacity=\"0.0\" fill=\"currentColor\" stroke-width=\"0.1\"/>\n",
       "<rect x=\"125.0\" y=\"-138.88888888888889\" width=\"25.0\" height=\"27.778\" opacity=\"0.0\" fill=\"currentColor\" stroke-width=\"0.1\"/>\n",
       "<rect x=\"150.0\" y=\"-138.88888888888889\" width=\"25.0\" height=\"27.778\" opacity=\"0.0\" fill=\"currentColor\" stroke-width=\"0.1\"/>\n",
       "<rect x=\"175.0\" y=\"-138.88888888888889\" width=\"25.0\" height=\"27.778\" opacity=\"0.0\" fill=\"currentColor\" stroke-width=\"0.1\"/>\n",
       "<rect x=\"200.0\" y=\"-138.88888888888889\" width=\"25.0\" height=\"27.778\" opacity=\"0.0\" fill=\"currentColor\" stroke-width=\"0.1\"/>\n",
       "<rect x=\"225.0\" y=\"-138.88888888888889\" width=\"25.0\" height=\"27.778\" opacity=\"0.0\" fill=\"currentColor\" stroke-width=\"0.1\"/>\n",
       "<rect x=\"0.0\" y=\"-166.66666666666666\" width=\"25.0\" height=\"27.778\" opacity=\"0.0\" fill=\"currentColor\" stroke-width=\"0.1\"/>\n",
       "<rect x=\"25.0\" y=\"-166.66666666666666\" width=\"25.0\" height=\"27.778\" opacity=\"0.0\" fill=\"currentColor\" stroke-width=\"0.1\"/>\n",
       "<rect x=\"50.0\" y=\"-166.66666666666666\" width=\"25.0\" height=\"27.778\" opacity=\"0.0\" fill=\"currentColor\" stroke-width=\"0.1\"/>\n",
       "<rect x=\"75.0\" y=\"-166.66666666666666\" width=\"25.0\" height=\"27.778\" opacity=\"0.0\" fill=\"currentColor\" stroke-width=\"0.1\"/>\n",
       "<rect x=\"100.0\" y=\"-166.66666666666666\" width=\"25.0\" height=\"27.778\" opacity=\"0.0\" fill=\"currentColor\" stroke-width=\"0.1\"/>\n",
       "<rect x=\"125.0\" y=\"-166.66666666666666\" width=\"25.0\" height=\"27.778\" opacity=\"0.0\" fill=\"currentColor\" stroke-width=\"0.1\"/>\n",
       "<rect x=\"150.0\" y=\"-166.66666666666666\" width=\"25.0\" height=\"27.778\" opacity=\"0.0\" fill=\"currentColor\" stroke-width=\"0.1\"/>\n",
       "<rect x=\"175.0\" y=\"-166.66666666666666\" width=\"25.0\" height=\"27.778\" opacity=\"0.0\" fill=\"currentColor\" stroke-width=\"0.1\"/>\n",
       "<rect x=\"200.0\" y=\"-166.66666666666666\" width=\"25.0\" height=\"27.778\" opacity=\"0.0\" fill=\"currentColor\" stroke-width=\"0.1\"/>\n",
       "<rect x=\"225.0\" y=\"-166.66666666666666\" width=\"25.0\" height=\"27.778\" opacity=\"0.0\" fill=\"currentColor\" stroke-width=\"0.1\"/>\n",
       "<rect x=\"0.0\" y=\"-194.44444444444446\" width=\"25.0\" height=\"27.778\" opacity=\"0.0\" fill=\"currentColor\" stroke-width=\"0.1\"/>\n",
       "<rect x=\"25.0\" y=\"-194.44444444444446\" width=\"25.0\" height=\"27.778\" opacity=\"0.0\" fill=\"currentColor\" stroke-width=\"0.1\"/>\n",
       "<rect x=\"50.0\" y=\"-194.44444444444446\" width=\"25.0\" height=\"27.778\" opacity=\"0.0\" fill=\"currentColor\" stroke-width=\"0.1\"/>\n",
       "<rect x=\"75.0\" y=\"-194.44444444444446\" width=\"25.0\" height=\"27.778\" opacity=\"0.0\" fill=\"currentColor\" stroke-width=\"0.1\"/>\n",
       "<rect x=\"100.0\" y=\"-194.44444444444446\" width=\"25.0\" height=\"27.778\" opacity=\"0.0\" fill=\"currentColor\" stroke-width=\"0.1\"/>\n",
       "<rect x=\"125.0\" y=\"-194.44444444444446\" width=\"25.0\" height=\"27.778\" opacity=\"0.0\" fill=\"currentColor\" stroke-width=\"0.1\"/>\n",
       "<rect x=\"150.0\" y=\"-194.44444444444446\" width=\"25.0\" height=\"27.778\" opacity=\"0.0\" fill=\"currentColor\" stroke-width=\"0.1\"/>\n",
       "<rect x=\"175.0\" y=\"-194.44444444444446\" width=\"25.0\" height=\"27.778\" opacity=\"0.0\" fill=\"currentColor\" stroke-width=\"0.1\"/>\n",
       "<rect x=\"200.0\" y=\"-194.44444444444446\" width=\"25.0\" height=\"27.778\" opacity=\"0.0\" fill=\"currentColor\" stroke-width=\"0.1\"/>\n",
       "<rect x=\"225.0\" y=\"-194.44444444444446\" width=\"25.0\" height=\"27.778\" opacity=\"0.0\" fill=\"currentColor\" stroke-width=\"0.1\"/>\n",
       "<rect x=\"0.0\" y=\"-222.2222222222222\" width=\"25.0\" height=\"27.778\" opacity=\"0.0\" fill=\"currentColor\" stroke-width=\"0.1\"/>\n",
       "<rect x=\"25.0\" y=\"-222.2222222222222\" width=\"25.0\" height=\"27.778\" opacity=\"0.0\" fill=\"currentColor\" stroke-width=\"0.1\"/>\n",
       "<rect x=\"50.0\" y=\"-222.2222222222222\" width=\"25.0\" height=\"27.778\" opacity=\"0.0\" fill=\"currentColor\" stroke-width=\"0.1\"/>\n",
       "<rect x=\"75.0\" y=\"-222.2222222222222\" width=\"25.0\" height=\"27.778\" opacity=\"0.0\" fill=\"currentColor\" stroke-width=\"0.1\"/>\n",
       "<rect x=\"100.0\" y=\"-222.2222222222222\" width=\"25.0\" height=\"27.778\" opacity=\"0.0\" fill=\"currentColor\" stroke-width=\"0.1\"/>\n",
       "<rect x=\"125.0\" y=\"-222.2222222222222\" width=\"25.0\" height=\"27.778\" opacity=\"0.0\" fill=\"currentColor\" stroke-width=\"0.1\"/>\n",
       "<rect x=\"150.0\" y=\"-222.2222222222222\" width=\"25.0\" height=\"27.778\" opacity=\"0.0\" fill=\"currentColor\" stroke-width=\"0.1\"/>\n",
       "<rect x=\"175.0\" y=\"-222.2222222222222\" width=\"25.0\" height=\"27.778\" opacity=\"0.0\" fill=\"currentColor\" stroke-width=\"0.1\"/>\n",
       "<rect x=\"200.0\" y=\"-222.2222222222222\" width=\"25.0\" height=\"27.778\" opacity=\"0.0\" fill=\"currentColor\" stroke-width=\"0.1\"/>\n",
       "<rect x=\"225.0\" y=\"-222.2222222222222\" width=\"25.0\" height=\"27.778\" opacity=\"0.0\" fill=\"currentColor\" stroke-width=\"0.1\"/>\n",
       "<rect x=\"0.0\" y=\"-250.0\" width=\"25.0\" height=\"27.778\" opacity=\"0.0\" fill=\"currentColor\" stroke-width=\"0.1\"/>\n",
       "<rect x=\"25.0\" y=\"-250.0\" width=\"25.0\" height=\"27.778\" opacity=\"0.0\" fill=\"currentColor\" stroke-width=\"0.1\"/>\n",
       "<rect x=\"50.0\" y=\"-250.0\" width=\"25.0\" height=\"27.778\" opacity=\"0.0\" fill=\"currentColor\" stroke-width=\"0.1\"/>\n",
       "<rect x=\"75.0\" y=\"-250.0\" width=\"25.0\" height=\"27.778\" opacity=\"0.0\" fill=\"currentColor\" stroke-width=\"0.1\"/>\n",
       "<rect x=\"100.0\" y=\"-250.0\" width=\"25.0\" height=\"27.778\" opacity=\"0.0\" fill=\"currentColor\" stroke-width=\"0.1\"/>\n",
       "<rect x=\"125.0\" y=\"-250.0\" width=\"25.0\" height=\"27.778\" opacity=\"0.0\" fill=\"currentColor\" stroke-width=\"0.1\"/>\n",
       "<rect x=\"150.0\" y=\"-250.0\" width=\"25.0\" height=\"27.778\" opacity=\"0.0\" fill=\"currentColor\" stroke-width=\"0.1\"/>\n",
       "<rect x=\"175.0\" y=\"-250.0\" width=\"25.0\" height=\"27.778\" opacity=\"0.0\" fill=\"currentColor\" stroke-width=\"0.1\"/>\n",
       "<rect x=\"200.0\" y=\"-250.0\" width=\"25.0\" height=\"27.778\" opacity=\"0.0\" fill=\"currentColor\" stroke-width=\"0.1\"/>\n",
       "<rect x=\"225.0\" y=\"-250.0\" width=\"25.0\" height=\"27.778\" opacity=\"0.0\" fill=\"currentColor\" stroke-width=\"0.1\"/>\n",
       "</svg>\n",
       "</div>\n",
       "<div style=\"flex=grow:1;\">\n",
       "Regular(10, 0, 1, name='x', label='x-axis')<br/>\n",
       "Variable([0, 1, 2, 3, 4, 5, 6, 7, 8, 9], name='y', label='y-axis')<br/>\n",
       "<hr style=\"margin-top:.2em; margin-bottom:.2em;\"/>\n",
       "Int64() Σ=0.0 <em>(3.0 with flow)</em>\n",
       "\n",
       "</div>\n",
       "</div>\n",
       "</html>"
      ],
      "text/plain": [
       "Hist(\n",
       "  Regular(10, 0, 1, name='x', label='x-axis'),\n",
       "  Variable([0, 1, 2, 3, 4, 5, 6, 7, 8, 9], name='y', label='y-axis'),\n",
       "  storage=Int64()) # Sum: 0.0 (3.0 with flow)"
      ]
     },
     "execution_count": 19,
     "metadata": {},
     "output_type": "execute_result"
    }
   ],
   "source": [
    "h.fill(y=[1, 4, 6], x=[3, 5, 2])"
   ]
  },
  {
   "cell_type": "code",
   "execution_count": 20,
   "id": "ce6377c5-e9c2-4df3-903e-6aaac027d900",
   "metadata": {},
   "outputs": [
    {
     "data": {
      "text/plain": [
       "ColormeshArtists(pcolormesh=<matplotlib.collections.QuadMesh object at 0x7f792a771940>, cbar=<matplotlib.colorbar.Colorbar object at 0x7f792a671430>, text=[])"
      ]
     },
     "execution_count": 20,
     "metadata": {},
     "output_type": "execute_result"
    },
    {
     "data": {
      "image/png": "[encoded data removed]",
      "text/plain": [
       "<Figure size 640x480 with 2 Axes>"
      ]
     },
     "metadata": {},
     "output_type": "display_data"
    }
   ],
   "source": [
    "h.plot()"
   ]
  },
  {
   "cell_type": "code",
   "execution_count": 21,
   "id": "0a9e9708-77db-4467-b8d4-e594fc5d91d5",
   "metadata": {},
   "outputs": [
    {
     "data": {
      "text/html": [
       "<html>\n",
       "<div style=\"display:flex; align-items:center;\">\n",
       "<div style=\"width:290px;\">\n",
       "<svg xmlns=\"http://www.w3.org/2000/svg\" viewBox=\"-10 -105 270 120\">\n",
       "<line x1=\"-5\" y1=\"0\" x2=\"255\" y2=\"0\" style=\"fill:none;stroke-width:2;stroke:currentColor\"/>\n",
       "<text text-anchor=\"middle\" x=\"0\" y=\"15\" style=\"fill:currentColor;\">\n",
       "0\n",
       "</text>\n",
       "<text text-anchor=\"middle\" x=\"250\" y=\"15\" style=\"fill:currentColor;\">\n",
       "1\n",
       "</text>\n",
       "<text text-anchor=\"middle\" x=\"125.0\" y=\"15\" style=\"fill:currentColor;\">\n",
       "x-axis\n",
       "</text>\n",
       "<polyline points=\"  0,0   0,-0  25,-0  25,-0  50,-0  50,-0  75,-0  75,-0 100,-0 100,-0 125,-0 125,-0 150,-0 150,-0 175,-0 175,-0 200,-0 200,-0 225,-0 225,-0 250,-0 250,0\" style=\"fill:none; stroke:currentColor;\"/>\n",
       "</svg>\n",
       "</div>\n",
       "<div style=\"flex=grow:1;\">\n",
       "Regular(10, 0, 1, name='x', label='x-axis')<br/>\n",
       "<hr style=\"margin-top:.2em; margin-bottom:.2em;\"/>\n",
       "Int64() Σ=0.0 <em>(3.0 with flow)</em>\n",
       "\n",
       "</div>\n",
       "</div>\n",
       "</html>"
      ],
      "text/plain": [
       "Hist(Regular(10, 0, 1, name='x', label='x-axis'), storage=Int64()) # Sum: 0.0 (3.0 with flow)"
      ]
     },
     "execution_count": 21,
     "metadata": {},
     "output_type": "execute_result"
    }
   ],
   "source": [
    "h.project(\"x\")"
   ]
  },
  {
   "cell_type": "code",
   "execution_count": 22,
   "id": "dcaabf01-9512-4594-9317-ee98da995d6c",
   "metadata": {},
   "outputs": [
    {
     "data": {
      "text/plain": [
       "0"
      ]
     },
     "execution_count": 22,
     "metadata": {},
     "output_type": "execute_result"
    }
   ],
   "source": [
    "h[{\"y\": 0.5j + 3, \"x\": 5j}]"
   ]
  },
  {
   "cell_type": "code",
   "execution_count": 23,
   "id": "de952eb6-873a-4662-8644-9570539e4f59",
   "metadata": {},
   "outputs": [
    {
     "data": {
      "text/plain": [
       "ColormeshArtists(pcolormesh=<matplotlib.collections.QuadMesh object at 0x7f792244c760>, cbar=<matplotlib.colorbar.Colorbar object at 0x7f792244cd30>, text=[])"
      ]
     },
     "execution_count": 23,
     "metadata": {},
     "output_type": "execute_result"
    },
    {
     "data": {
      "image/png": "[encoded data removed]",
      "text/plain": [
       "<Figure size 640x480 with 2 Axes>"
      ]
     },
     "metadata": {},
     "output_type": "display_data"
    }
   ],
   "source": [
    "h.plot()\n"
   ]
  },
  {
   "cell_type": "code",
   "execution_count": 24,
   "id": "7481dbda-e892-48cd-861d-24e801d733f4",
   "metadata": {},
   "outputs": [
    {
     "name": "stderr",
     "output_type": "stream",
     "text": [
      "/opt/conda/lib/python3.8/site-packages/mplhep/error_estimation.py:38: RuntimeWarning: All sumw are zero!  Cannot compute meaningful error bars\n",
      "  warnings.warn(\n"
     ]
    },
    {
     "data": {
      "text/plain": [
       "(ColormeshArtists(pcolormesh=<matplotlib.collections.QuadMesh object at 0x7f79225be880>, cbar=None, text=[]),\n",
       " [StairsArtists(stairs=<matplotlib.patches.StepPatch object at 0x7f79225e2220>, errorbar=<ErrorbarContainer object of 3 artists>, legend_artist=<ErrorbarContainer object of 3 artists>)],\n",
       " [StairsArtists(stairs=<matplotlib.patches.StepPatch object at 0x7f79210488b0>, errorbar=<ErrorbarContainer object of 3 artists>, legend_artist=<ErrorbarContainer object of 3 artists>)])"
      ]
     },
     "execution_count": 24,
     "metadata": {},
     "output_type": "execute_result"
    },
    {
     "data": {
      "image/png": "[encoded data removed]",
      "text/plain": [
       "<Figure size 640x480 with 3 Axes>"
      ]
     },
     "metadata": {},
     "output_type": "display_data"
    }
   ],
   "source": [
    "h.plot2d_full()"
   ]
  },
  {
   "cell_type": "code",
   "execution_count": 25,
   "id": "bf556489-a4a8-4a7c-a704-13f822b88529",
   "metadata": {},
   "outputs": [
    {
     "data": {
      "text/plain": [
       "array([[0., 0., 0., 0., 0., 0., 0., 0., 0.],\n",
       "       [0., 0., 0., 0., 0., 0., 0., 0., 0.],\n",
       "       [0., 0., 0., 0., 0., 0., 0., 0., 0.],\n",
       "       [0., 0., 0., 0., 0., 0., 0., 0., 0.],\n",
       "       [0., 0., 0., 0., 0., 0., 0., 0., 0.],\n",
       "       [0., 0., 0., 0., 0., 0., 0., 0., 0.],\n",
       "       [0., 0., 0., 0., 0., 0., 0., 0., 0.],\n",
       "       [0., 0., 0., 0., 0., 0., 0., 0., 0.],\n",
       "       [0., 0., 0., 0., 0., 0., 0., 0., 0.],\n",
       "       [0., 0., 0., 0., 0., 0., 0., 0., 0.]])"
      ]
     },
     "execution_count": 25,
     "metadata": {},
     "output_type": "execute_result"
    }
   ],
   "source": [
    "h.density()"
   ]
  },
  {
   "cell_type": "code",
   "execution_count": 26,
   "id": "ea924a17-bec6-4794-bd87-adceb909dd88",
   "metadata": {},
   "outputs": [],
   "source": [
    "\n",
    "\n",
    "import correctionlib"
   ]
  },
  {
   "cell_type": "code",
   "execution_count": 27,
   "id": "3599f888-581b-4b1b-9f59-a55165a9debf",
   "metadata": {},
   "outputs": [
    {
     "ename": "FileNotFoundError",
     "evalue": "[Errno 2] No such file or directory: 'mycorrections2.json'",
     "output_type": "error",
     "traceback": [
      "\u001b[0;31m---------------------------------------------------------------------------\u001b[0m",
      "\u001b[0;31mFileNotFoundError\u001b[0m                         Traceback (most recent call last)",
      "Input \u001b[0;32mIn [27]\u001b[0m, in \u001b[0;36m<cell line: 1>\u001b[0;34m()\u001b[0m\n\u001b[0;32m----> 1\u001b[0m ceval \u001b[38;5;241m=\u001b[39m \u001b[43mcorrectionlib\u001b[49m\u001b[38;5;241;43m.\u001b[39;49m\u001b[43mCorrectionSet\u001b[49m\u001b[38;5;241;43m.\u001b[39;49m\u001b[43mfrom_file\u001b[49m\u001b[43m(\u001b[49m\u001b[38;5;124;43m\"\u001b[39;49m\u001b[38;5;124;43mmycorrections2.json\u001b[39;49m\u001b[38;5;124;43m\"\u001b[39;49m\u001b[43m)\u001b[49m\n\u001b[1;32m      2\u001b[0m \u001b[38;5;28mlist\u001b[39m(ceval\u001b[38;5;241m.\u001b[39mkeys())\n",
      "File \u001b[0;32m/opt/conda/lib/python3.8/site-packages/correctionlib/highlevel.py:186\u001b[0m, in \u001b[0;36mCorrectionSet.from_file\u001b[0;34m(cls, filename)\u001b[0m\n\u001b[1;32m    184\u001b[0m \u001b[38;5;129m@classmethod\u001b[39m\n\u001b[1;32m    185\u001b[0m \u001b[38;5;28;01mdef\u001b[39;00m \u001b[38;5;21mfrom_file\u001b[39m(\u001b[38;5;28mcls\u001b[39m, filename: \u001b[38;5;28mstr\u001b[39m) \u001b[38;5;241m-\u001b[39m\u001b[38;5;241m>\u001b[39m \u001b[38;5;124m\"\u001b[39m\u001b[38;5;124mCorrectionSet\u001b[39m\u001b[38;5;124m\"\u001b[39m:\n\u001b[0;32m--> 186\u001b[0m     \u001b[38;5;28;01mreturn\u001b[39;00m \u001b[38;5;28mcls\u001b[39m(\u001b[43mopen_auto\u001b[49m\u001b[43m(\u001b[49m\u001b[43mfilename\u001b[49m\u001b[43m)\u001b[49m)\n",
      "File \u001b[0;32m/opt/conda/lib/python3.8/site-packages/correctionlib/highlevel.py:22\u001b[0m, in \u001b[0;36mopen_auto\u001b[0;34m(filename)\u001b[0m\n\u001b[1;32m     20\u001b[0m         \u001b[38;5;28;01mreturn\u001b[39;00m gzfile\u001b[38;5;241m.\u001b[39mread()\n\u001b[1;32m     21\u001b[0m \u001b[38;5;28;01melif\u001b[39;00m filename\u001b[38;5;241m.\u001b[39mendswith(\u001b[38;5;124m\"\u001b[39m\u001b[38;5;124m.json\u001b[39m\u001b[38;5;124m\"\u001b[39m):\n\u001b[0;32m---> 22\u001b[0m     \u001b[38;5;28;01mwith\u001b[39;00m \u001b[38;5;28;43mopen\u001b[39;49m\u001b[43m(\u001b[49m\u001b[43mfilename\u001b[49m\u001b[43m)\u001b[49m \u001b[38;5;28;01mas\u001b[39;00m file:\n\u001b[1;32m     23\u001b[0m         \u001b[38;5;28;01mreturn\u001b[39;00m file\u001b[38;5;241m.\u001b[39mread()\n\u001b[1;32m     24\u001b[0m \u001b[38;5;28;01mraise\u001b[39;00m \u001b[38;5;167;01mValueError\u001b[39;00m(\u001b[38;5;124mf\u001b[39m\u001b[38;5;124m\"\u001b[39m\u001b[38;5;132;01m{\u001b[39;00mfilename\u001b[38;5;132;01m}\u001b[39;00m\u001b[38;5;124m: unrecognized file format, expected .json, .json.gz\u001b[39m\u001b[38;5;124m\"\u001b[39m)\n",
      "\u001b[0;31mFileNotFoundError\u001b[0m: [Errno 2] No such file or directory: 'mycorrections2.json'"
     ]
    }
   ],
   "source": [
    "ceval = correctionlib.CorrectionSet.from_file(\"mycorrections2.json\")\n",
    "list(ceval.keys())"
   ]
  },
  {
   "cell_type": "code",
   "execution_count": 28,
   "id": "77ba7053-02a5-4fb2-b14e-0ebe08fa142e",
   "metadata": {},
   "outputs": [
    {
     "ename": "NameError",
     "evalue": "name 'ceval' is not defined",
     "output_type": "error",
     "traceback": [
      "\u001b[0;31m---------------------------------------------------------------------------\u001b[0m",
      "\u001b[0;31mNameError\u001b[0m                                 Traceback (most recent call last)",
      "Input \u001b[0;32mIn [28]\u001b[0m, in \u001b[0;36m<cell line: 1>\u001b[0;34m()\u001b[0m\n\u001b[0;32m----> 1\u001b[0m \u001b[43mceval\u001b[49m[\u001b[38;5;124m'\u001b[39m\u001b[38;5;124mphimod\u001b[39m\u001b[38;5;124m'\u001b[39m]\n",
      "\u001b[0;31mNameError\u001b[0m: name 'ceval' is not defined"
     ]
    }
   ],
   "source": [
    "ceval['phimod']"
   ]
  },
  {
   "cell_type": "code",
   "execution_count": 29,
   "id": "4b1bb25b-a083-420d-b4bb-aaa8c3360e7c",
   "metadata": {},
   "outputs": [
    {
     "ename": "NameError",
     "evalue": "name 'ceval' is not defined",
     "output_type": "error",
     "traceback": [
      "\u001b[0;31m---------------------------------------------------------------------------\u001b[0m",
      "\u001b[0;31mNameError\u001b[0m                                 Traceback (most recent call last)",
      "Input \u001b[0;32mIn [29]\u001b[0m, in \u001b[0;36m<cell line: 1>\u001b[0;34m()\u001b[0m\n\u001b[0;32m----> 1\u001b[0m \u001b[38;5;28;01mfor\u001b[39;00m corr \u001b[38;5;129;01min\u001b[39;00m \u001b[43mceval\u001b[49m\u001b[38;5;241m.\u001b[39mvalues():\n\u001b[1;32m      2\u001b[0m     \u001b[38;5;28mprint\u001b[39m(\u001b[38;5;124mf\u001b[39m\u001b[38;5;124m\"\u001b[39m\u001b[38;5;124mCorrection \u001b[39m\u001b[38;5;132;01m{\u001b[39;00mcorr\u001b[38;5;241m.\u001b[39mname\u001b[38;5;132;01m}\u001b[39;00m\u001b[38;5;124m has \u001b[39m\u001b[38;5;132;01m{\u001b[39;00m\u001b[38;5;28mlen\u001b[39m(corr\u001b[38;5;241m.\u001b[39minputs)\u001b[38;5;132;01m}\u001b[39;00m\u001b[38;5;124m inputs\u001b[39m\u001b[38;5;124m\"\u001b[39m)\n\u001b[1;32m      3\u001b[0m     \u001b[38;5;28;01mfor\u001b[39;00m ix \u001b[38;5;129;01min\u001b[39;00m corr\u001b[38;5;241m.\u001b[39minputs:\n",
      "\u001b[0;31mNameError\u001b[0m: name 'ceval' is not defined"
     ]
    }
   ],
   "source": [
    "\n",
    "\n",
    "for corr in ceval.values():\n",
    "    print(f\"Correction {corr.name} has {len(corr.inputs)} inputs\")\n",
    "    for ix in corr.inputs:\n",
    "        print(f\"   Input {ix.name} ({ix.type}): {ix.description}\")\n",
    "\n"
   ]
  },
  {
   "cell_type": "code",
   "execution_count": 30,
   "id": "6b98ed48-dfc5-4631-aef4-615c6f8f01f8",
   "metadata": {},
   "outputs": [
    {
     "ename": "NameError",
     "evalue": "name 'ceval2' is not defined",
     "output_type": "error",
     "traceback": [
      "\u001b[0;31m---------------------------------------------------------------------------\u001b[0m",
      "\u001b[0;31mNameError\u001b[0m                                 Traceback (most recent call last)",
      "Input \u001b[0;32mIn [30]\u001b[0m, in \u001b[0;36m<cell line: 1>\u001b[0;34m()\u001b[0m\n\u001b[0;32m----> 1\u001b[0m corr \u001b[38;5;241m=\u001b[39m \u001b[43mceval2\u001b[49m\n\u001b[1;32m      3\u001b[0m \u001b[38;5;28mprint\u001b[39m(\u001b[38;5;124mf\u001b[39m\u001b[38;5;124m\"\u001b[39m\u001b[38;5;124mCorrection \u001b[39m\u001b[38;5;132;01m{\u001b[39;00mcorr\u001b[38;5;241m.\u001b[39mname\u001b[38;5;132;01m}\u001b[39;00m\u001b[38;5;124m has \u001b[39m\u001b[38;5;132;01m{\u001b[39;00m\u001b[38;5;28mlen\u001b[39m(corr\u001b[38;5;241m.\u001b[39minputs)\u001b[38;5;132;01m}\u001b[39;00m\u001b[38;5;124m inputs\u001b[39m\u001b[38;5;124m\"\u001b[39m)\n\u001b[1;32m      4\u001b[0m \u001b[38;5;28;01mfor\u001b[39;00m ix \u001b[38;5;129;01min\u001b[39;00m corr\u001b[38;5;241m.\u001b[39minputs:\n",
      "\u001b[0;31mNameError\u001b[0m: name 'ceval2' is not defined"
     ]
    }
   ],
   "source": [
    "corr = ceval2\n",
    "\n",
    "print(f\"Correction {corr.name} has {len(corr.inputs)} inputs\")\n",
    "for ix in corr.inputs:\n",
    "    print(f\"   Input {ix.name} ({ix.type}): {ix.description}\")"
   ]
  },
  {
   "cell_type": "code",
   "execution_count": 31,
   "id": "d5be21d1-36f0-4f2e-b7a8-4a69eb1d847c",
   "metadata": {},
   "outputs": [
    {
     "ename": "NameError",
     "evalue": "name 'ceval' is not defined",
     "output_type": "error",
     "traceback": [
      "\u001b[0;31m---------------------------------------------------------------------------\u001b[0m",
      "\u001b[0;31mNameError\u001b[0m                                 Traceback (most recent call last)",
      "Input \u001b[0;32mIn [31]\u001b[0m, in \u001b[0;36m<cell line: 1>\u001b[0;34m()\u001b[0m\n\u001b[0;32m----> 1\u001b[0m \u001b[43mceval\u001b[49m\u001b[38;5;241m.\u001b[39mvalues()\n",
      "\u001b[0;31mNameError\u001b[0m: name 'ceval' is not defined"
     ]
    }
   ],
   "source": [
    "ceval.values()"
   ]
  },
  {
   "cell_type": "code",
   "execution_count": 32,
   "id": "4ba82004-5568-41bf-90da-7773d362029b",
   "metadata": {},
   "outputs": [
    {
     "ename": "NameError",
     "evalue": "name 'corr' is not defined",
     "output_type": "error",
     "traceback": [
      "\u001b[0;31m---------------------------------------------------------------------------\u001b[0m",
      "\u001b[0;31mNameError\u001b[0m                                 Traceback (most recent call last)",
      "Input \u001b[0;32mIn [32]\u001b[0m, in \u001b[0;36m<cell line: 1>\u001b[0;34m()\u001b[0m\n\u001b[0;32m----> 1\u001b[0m \u001b[43mcorr\u001b[49m[\u001b[38;5;124m'\u001b[39m\u001b[38;5;124minputs\u001b[39m\u001b[38;5;124m'\u001b[39m]\n",
      "\u001b[0;31mNameError\u001b[0m: name 'corr' is not defined"
     ]
    }
   ],
   "source": [
    "corr['inputs']"
   ]
  },
  {
   "cell_type": "code",
   "execution_count": null,
   "id": "437f7823-5430-46ba-9c0d-2694e22410e4",
   "metadata": {},
   "outputs": [],
   "source": []
  },
  {
   "cell_type": "code",
   "execution_count": 33,
   "id": "4f60c420-f9e6-4aa9-99cd-bf03a60037c9",
   "metadata": {},
   "outputs": [],
   "source": [
    "from Filesets import CollectDatasets"
   ]
  },
  {
   "cell_type": "code",
   "execution_count": 34,
   "id": "573cb1a6-2bcf-411c-9ee3-af9bc2cb79d8",
   "metadata": {},
   "outputs": [
    {
     "ename": "FileNotFoundError",
     "evalue": "[Errno 2] No such file or directory: 'TTbarAllHadUproot/nanoAODv9Files/QCD/QCD_NanoAODv9_UL16_preVFP.txt'",
     "output_type": "error",
     "traceback": [
      "\u001b[0;31m---------------------------------------------------------------------------\u001b[0m",
      "\u001b[0;31mFileNotFoundError\u001b[0m                         Traceback (most recent call last)",
      "Input \u001b[0;32mIn [34]\u001b[0m, in \u001b[0;36m<cell line: 1>\u001b[0;34m()\u001b[0m\n\u001b[0;32m----> 1\u001b[0m filesets \u001b[38;5;241m=\u001b[39m \u001b[43mCollectDatasets\u001b[49m\u001b[43m(\u001b[49m\u001b[38;5;124;43m'\u001b[39;49m\u001b[38;5;124;43mroot://xcache/\u001b[39;49m\u001b[38;5;124;43m'\u001b[39;49m\u001b[43m)\u001b[49m\n",
      "File \u001b[0;32m~/ttbar/github1022/TTbarAllHadUproot/Filesets.py:65\u001b[0m, in \u001b[0;36mCollectDatasets\u001b[0;34m(redirector_str)\u001b[0m\n\u001b[1;32m     62\u001b[0m \u001b[38;5;28;01mfor\u001b[39;00m v \u001b[38;5;129;01min\u001b[39;00m VFP:\n\u001b[1;32m     63\u001b[0m     \u001b[38;5;66;03m# ---- QCD ---- #\u001b[39;00m\n\u001b[1;32m     64\u001b[0m     ulqcdfilename \u001b[38;5;241m=\u001b[39m filedir \u001b[38;5;241m+\u001b[39m \u001b[38;5;124m'\u001b[39m\u001b[38;5;124mQCD/QCD_NanoAODv9_\u001b[39m\u001b[38;5;124m'\u001b[39m \u001b[38;5;241m+\u001b[39m y \u001b[38;5;241m+\u001b[39m \u001b[38;5;124m'\u001b[39m\u001b[38;5;124m_\u001b[39m\u001b[38;5;124m'\u001b[39m \u001b[38;5;241m+\u001b[39m v \u001b[38;5;241m+\u001b[39m \u001b[38;5;124m'\u001b[39m\u001b[38;5;124m.txt\u001b[39m\u001b[38;5;124m'\u001b[39m\n\u001b[0;32m---> 65\u001b[0m     \u001b[38;5;28;01mwith\u001b[39;00m \u001b[38;5;28;43mopen\u001b[39;49m\u001b[43m(\u001b[49m\u001b[43mulqcdfilename\u001b[49m\u001b[43m)\u001b[49m \u001b[38;5;28;01mas\u001b[39;00m f:\n\u001b[1;32m     66\u001b[0m         ulqcdfiles \u001b[38;5;241m=\u001b[39m [redirector_str \u001b[38;5;241m+\u001b[39m s\u001b[38;5;241m.\u001b[39mstrip() \u001b[38;5;28;01mfor\u001b[39;00m s \u001b[38;5;129;01min\u001b[39;00m f\u001b[38;5;241m.\u001b[39mreadlines()]\n\u001b[1;32m     67\u001b[0m     filesets[y\u001b[38;5;241m+\u001b[39mv\u001b[38;5;241m+\u001b[39m\u001b[38;5;124m'\u001b[39m\u001b[38;5;124m_QCD\u001b[39m\u001b[38;5;124m'\u001b[39m] \u001b[38;5;241m=\u001b[39m ulqcdfiles\n",
      "\u001b[0;31mFileNotFoundError\u001b[0m: [Errno 2] No such file or directory: 'TTbarAllHadUproot/nanoAODv9Files/QCD/QCD_NanoAODv9_UL16_preVFP.txt'"
     ]
    }
   ],
   "source": [
    "filesets = CollectDatasets('root://xcache/')\n"
   ]
  },
  {
   "cell_type": "code",
   "execution_count": 35,
   "id": "ebc600a1-8295-4652-9af6-d5f9a260d9f4",
   "metadata": {},
   "outputs": [
    {
     "ename": "NameError",
     "evalue": "name 'filesets' is not defined",
     "output_type": "error",
     "traceback": [
      "\u001b[0;31m---------------------------------------------------------------------------\u001b[0m",
      "\u001b[0;31mNameError\u001b[0m                                 Traceback (most recent call last)",
      "Input \u001b[0;32mIn [35]\u001b[0m, in \u001b[0;36m<cell line: 1>\u001b[0;34m()\u001b[0m\n\u001b[0;32m----> 1\u001b[0m \u001b[43mfilesets\u001b[49m\u001b[38;5;241m.\u001b[39mkeys()\n",
      "\u001b[0;31mNameError\u001b[0m: name 'filesets' is not defined"
     ]
    }
   ],
   "source": [
    "filesets.keys()"
   ]
  },
  {
   "cell_type": "code",
   "execution_count": null,
   "id": "a7ac9ec6-3f28-4e60-880f-394ae26e5c65",
   "metadata": {},
   "outputs": [],
   "source": [
    "for key in filesets.keys():\n",
    "    if 'post' in key:\n",
    "        print(key.replace('UL16preVFP_', ''), filesets[key][0][24:])\n",
    "    else:\n",
    "        print(key.replace('UL16preVFP_', ''), filesets[key][0])#[0][24:])"
   ]
  },
  {
   "cell_type": "code",
   "execution_count": null,
   "id": "6c56fbcd-cfd2-4e29-9dbf-77361c988c8e",
   "metadata": {},
   "outputs": [],
   "source": [
    "fname = 'root://xcache//store/mc/RunIISummer20UL16NanoAODAPVv9/QCD_Pt-15to7000_TuneCP5_Flat2018_13TeV_pythia8/NANOAODSIM/106X_mcRun2_asymptotic_preVFP_v11-v1/280000/28D6431D-53B5-4848-9711-1004968A7B19.root'\n",
    "fname = 'root://xcache//store/mc/RunIISummer20UL16NanoAODAPVv9/RSGluonToTT_M-5000_TuneCP5_13TeV-pythia8/NANOAODSIM/106X_mcRun2_asymptotic_preVFP_v11-v1/130000/DA014FEE-3263-D34B-B599-0B88643965DF.root'\n",
    "fname = 'root://xcache//store/mc/RunIISummer20UL16NanoAODAPVv9/TT_Mtt-700to1000_TuneCP5_13TeV-powheg-pythia8/NANOAODSIM/106X_mcRun2_asymptotic_preVFP_v11-v1/2530000/A3B85074-0EBB-B244-BBFA-CEEDBDD0A2C5.root'\n",
    "fname = 'root://xcache//store/mc/RunIISummer20UL16NanoAODAPVv9/ZprimeDMToTTbarResoIncl_MZp5000_Mchi10_V1_TuneCP5_13TeV-madgraph_pythia8/NANOAODSIM/106X_mcRun2_asymptotic_preVFP_v11-v1/280000/5EAF12A2-E3AF-D744-A7D4-9F2665FDB8E2.root'\n"
   ]
  },
  {
   "cell_type": "code",
   "execution_count": null,
   "id": "915d5547-a169-4671-9220-05ffb54c2aba",
   "metadata": {},
   "outputs": [],
   "source": [
    "fname"
   ]
  },
  {
   "cell_type": "code",
   "execution_count": null,
   "id": "f403b5fe-30f3-4cfc-a68f-3ff675e2a961",
   "metadata": {},
   "outputs": [],
   "source": [
    "rfile = uproot.open(fname)\n",
    "# events = NanoEventsFactory.from_root(fname, schemaclass=NanoAODSchema).events()\n",
    "# events.fields"
   ]
  },
  {
   "cell_type": "code",
   "execution_count": null,
   "id": "1c8b2cc7-f1f2-469f-8400-7fb5c40913f6",
   "metadata": {},
   "outputs": [],
   "source": [
    "events = NanoEventsFactory.from_root(fname, schemaclass=NanoAODSchema).events()"
   ]
  },
  {
   "cell_type": "code",
   "execution_count": null,
   "id": "35a9105b-f764-4311-9ec0-e8c2df4f5ddf",
   "metadata": {},
   "outputs": [],
   "source": [
    "for obj in events.fields:\n",
    "    if 'lhe' in obj.lower():\n",
    "        print(obj)"
   ]
  },
  {
   "cell_type": "code",
   "execution_count": null,
   "id": "d104239a-e72e-41c5-9b21-f32d41039d50",
   "metadata": {},
   "outputs": [],
   "source": []
  },
  {
   "cell_type": "code",
   "execution_count": null,
   "id": "df8ac785-f42e-48ce-a4e3-0c6001a018f6",
   "metadata": {},
   "outputs": [],
   "source": []
  },
  {
   "cell_type": "code",
   "execution_count": null,
   "id": "cd782ddf-db65-4725-a121-c8e7a0630fa4",
   "metadata": {},
   "outputs": [],
   "source": []
  },
  {
   "cell_type": "code",
   "execution_count": null,
   "id": "551e92fd-a2a0-456a-90f7-c5e2d945b3c3",
   "metadata": {},
   "outputs": [],
   "source": []
  },
  {
   "cell_type": "code",
   "execution_count": null,
   "id": "977bc0b3-d4a3-4726-b136-71b7bbf3d0aa",
   "metadata": {},
   "outputs": [],
   "source": [
    "ttagcats = [\"AT&Pt\", \"at\", \"pret\", \"0t\", \"1t\", \">=1t\", \"2t\", \">=0t\"] \n",
    "btagcats = [\"0b\", \"1b\", \"2b\"]\n",
    "ycats = ['cen', 'fwd']\n",
    "anacats = np.array([ t+b+y for t,b,y in itertools.product( ttagcats, btagcats, ycats) ])"
   ]
  },
  {
   "cell_type": "code",
   "execution_count": 36,
   "id": "266151db-448c-4dd7-b4e6-e9508ed97ce1",
   "metadata": {},
   "outputs": [],
   "source": [
    "# output = util.load('CoffeaOutputsForCombine/Coffea_SecondRun/TT/MediumBTag/2016/noAPV/TTbarRes_0l_UL16postVFP_TTbar_weighted_btagUnc_central.coffea')\n",
    "# output = util.load('CoffeaOutputsForCombine/Coffea_SecondRun/TT/MediumBTag/2016/noAPV/TTbarRes_0l_UL16postVFP_TTbar_weighted.coffea')\n",
    "output = util.load('CoffeaOutputsForCombine/Coffea_SecondRun/RSGluonToTT/MediumBTag/2016/noAPV/TTbarRes_0l_UL16postVFP_RSGluon5000_weighted_jerUnc_jer.coffea')"
   ]
  },
  {
   "cell_type": "code",
   "execution_count": 37,
   "id": "6ecc23e5-d107-4df3-845c-88eecd57eb58",
   "metadata": {},
   "outputs": [
    {
     "data": {
      "text/plain": [
       "dict_keys(['ttbarmass', 'ttbarmass_jerUp', 'ttbarmass_jerDown', 'ttbarmass_jerNom', 'ttbarmass_pdfUp', 'ttbarmass_pdfDown', 'ttbarmass_pdfNom', 'jetmass', 'SDmass', 'SDmass_precat', 'jetpt', 'jeteta', 'jetphi', 'probept', 'probep', 'jety', 'jetdy', 'deepTag_TvsQCD', 'deepTagMD_TvsQCD', 'tau32', 'tau32_2D', 'tau32_precat', 'subjetmass', 'subjetpt', 'subjeteta', 'subjetphi', 'numerator', 'denominator', 'cutflow'])"
      ]
     },
     "execution_count": 37,
     "metadata": {},
     "output_type": "execute_result"
    }
   ],
   "source": [
    "output.keys()"
   ]
  },
  {
   "cell_type": "code",
   "execution_count": 38,
   "id": "73f06398-aabd-4b19-8a86-6f3e8126f0fd",
   "metadata": {},
   "outputs": [
    {
     "data": {
      "text/plain": [
       "[StairsArtists(stairs=<matplotlib.patches.StepPatch object at 0x7f79210bbbe0>, errorbar=<ErrorbarContainer object of 3 artists>, legend_artist=<ErrorbarContainer object of 3 artists>)]"
      ]
     },
     "execution_count": 38,
     "metadata": {},
     "output_type": "execute_result"
    },
    {
     "data": {
      "image/png": "[encoded data removed]",
      "text/plain": [
       "<Figure size 640x480 with 1 Axes>"
      ]
     },
     "metadata": {},
     "output_type": "display_data"
    }
   ],
   "source": [
    "output['ttbarmass'][{\"anacat\":sum}].plot1d(overlay=\"dataset\")#, histtype=\"fill\", stack=True)\n"
   ]
  },
  {
   "cell_type": "code",
   "execution_count": 39,
   "id": "6774e11f-2191-42df-bef7-6f39e6f73473",
   "metadata": {},
   "outputs": [
    {
     "data": {
      "text/plain": [
       "<matplotlib.legend.Legend at 0x7f7920aae2b0>"
      ]
     },
     "execution_count": 39,
     "metadata": {},
     "output_type": "execute_result"
    },
    {
     "data": {
      "image/png": "[encoded data removed]",
      "text/plain": [
       "<Figure size 640x480 with 1 Axes>"
      ]
     },
     "metadata": {},
     "output_type": "display_data"
    }
   ],
   "source": [
    "output['ttbarmass_jerNom'][{\"anacat\":sum}].plot1d(overlay=\"dataset\")\n",
    "output['ttbarmass_jerUp'][{\"anacat\":sum}].plot1d(overlay=\"dataset\")\n",
    "output['ttbarmass_jerDown'][{\"anacat\":sum}].plot1d(overlay=\"dataset\")\n",
    "# plt.ylim(1500, 2000)\n",
    "plt.legend(['central', 'up', 'down'])"
   ]
  },
  {
   "cell_type": "code",
   "execution_count": 40,
   "id": "1ee30627-8494-468c-a441-189b4b87c7f0",
   "metadata": {},
   "outputs": [
    {
     "ename": "NameError",
     "evalue": "name 'anacats' is not defined",
     "output_type": "error",
     "traceback": [
      "\u001b[0;31m---------------------------------------------------------------------------\u001b[0m",
      "\u001b[0;31mNameError\u001b[0m                                 Traceback (most recent call last)",
      "Input \u001b[0;32mIn [40]\u001b[0m, in \u001b[0;36m<cell line: 1>\u001b[0;34m()\u001b[0m\n\u001b[1;32m      1\u001b[0m \u001b[38;5;28;01mfor\u001b[39;00m i \u001b[38;5;129;01min\u001b[39;00m \u001b[38;5;28mrange\u001b[39m(\u001b[38;5;241m48\u001b[39m):\n\u001b[0;32m----> 3\u001b[0m     \u001b[38;5;28mprint\u001b[39m(\u001b[43manacats\u001b[49m[i], output[\u001b[38;5;124m'\u001b[39m\u001b[38;5;124mttbarmass_jerNom\u001b[39m\u001b[38;5;124m'\u001b[39m]\u001b[38;5;241m.\u001b[39msum()\u001b[38;5;241m.\u001b[39mvalue)\n\u001b[1;32m      6\u001b[0m     output[\u001b[38;5;124m'\u001b[39m\u001b[38;5;124mttbarmass_jerUp\u001b[39m\u001b[38;5;124m'\u001b[39m][{\u001b[38;5;124m\"\u001b[39m\u001b[38;5;124manacat\u001b[39m\u001b[38;5;124m\"\u001b[39m:i}]\u001b[38;5;241m.\u001b[39mplot1d(overlay\u001b[38;5;241m=\u001b[39m\u001b[38;5;124m\"\u001b[39m\u001b[38;5;124mdataset\u001b[39m\u001b[38;5;124m\"\u001b[39m)\u001b[38;5;66;03m#, histtype=\"fill\", stack=True)\u001b[39;00m\n\u001b[1;32m      7\u001b[0m     output[\u001b[38;5;124m'\u001b[39m\u001b[38;5;124mttbarmass_jerDown\u001b[39m\u001b[38;5;124m'\u001b[39m][{\u001b[38;5;124m\"\u001b[39m\u001b[38;5;124manacat\u001b[39m\u001b[38;5;124m\"\u001b[39m:i}]\u001b[38;5;241m.\u001b[39mplot1d(overlay\u001b[38;5;241m=\u001b[39m\u001b[38;5;124m\"\u001b[39m\u001b[38;5;124mdataset\u001b[39m\u001b[38;5;124m\"\u001b[39m)\u001b[38;5;66;03m#, histtype=\"fill\", stack=True)\u001b[39;00m\n",
      "\u001b[0;31mNameError\u001b[0m: name 'anacats' is not defined"
     ]
    }
   ],
   "source": [
    "for i in range(48):\n",
    "    \n",
    "    print(anacats[i], output['ttbarmass_jerNom'].sum().value)\n",
    "    \n",
    "    \n",
    "    output['ttbarmass_jerUp'][{\"anacat\":i}].plot1d(overlay=\"dataset\")#, histtype=\"fill\", stack=True)\n",
    "    output['ttbarmass_jerDown'][{\"anacat\":i}].plot1d(overlay=\"dataset\")#, histtype=\"fill\", stack=True)\n",
    "    output['ttbarmass_jerNom'][{\"anacat\":i}].plot1d(overlay=\"dataset\")#, histtype=\"fill\", stack=True)\n",
    "    plt.legend([anacats[i]])\n",
    "    plt.show()\n"
   ]
  },
  {
   "cell_type": "code",
   "execution_count": 41,
   "id": "224246d2-3b61-44cd-a2df-0a55e4992de5",
   "metadata": {},
   "outputs": [
    {
     "data": {
      "text/plain": [
       "[StairsArtists(stairs=<matplotlib.patches.StepPatch object at 0x7f7920ccf640>, errorbar=<ErrorbarContainer object of 3 artists>, legend_artist=<ErrorbarContainer object of 3 artists>)]"
      ]
     },
     "execution_count": 41,
     "metadata": {},
     "output_type": "execute_result"
    },
    {
     "data": {
      "image/png": "[encoded data removed]",
      "text/plain": [
       "<Figure size 640x480 with 1 Axes>"
      ]
     },
     "metadata": {},
     "output_type": "display_data"
    }
   ],
   "source": [
    "output['ttbarmass_jerNom'][{\"anacat\":sum}].plot1d(overlay=\"dataset\")#, histtype=\"fill\", stack=True)\n"
   ]
  },
  {
   "cell_type": "code",
   "execution_count": 42,
   "id": "d5ea93ee-65e3-41b7-9e4c-0e4af1280342",
   "metadata": {},
   "outputs": [
    {
     "data": {
      "text/plain": [
       "dict_keys(['ttbarmass', 'ttbarmass_jerUp', 'ttbarmass_jerDown', 'ttbarmass_jerNom', 'ttbarmass_pdfUp', 'ttbarmass_pdfDown', 'ttbarmass_pdfNom', 'jetmass', 'SDmass', 'SDmass_precat', 'jetpt', 'jeteta', 'jetphi', 'probept', 'probep', 'jety', 'jetdy', 'deepTag_TvsQCD', 'deepTagMD_TvsQCD', 'tau32', 'tau32_2D', 'tau32_precat', 'subjetmass', 'subjetpt', 'subjeteta', 'subjetphi', 'numerator', 'denominator', 'cutflow'])"
      ]
     },
     "execution_count": 42,
     "metadata": {},
     "output_type": "execute_result"
    }
   ],
   "source": [
    "output.keys()"
   ]
  },
  {
   "cell_type": "code",
   "execution_count": 47,
   "id": "5d6a2021-d63e-47a8-ae5a-7cddddeed8c3",
   "metadata": {},
   "outputs": [],
   "source": [
    "# from dask.distributed import Client\n",
    "\n",
    "# client = Client(\"tls://morris35-40buffalo-2eedu.dask.cmsaf-prod.flatiron.hollandhpc.org:8786\")\n",
    "# client"
   ]
  },
  {
   "cell_type": "code",
   "execution_count": null,
   "id": "54f90a58-01ff-4646-a130-3ff9b74b3089",
   "metadata": {},
   "outputs": [],
   "source": []
  },
  {
   "cell_type": "code",
   "execution_count": null,
   "id": "2da739e1-721a-4cad-954b-f8333029b1c0",
   "metadata": {},
   "outputs": [],
   "source": [
    "from dask.distributed import Client\n",
    "from coffea_casa import CoffeaCasaCluster\n",
    "\n",
    "# cluster = CoffeaCasaCluster()"
   ]
  },
  {
   "cell_type": "code",
   "execution_count": null,
   "id": "310101b0-7776-4a7f-a92d-c438fede255e",
   "metadata": {},
   "outputs": [],
   "source": [
    "client = Client('tls://morris35-40buffalo-2eedu.dask.cmsaf-prod.flatiron.hollandhpc.org:8786')"
   ]
  },
  {
   "cell_type": "code",
   "execution_count": null,
   "id": "0da79f63-3e72-4a85-81c8-61460ce1f1b7",
   "metadata": {},
   "outputs": [],
   "source": [
    "cluster = CoffeaCasaCluster()"
   ]
  },
  {
   "cell_type": "code",
   "execution_count": null,
   "id": "d6852ca4-cf8e-49c2-bbe1-6f7cffcfa8ec",
   "metadata": {},
   "outputs": [],
   "source": [
    "client = Client('tls://morris35-40buffalo-2eedu.dask.cmsaf-prod.flatiron.hollandhpc.org:8786')"
   ]
  },
  {
   "cell_type": "code",
   "execution_count": null,
   "id": "7858f36e-7dfe-4bd0-b177-62c5c66aacea",
   "metadata": {},
   "outputs": [],
   "source": [
    "cluster = CoffeaCasaCluster(cores=11, memory=\"100 GiB\",death_timeout=30.,\n",
    "                            scheduler_options={\"port\": \"8778\", \"dashboard_address\": \"8779\"}\n",
    "                           \n",
    "                           )"
   ]
  },
  {
   "cell_type": "code",
   "execution_count": null,
   "id": "5d90fd98-3b05-4837-98d1-ed7af7443359",
   "metadata": {},
   "outputs": [],
   "source": [
    "client"
   ]
  },
  {
   "cell_type": "code",
   "execution_count": null,
   "id": "0ae765fe-8fd7-438e-9ce9-78ed500a509b",
   "metadata": {},
   "outputs": [],
   "source": [
    "cluster = CoffeaCasaCluster()"
   ]
  },
  {
   "cell_type": "code",
   "execution_count": null,
   "id": "8cee582d-101e-4d43-a358-c691406095de",
   "metadata": {},
   "outputs": [],
   "source": [
    "from dask_jobqueue import PBSCluster\n"
   ]
  },
  {
   "cell_type": "code",
   "execution_count": null,
   "id": "816dfbe5-e75b-42cf-b022-98482d6c2837",
   "metadata": {},
   "outputs": [],
   "source": [
    "cluster = PBSCluster(cores=15, memory='100GB')"
   ]
  },
  {
   "cell_type": "code",
   "execution_count": null,
   "id": "07160470-363b-478d-8911-948166b61fc7",
   "metadata": {},
   "outputs": [],
   "source": []
  }
 ],
 "metadata": {
  "kernelspec": {
   "display_name": "Python 3 (ipykernel)",
   "language": "python",
   "name": "python3"
  },
  "language_info": {
   "codemirror_mode": {
    "name": "ipython",
    "version": 3
   },
   "file_extension": ".py",
   "mimetype": "text/x-python",
   "name": "python",
   "nbconvert_exporter": "python",
   "pygments_lexer": "ipython3",
   "version": "3.8.16"
  }
 },
 "nbformat": 4,
 "nbformat_minor": 5
}
