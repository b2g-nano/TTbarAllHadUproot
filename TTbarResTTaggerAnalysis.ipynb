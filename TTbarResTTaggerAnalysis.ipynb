{
 "cells": [
  {
   "cell_type": "code",
   "execution_count": null,
   "id": "3ee83dd2-bf25-4e9a-aff9-4e462a9ce6d7",
   "metadata": {},
   "outputs": [],
   "source": [
    "import os\n",
    "import hist\n",
    "from coffea import util\n",
    "import numpy as np\n",
    "import itertools\n",
    "import mplhep as hep"
   ]
  },
  {
   "cell_type": "code",
   "execution_count": null,
   "id": "be5268f2-a592-44c3-bf86-60fdbe6ddaa3",
   "metadata": {},
   "outputs": [],
   "source": [
    "def ConvertLabelToInt(mapping, str_label):\n",
    "    for intkey, string in mapping.items():\n",
    "        if str_label == string:\n",
    "            return intkey"
   ]
  },
  {
   "cell_type": "code",
   "execution_count": null,
   "id": "8fa5553e-e71f-49c8-bf22-97d74dc94285",
   "metadata": {},
   "outputs": [],
   "source": [
    "dir1 = 'CoffeaOutputs/UnweightedOutputs/'\n",
    "dir2 = 'CoffeaOutputsForCombine/Coffea_FirstRun/'\n",
    "\n",
    "btagdir = 'MediumBTag/'\n",
    "yeardir = '2016/'\n",
    "apvdir = 'noAPV/'"
   ]
  },
  {
   "cell_type": "code",
   "execution_count": null,
   "id": "60811e62-3b98-4b32-b7a1-8c5f3f2ed083",
   "metadata": {},
   "outputs": [],
   "source": [
    "JetHT2016_unweighted = util.load(dir2+'JetHT/'+btagdir+yeardir+'TTbarRes_0l_JetHT2016_Data.coffea')"
   ]
  },
  {
   "cell_type": "code",
   "execution_count": null,
   "id": "ed28547d-4107-4b1d-882d-d7650b2c96c2",
   "metadata": {},
   "outputs": [],
   "source": [
    "Datasets = {\n",
    "    'JetHT2016': JetHT2016_unweighted\n",
    "}"
   ]
  },
  {
   "cell_type": "code",
   "execution_count": null,
   "id": "5f4286fa-2857-4896-b87d-1c2d7450d9b7",
   "metadata": {},
   "outputs": [],
   "source": [
    "for dataset,output in Datasets.items():\n",
    "    print(\"-------\" + dataset + \" Cutflow--------\")\n",
    "    for i,j in output['cutflow'].items():        \n",
    "        print( '%20s : %20s' % (i,j) )"
   ]
  },
  {
   "cell_type": "code",
   "execution_count": null,
   "id": "79f05ed3-3b7d-4dd9-991a-adaca1dedf53",
   "metadata": {},
   "outputs": [],
   "source": [
    "import matplotlib.colors as colors\n",
    "import matplotlib.pyplot as plt\n",
    "import warnings\n",
    "import re # regular expressions\n",
    "warnings.filterwarnings(\"ignore\")\n",
    "\n",
    "# ---- Reiterate categories ---- #\n",
    "ttagcats = [\"AT&Pt\", \"at\", \"pret\", \">=0t\", \"0t\", \">=1t\", \"1t\", \"2t\"]\n",
    "btagcats = [\"0b\", \"1b\", \"2b\"]\n",
    "ycats = ['cen', 'fwd']\n",
    "\n",
    "list_of_cats = [ t+b+y for t,b,y in itertools.product( ttagcats, btagcats, ycats) ]\n",
    "label_dict = {i: label for i, label in enumerate(list_of_cats)}"
   ]
  },
  {
   "cell_type": "code",
   "execution_count": null,
   "id": "fbbe5a2e-de5f-4bb2-a38c-004d5ecbf7f0",
   "metadata": {},
   "outputs": [],
   "source": [
    "for y in ['cen', 'fwd']:\n",
    "    plt.rcParams.update({\n",
    "        'font.size': 14,\n",
    "        'axes.titlesize': 18,\n",
    "        'axes.labelsize': 18,\n",
    "        'xtick.labelsize': 12,\n",
    "        'ytick.labelsize': 12\n",
    "        })\n",
    "    # fig, ax = plt.subplots(\n",
    "    #     nrows=1,\n",
    "    #     ncols=1,\n",
    "    #     figsize=(8,8),\n",
    "    #     sharex=True\n",
    "    # )\n",
    "    # fig.subplots_adjust(hspace=.07)\n",
    "    plt.figure(figsize=(8, 8))\n",
    "\n",
    "    # -- dataset_axis, cats_axis, jetpt_axis, jetmass_axis, tagger_axis -- #\n",
    "\n",
    "    TaggerInfoMass = JetHT2016_unweighted['deepTagMD_TvsQCD']['JetHT2016_Data', ConvertLabelToInt(label_dict, '2t0b'+y), sum, :, :]\n",
    "    \n",
    "    TaggerInfoMass.plot2d_full(\n",
    "        main_cmap=\"coolwarm\",\n",
    "        top_ls=\"--\",\n",
    "        top_color=\"orange\",\n",
    "        top_lw=2,\n",
    "        side_ls=\":\",\n",
    "        side_lw=2,\n",
    "        side_color=\"steelblue\",\n",
    "    )\n",
    "    \n",
    "    plt.xlim(400,500)\n",
    "\n",
    "    plt.show()"
   ]
  },
  {
   "cell_type": "code",
   "execution_count": null,
   "id": "72879e16-c58f-4d11-b654-2069c417f1f4",
   "metadata": {},
   "outputs": [],
   "source": []
  }
 ],
 "metadata": {
  "kernelspec": {
   "display_name": "Python 3 (ipykernel)",
   "language": "python",
   "name": "python3"
  },
  "language_info": {
   "codemirror_mode": {
    "name": "ipython",
    "version": 3
   },
   "file_extension": ".py",
   "mimetype": "text/x-python",
   "name": "python",
   "nbconvert_exporter": "python",
   "pygments_lexer": "ipython3",
   "version": "3.8.16"
  }
 },
 "nbformat": 4,
 "nbformat_minor": 5
}
