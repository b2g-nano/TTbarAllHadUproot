{
 "cells": [
  {
   "cell_type": "markdown",
   "id": "31b7434e",
   "metadata": {},
   "source": [
    "# Save the MC b-tag Efficiency, $\\epsilon\\left(p_T,\\ \\eta\\right)$ for each Subjet and Store them in .csv Files to Import into `TTbarResProccesor*`"
   ]
  },
  {
   "cell_type": "markdown",
   "id": "4251b573",
   "metadata": {},
   "source": [
    "## 1.) Define a function that makes 2D histograms of efficiency and import the coffea output(s)"
   ]
  },
  {
   "cell_type": "code",
   "execution_count": null,
   "id": "dab5c9a7",
   "metadata": {},
   "outputs": [],
   "source": [
    "import os\n",
    "from coffea import hist\n",
    "from coffea import util\n",
    "import numpy as np\n",
    "import itertools\n",
    "import mplhep as hep\n",
    "from hist.intervals import ratio_uncertainty\n",
    "import matplotlib.colors as colors\n",
    "import pandas as pd"
   ]
  },
  {
   "cell_type": "code",
   "execution_count": null,
   "id": "549965b6",
   "metadata": {},
   "outputs": [],
   "source": [
    "def plotratio2d(numerator, denominator, ax=None, cmap='Blues', cbar=True):\n",
    "    NumeratorAxes = numerator.axes()\n",
    "    DenominatorAxes = denominator.axes()\n",
    "    \n",
    "    # integer number of bins in this axis #\n",
    "    NumeratorAxis1_BinNumber = NumeratorAxes[0].size - 3 # Subtract 3 to remove overflow\n",
    "    NumeratorAxis2_BinNumber = NumeratorAxes[1].size - 3\n",
    "    \n",
    "    DenominatorAxis1_BinNumber = DenominatorAxes[0].size - 3 \n",
    "    DenominatorAxis2_BinNumber = DenominatorAxes[1].size - 3 \n",
    "    \n",
    "    if(NumeratorAxis1_BinNumber != DenominatorAxis1_BinNumber \n",
    "       or NumeratorAxis2_BinNumber != DenominatorAxis2_BinNumber):\n",
    "        raise Exception('Numerator and Denominator axes are different sizes; Cannot perform division.')\n",
    "    else:\n",
    "        Numerator = numerator.to_hist()\n",
    "        Denominator = denominator.to_hist()\n",
    "\n",
    "        ratio = Numerator / Denominator.values()\n",
    "\n",
    "#         err_up, err_down = ratio_uncertainty(Numerator.values(), Denominator_fixed, 'poisson-ratio')\n",
    "\n",
    "#         labels = []\n",
    "#         for ra, u, d in zip(ratio.values().ravel(), err_up.ravel(), err_down.ravel()):\n",
    "#             ra, u, d = f'{ra:.2f}', f'{u:.2f}', f'{d:.2f}'\n",
    "#             st = '$'+ra+'_{-'+d+'}^{+'+u+'}$'\n",
    "#             labels.append(st)\n",
    "#         labels = np.array(labels).reshape(NumeratorAxis1_BinNumber,NumeratorAxis2_BinNumber)\n",
    "        \n",
    "        return hep.hist2dplot(ratio, ax=ax, cmap=cmap, norm=colors.Normalize(0.,1.), cbar=cbar)"
   ]
  },
  {
   "cell_type": "markdown",
   "id": "7511f023",
   "metadata": {},
   "source": [
    "### Define a function to make directories (if the directory does not already exist)"
   ]
  },
  {
   "cell_type": "code",
   "execution_count": null,
   "id": "7eb7b056",
   "metadata": {},
   "outputs": [],
   "source": [
    "def mkdir_p(mypath):\n",
    "    '''Creates a directory. equivalent to using mkdir -p on the command line'''\n",
    "\n",
    "    from errno import EEXIST\n",
    "    from os import makedirs,path\n",
    "\n",
    "    try:\n",
    "        makedirs(mypath)\n",
    "    except OSError as exc: # Python >2.5\n",
    "        if exc.errno == EEXIST and path.isdir(mypath):\n",
    "            pass\n",
    "        else: raise"
   ]
  },
  {
   "cell_type": "code",
   "execution_count": null,
   "id": "873ac12f",
   "metadata": {},
   "outputs": [],
   "source": [
    "def DoesDirectoryExist(mypath): #extra precaution (Probably overkill...)\n",
    "    '''Checks to see if Directory exists before running mkdir_p'''\n",
    "    import os.path\n",
    "    from os import path\n",
    "    \n",
    "    if path.exists(mypath):\n",
    "        pass\n",
    "    else:\n",
    "        mkdir_p(mypath)"
   ]
  },
  {
   "cell_type": "code",
   "execution_count": null,
   "id": "77d33bdd",
   "metadata": {},
   "outputs": [],
   "source": [
    "maindirectory = os.getcwd()"
   ]
  },
  {
   "cell_type": "markdown",
   "id": "4f8403bc",
   "metadata": {},
   "source": [
    "### Upload coffea files\n",
    "Store the coffea output files in a dictionary of `Datasets` to loop through"
   ]
  },
  {
   "cell_type": "code",
   "execution_count": null,
   "id": "49f3ce3b",
   "metadata": {},
   "outputs": [],
   "source": [
    "dir = 'CoffeaOutputs/UnweightedOutputs/'\n",
    "\n",
    "QCD_unweighted = util.load(dir+'TTbarResCoffea_QCD_unweighted_output.coffea')\n",
    "TTbar_unweighted = util.load(dir+'TTbarResCoffea_TTbar_unweighted_output.coffea')\n",
    "RSGluon1000_unweighted = util.load(dir+'TTbarResCoffea_RSGluon1000_unweighted_output.coffea')"
   ]
  },
  {
   "cell_type": "code",
   "execution_count": null,
   "id": "a12a8f83",
   "metadata": {},
   "outputs": [],
   "source": [
    "Datasets = {\n",
    "    'QCD': QCD_unweighted,\n",
    "    'TTbar': TTbar_unweighted,\n",
    "    'RSGluon1000': RSGluon1000_unweighted\n",
    "}"
   ]
  },
  {
   "cell_type": "code",
   "execution_count": null,
   "id": "a5eae1c8",
   "metadata": {},
   "outputs": [],
   "source": [
    "PlotWithLargeBins = True"
   ]
  },
  {
   "cell_type": "markdown",
   "id": "96f88fb8",
   "metadata": {},
   "source": [
    "### Make the list of subjets to loop through"
   ]
  },
  {
   "cell_type": "code",
   "execution_count": null,
   "id": "07d06905",
   "metadata": {},
   "outputs": [],
   "source": [
    "list_of_subjets = ['s01', 's02', 's11', 's12']"
   ]
  },
  {
   "cell_type": "markdown",
   "id": "2c106870",
   "metadata": {},
   "source": [
    "## 2.) Loop through each subjet, put numerator and denominator in `plotratio2d` and make and save pandas dataframe as .csv file\n",
    "The name of file will correspond to the MC dataset `XX_` and subjet in question `sXX_` and ending in `Xtageff.csv`"
   ]
  },
  {
   "cell_type": "markdown",
   "id": "efeb1d43",
   "metadata": {},
   "source": [
    "## b-tag lists"
   ]
  },
  {
   "cell_type": "code",
   "execution_count": null,
   "id": "890a779d",
   "metadata": {},
   "outputs": [],
   "source": [
    "SaveDirectory = maindirectory + '/FlavorTagEfficiencies_NoAnacat/btagEfficiencyTables/'\n",
    "DoesDirectoryExist(SaveDirectory)\n",
    "if PlotWithLargeBins == True:\n",
    "    binwidth = '_largerbins'\n",
    "    filename_bw = '_large_bins'\n",
    "else:\n",
    "    binwidth = ''\n",
    "    filename_bw = ''\n",
    "for dataset,output in Datasets.items():\n",
    "    for subjet in list_of_subjets:\n",
    "        \n",
    "        b_eff_numerator = output['b_eff_numerator_' + subjet + binwidth].integrate('dataset', dataset)\n",
    "        b_eff_denominator = output['b_eff_denominator_' + subjet + binwidth].integrate('dataset', dataset)\n",
    "\n",
    "        b_eff = plotratio2d(b_eff_numerator, b_eff_denominator) #ColormeshArtists object\n",
    "\n",
    "        b_eff_data = b_eff[0].get_array().data # This is what goes into pandas dataframe\n",
    "\n",
    "        # ---- Define pt and eta bins from the numerator or denominator hist objects ---- #\n",
    "        pt_bins = []\n",
    "        eta_bins = []\n",
    "\n",
    "        for iden in b_eff_numerator.identifiers('subjetpt'):\n",
    "            pt_bins.append(iden)\n",
    "        for iden in b_eff_numerator.identifiers('subjeteta'):\n",
    "            eta_bins.append(iden)\n",
    "\n",
    "        # ---- Define the Efficiency List as a Pandas Dataframe ---- #\n",
    "        EfficiencyList = pd.DataFrame(\n",
    "                            b_eff_data,\n",
    "                            pd.MultiIndex.from_product( [pt_bins, eta_bins], names=['pt', 'eta'] ),\n",
    "                            ['efficiency']\n",
    "                        )\n",
    "\n",
    "        # ---- Save the Efficiency List as .csv ---- #\n",
    "        filename = dataset + '_' + subjet + '_btageff' + filename_bw + '.csv'\n",
    "        EfficiencyList.to_csv(SaveDirectory+filename)\n",
    "        print('\\nSaved ' + filename)\n",
    "\n",
    "        # ---- Temporary Test ---- #\n",
    "#         if subjet == 's01':\n",
    "#             print(EfficiencyList)"
   ]
  },
  {
   "cell_type": "markdown",
   "id": "66bc5f7b",
   "metadata": {},
   "source": [
    "## c-tag lists"
   ]
  },
  {
   "cell_type": "code",
   "execution_count": null,
   "id": "ff3527f6",
   "metadata": {},
   "outputs": [],
   "source": [
    "SaveDirectory = maindirectory + '/FlavorTagEfficiencies_NoAnacat/ctagEfficiencyTables/'\n",
    "DoesDirectoryExist(SaveDirectory)\n",
    "if PlotWithLargeBins == True:\n",
    "    binwidth = '_largerbins'\n",
    "    filename_bw = '_large_bins'\n",
    "else:\n",
    "    binwidth = ''\n",
    "    filename_bw = ''\n",
    "for dataset,output in Datasets.items():\n",
    "    for subjet in list_of_subjets:\n",
    "        \n",
    "        c_eff_numerator = output['c_eff_numerator_' + subjet + binwidth].integrate('dataset', dataset)\n",
    "        c_eff_denominator = output['c_eff_denominator_' + subjet + binwidth].integrate('dataset', dataset)\n",
    "\n",
    "        c_eff = plotratio2d(c_eff_numerator, c_eff_denominator, cmap='Greens') #ColormeshArtists object\n",
    "\n",
    "        c_eff_data = c_eff[0].get_array().data # This is what goes into pandas dataframe\n",
    "\n",
    "        # ---- Define pt and eta bins from the numerator or denominator hist objects ---- #\n",
    "        pt_bins = []\n",
    "        eta_bins = []\n",
    "\n",
    "        for iden in b_eff_numerator.identifiers('subjetpt'):\n",
    "            pt_bins.append(iden)\n",
    "        for iden in b_eff_numerator.identifiers('subjeteta'):\n",
    "            eta_bins.append(iden)\n",
    "\n",
    "        # ---- Define the Efficiency List as a Pandas Dataframe ---- #\n",
    "        EfficiencyList = pd.DataFrame(\n",
    "                            c_eff_data,\n",
    "                            pd.MultiIndex.from_product( [pt_bins, eta_bins], names=['pt', 'eta'] ),\n",
    "                            ['efficiency']\n",
    "                        )\n",
    "\n",
    "        # ---- Save the Efficiency List as .csv ---- #\n",
    "        filename = dataset + '_' + subjet + '_ctageff' + filename_bw + '.csv'\n",
    "        EfficiencyList.to_csv(SaveDirectory+filename)\n",
    "        print('\\nSaved ' + filename)\n",
    "\n",
    "        # ---- Temporary Test ---- #\n",
    "#         if subjet == 's01':\n",
    "#             print(EfficiencyList)"
   ]
  },
  {
   "cell_type": "markdown",
   "id": "aa546f09",
   "metadata": {},
   "source": [
    "## udsg-tag lists"
   ]
  },
  {
   "cell_type": "code",
   "execution_count": null,
   "id": "66ad2b37",
   "metadata": {},
   "outputs": [],
   "source": [
    "SaveDirectory = maindirectory + '/FlavorTagEfficiencies_NoAnacat/udsgtagEfficiencyTables/'\n",
    "DoesDirectoryExist(SaveDirectory)\n",
    "if PlotWithLargeBins == True:\n",
    "    binwidth = '_largerbins'\n",
    "    filename_bw = '_large_bins'\n",
    "else:\n",
    "    binwidth = ''\n",
    "    filename_bw = ''\n",
    "for dataset,output in Datasets.items():\n",
    "    for subjet in list_of_subjets:\n",
    "        \n",
    "        udsg_eff_numerator = output['udsg_eff_numerator_' + subjet + binwidth].integrate('dataset', dataset)\n",
    "        udsg_eff_denominator = output['udsg_eff_denominator_' + subjet + binwidth].integrate('dataset', dataset)\n",
    "\n",
    "        udsg_eff = plotratio2d(udsg_eff_numerator, udsg_eff_denominator, cmap='Reds') #ColormeshArtists object\n",
    "\n",
    "        udsg_eff_data = udsg_eff[0].get_array().data # This is what goes into pandas dataframe\n",
    "\n",
    "        # ---- Define pt and eta bins from the numerator or denominator hist objects ---- #\n",
    "        pt_bins = []\n",
    "        eta_bins = []\n",
    "\n",
    "        for iden in b_eff_numerator.identifiers('subjetpt'):\n",
    "            pt_bins.append(iden)\n",
    "        for iden in b_eff_numerator.identifiers('subjeteta'):\n",
    "            eta_bins.append(iden)\n",
    "\n",
    "        # ---- Define the Efficiency List as a Pandas Dataframe ---- #\n",
    "        EfficiencyList = pd.DataFrame(\n",
    "                            c_eff_data,\n",
    "                            pd.MultiIndex.from_product( [pt_bins, eta_bins], names=['pt', 'eta'] ),\n",
    "                            ['efficiency']\n",
    "                        )\n",
    "\n",
    "        # ---- Save the Efficiency List as .csv ---- #\n",
    "        filename = dataset + '_' + subjet + '_udsgtageff' + filename_bw + '.csv'\n",
    "        EfficiencyList.to_csv(SaveDirectory+filename)\n",
    "        print('\\nSaved ' + filename)\n",
    "\n",
    "        # ---- Temporary Test ---- #\n",
    "#         if subjet == 's01':\n",
    "#             print(EfficiencyList)"
   ]
  },
  {
   "cell_type": "code",
   "execution_count": null,
   "id": "4018b99b",
   "metadata": {},
   "outputs": [],
   "source": []
  }
 ],
 "metadata": {
  "kernelspec": {
   "display_name": "Python 3",
   "language": "python",
   "name": "python3"
  },
  "language_info": {
   "codemirror_mode": {
    "name": "ipython",
    "version": 3
   },
   "file_extension": ".py",
   "mimetype": "text/x-python",
   "name": "python",
   "nbconvert_exporter": "python",
   "pygments_lexer": "ipython3",
   "version": "3.8.10"
  }
 },
 "nbformat": 4,
 "nbformat_minor": 5
}
