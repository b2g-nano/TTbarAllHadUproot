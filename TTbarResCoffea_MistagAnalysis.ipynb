{
 "cells": [
  {
   "cell_type": "code",
   "execution_count": 1,
   "id": "0ff93c0a",
   "metadata": {},
   "outputs": [
    {
     "name": "stderr",
     "output_type": "stream",
     "text": [
      "/tmp/ipykernel_3576/3777615979.py:1: DeprecationWarning: Importing display from IPython.core.display is deprecated since IPython 7.14, please import from IPython display\n",
      "  from IPython.core.display import display, HTML\n"
     ]
    },
    {
     "data": {
      "text/html": [
       "<style>.container { width:100% !important; }</style>"
      ],
      "text/plain": [
       "<IPython.core.display.HTML object>"
      ]
     },
     "metadata": {},
     "output_type": "display_data"
    }
   ],
   "source": [
    "from IPython.core.display import display, HTML\n",
    "display(HTML(\"<style>.container { width:100% !important; }</style>\"))"
   ]
  },
  {
   "cell_type": "code",
   "execution_count": 2,
   "id": "ec866241",
   "metadata": {},
   "outputs": [],
   "source": [
    "import os\n",
    "import copy\n",
    "import hist\n",
    "from coffea import util\n",
    "import numpy as np\n",
    "import itertools\n",
    "import pandas as pd\n",
    "import mplhep as hep\n",
    "import HelpfulPlottingDefs as hpd"
   ]
  },
  {
   "cell_type": "markdown",
   "id": "fd4eeed1-c5ed-4a44-b65c-2ad072413e4a",
   "metadata": {},
   "source": [
    "# Select Year and Choice of VFP (pre or post)\n",
    "### 2017 and 2018 are postVFP Only"
   ]
  },
  {
   "cell_type": "code",
   "execution_count": 3,
   "id": "5a9876f5-7d14-425a-8f28-2498caec1d80",
   "metadata": {},
   "outputs": [],
   "source": [
    "Year = 2016\n",
    "btagWP = 'MediumBTag'\n",
    "vfp = 'preVFP'\n",
    "saveOn = False\n",
    "saveCSVOn = False"
   ]
  },
  {
   "cell_type": "code",
   "execution_count": 4,
   "id": "99922106-ef14-4b97-a705-f460c63c03b6",
   "metadata": {},
   "outputs": [],
   "source": [
    "dir1 = 'CoffeaOutputsForCombine/Coffea_FirstRun/'\n",
    "\n",
    "if btagWP != '':\n",
    "    btagdir = f'{btagWP}/'\n",
    "else:\n",
    "    btagdir = btagWP\n",
    "    \n",
    "yeardir = f'{str(Year)}/'\n",
    "btagType = 'DeepCSV'\n",
    "APVDir = {\n",
    "    'preVFP': 'APV/',\n",
    "    'postVFP': 'noAPV/'\n",
    "}\n",
    "\n",
    "od = ''\n",
    "oddir = ''\n",
    "if btagdir == '':\n",
    "    od = '_oldANdisc'\n",
    "    oddir = f'Old{str(Year)}_MediumBTag/'"
   ]
  },
  {
   "cell_type": "markdown",
   "id": "07686958",
   "metadata": {
    "tags": []
   },
   "source": [
    "# Load All Data Eras"
   ]
  },
  {
   "cell_type": "code",
   "execution_count": 5,
   "id": "02fc697a-2887-473d-b858-967e633efe58",
   "metadata": {},
   "outputs": [],
   "source": [
    "from LoadData import JetHT_Unweighted\n",
    "\n",
    "JetHT_unweighted = JetHT_Unweighted(btagWP, Year)"
   ]
  },
  {
   "cell_type": "markdown",
   "id": "5d9489b2",
   "metadata": {
    "tags": []
   },
   "source": [
    "# Load All MC"
   ]
  },
  {
   "cell_type": "code",
   "execution_count": 6,
   "id": "8ffee937",
   "metadata": {},
   "outputs": [],
   "source": [
    "import LoadMC as LM\n",
    "\n",
    "TTbar_unweighted = LM.TTbar_Unweighted(btagWP, Year)"
   ]
  },
  {
   "cell_type": "markdown",
   "id": "7ee5de26-6172-44f1-8140-e6be1ed920c2",
   "metadata": {
    "tags": []
   },
   "source": [
    "# Categories"
   ]
  },
  {
   "cell_type": "code",
   "execution_count": 7,
   "id": "dceceee6",
   "metadata": {},
   "outputs": [],
   "source": [
    "import matplotlib.pyplot as plt\n",
    "import warnings\n",
    "import re # regular expressions\n",
    "warnings.filterwarnings(\"ignore\")\n",
    "\n",
    "# ---- Reiterate categories ---- #\n",
    "ttagcats = [\"at\"] #, \"0t\", \"1t\", \"It\", \"2t\"]\n",
    "btagcats = [\"0b\", \"1b\", \"2b\"]\n",
    "ycats = ['cen', 'fwd']\n",
    "\n",
    "list_of_cats = [ t+b+y for t,b,y in itertools.product( ttagcats, btagcats, ycats) ]\n",
    "list_of_ints = [6, 7, 8, 9, 10, 11]\n",
    "catmap = dict(zip(list_of_ints, list_of_cats))"
   ]
  },
  {
   "cell_type": "code",
   "execution_count": 8,
   "id": "8b995fce-afb1-4cf0-b095-a836c5d256c4",
   "metadata": {
    "tags": []
   },
   "outputs": [],
   "source": [
    "# ---- Optional to rescale x-axis of mistag rates ---- #\n",
    "def forward(x):\n",
    "    return x**(1/8)\n",
    "\n",
    "def inverse(x):\n",
    "    return x**8"
   ]
  },
  {
   "cell_type": "markdown",
   "id": "142d07f4",
   "metadata": {},
   "source": [
    "# Luminosities, Cross Sections & Scale Factors"
   ]
  },
  {
   "cell_type": "code",
   "execution_count": 9,
   "id": "3465282a-1783-44df-95b8-b4c01e102075",
   "metadata": {},
   "outputs": [],
   "source": [
    "Lum2016 = 35920. # pb^-1 from https://twiki.cern.ch/twiki/bin/viewauth/CMS/PdmVAnalysisSummaryTable\n",
    "Lum2017 = 41530.\n",
    "Lum2018 = 59740.\n",
    "Lum     = 137190.\n",
    "\n",
    "t_BR = 0.6741\n",
    "ttbar_BR = 0.4544 #PDG 2019\n",
    "ttbar_xs1 = 831.76 * (0.09210) #pb For ttbar mass from 700 to 1000\n",
    "ttbar_xs2 = 831.76 * (0.02474) #pb For ttbar mass from 1000 to Inf\n",
    "toptag_sf = 0.9\n",
    "toptag_kf = 0.7\n",
    "\n",
    "if Year == 2016:\n",
    "    if vfp == 'preVFP':\n",
    "        Lum_frac = 19800. \n",
    "    else:\n",
    "        Lum_frac = Lum2016 - 19800.\n",
    "        \n",
    "elif Year == 2017:\n",
    "    Lum_frac = Lum2017\n",
    "    \n",
    "elif Year == 2018:\n",
    "    Lum_frac = Lum2018\n",
    "    \n",
    "else:\n",
    "    Lum_frac = Lum\n",
    "\n",
    "# =========== SF =========== #\n",
    "ttbar_sf1 = Lum_frac*ttbar_xs1*toptag_sf**2*toptag_kf/TTbar_unweighted[f'700_1000_{vfp}']['cutflow']['sumw']\n",
    "ttbar_sf2 = Lum_frac*ttbar_xs2*toptag_sf**2*toptag_kf/TTbar_unweighted[f'1000_Inf_{vfp}']['cutflow']['sumw']\n",
    "\n",
    "ttbar_scales = [ttbar_sf1, ttbar_sf2]"
   ]
  },
  {
   "cell_type": "code",
   "execution_count": 10,
   "id": "7d966ac9",
   "metadata": {
    "scrolled": true
   },
   "outputs": [],
   "source": [
    "# SaveDirectory = maindirectory + '/' + 'MistagPlots' + '/' # split histograms into subdirectories\n",
    "# DoesDirectoryExist(SaveDirectory) # no need to create the directory several times if it exists already\n",
    "\n",
    "# for icat in list_of_ints:\n",
    "        \n",
    "#     title = 'mistag ' + catmap[icat][2:]\n",
    "    \n",
    "#     # ---- define ttbar numerator and denominator ---- #\n",
    "#     NumeratorTT2016 = TTbar_unweighted[vfp]['numerator'][f'UL16{vfp}_TTbar', icat, :]               \n",
    "#     DenominatorTT2016 = TTbar_unweighted[vfp]['denominator'][f'UL16{vfp}_TTbar', icat, :]\n",
    "    \n",
    "#     # ---- scale ttbar and prepare to subtract ---- #\n",
    "#     NumeratorTT2016 *= (-ttbar2016_sf)\n",
    "#     DenominatorTT2016 *= (-ttbar2016_sf)\n",
    "    \n",
    "#     # ---- initialize data histograms with first era ---- #\n",
    "#     if vfp == 'preVFP':\n",
    "#         JetHT2016_unwgt_str = 'UL16preVFP_JetHTB_Data'\n",
    "#         Numerator2016 = JetHT2016_unweighted['B_preVFP']['numerator'][JetHT2016_unwgt_str, icat, :]\n",
    "#         Denominator2016 = JetHT2016_unweighted['B_preVFP']['denominator'][JetHT2016_unwgt_str, icat, :]\n",
    "#         for Era in ['C', 'D', 'E', 'F']: #exclude B because histogram is initialized with B era\n",
    "#             JetHT2016_unwgt_str = f'UL16preVFP_JetHT{Era}_Data'\n",
    "#             Numerator2016 += JetHT2016_unweighted[Era+'_'+vfp]['numerator'][JetHT2016_unwgt_str, icat, :]\n",
    "#             Denominator2016 += JetHT2016_unweighted[Era+'_'+vfp]['denominator'][JetHT2016_unwgt_str, icat, :]\n",
    "#     else:\n",
    "#         JetHT2016_unwgt_str = 'UL16postVFP_JetHTF_Data'\n",
    "#         Numerator2016 = JetHT2016_unweighted['F_postVFP']['numerator'][JetHT2016_unwgt_str, icat, :]\n",
    "#         Denominator2016 = JetHT2016_unweighted['F_postVFP']['denominator'][JetHT2016_unwgt_str, icat, :]\n",
    "#         for Era in ['G', 'H']: #exclude F because histogram is initialized with F era\n",
    "#             JetHT2016_unwgt_str = f'UL16postVFP_JetHT{Era}_Data'\n",
    "#             Numerator2016 += JetHT2016_unweighted[Era+'_'+vfp]['numerator'][JetHT2016_unwgt_str, icat, :]\n",
    "#             Denominator2016 += JetHT2016_unweighted[Era+'_'+vfp]['denominator'][JetHT2016_unwgt_str, icat, :]\n",
    "    \n",
    "    \n",
    "#     # ---- add (remove) ttbar mc ---- #\n",
    "#     Numerator2016 += (NumeratorTT2016)\n",
    "#     Denominator2016 += (DenominatorTT2016)\n",
    "\n",
    "#     # ==== Scikit plot_ratio function ==== #\n",
    "# #     fig = plt.figure(figsize=(10, 8))\n",
    "# #     main_ax_artists, sublot_ax_arists = Numerator2016.plot_ratio(\n",
    "# #         Denominator2016,\n",
    "# #         rp_ylabel=r\"Ratio\",\n",
    "# #         rp_num_label=\"num\",\n",
    "# #         rp_denom_label=\"denom\",\n",
    "# #         rp_uncert_draw_type=\"bar\")\n",
    "    \n",
    "#     # ==== My function (Closer to coffea.hist.plotratio) ==== #\n",
    "#     fig, ax = plt.subplots(\n",
    "#         #nrows=2,\n",
    "#         #ncols=1,\n",
    "#         figsize=(7,5),\n",
    "#         #gridspec_kw={\"height_ratios\": (3, 1)},\n",
    "#         sharex=True\n",
    "#     )\n",
    "#     mistag2016 = plotratio(Numerator2016, Denominator2016, ax = ax, \n",
    "#                            histtype='errorbar', marker='.', markersize=13., color='r')\n",
    "\n",
    "\n",
    "#     ax.set_ylabel('Mistag Rates')\n",
    "#     ax.set_title(title)\n",
    "#     leg = ax.legend(labels=[\"2016\", \"2017\", \"2018\"])\n",
    "\n",
    "#     # ---- Optional x-axis scaling ---- #\n",
    "#     plt.ylim(bottom = 0, top = 0.10)\n",
    "#     plt.xlim(left = 100, right = 3000)\n",
    "\n",
    "#     # ---- Optional x-axis scaling ---- #\n",
    "#     #ax.set_xscale('function', functions=(forward, inverse))\n",
    "#     #plt.xticks(np.array([0, 500, 1000, 2000, 3000, 4000, 5000]))\n",
    "\n",
    "#     # ---- Optional x-axis scaling ---- #\n",
    "#     #ax.set_xscale('function', functions=(forward, inverse))\n",
    "#     #plt.xticks(np.array([500, 1000, 2000, 5000, 10000]))\n",
    "#     #plt.yticks(np.array([.05, .10, .15]))\n",
    "#     #ax.set_xscale('log')\n",
    "\n",
    "#     #filename = 'Mistag_bdisc8484_ttbarSubtraction_SeparateYears_' + icat + '.png'\n",
    "#     #plt.savefig(SaveDirectory+filename, bbox_inches=\"tight\")\n",
    "#     #print('\\n' + filename + ' saved')"
   ]
  },
  {
   "cell_type": "markdown",
   "id": "097969e6",
   "metadata": {},
   "source": [
    "## Mistag Rates with $t\\bar{t}$ Subtraction for SeparateYears with Inclusive $y$ Region"
   ]
  },
  {
   "cell_type": "code",
   "execution_count": 11,
   "id": "6bed6a90",
   "metadata": {
    "scrolled": true
   },
   "outputs": [],
   "source": [
    "# \"\"\" ---------- Rapidity Inclusive Mistag Rates ---------- \"\"\"\n",
    "# SaveDirectory = maindirectory + '/' + 'MistagPlots' + '/' # split histograms into subdirectories\n",
    "# DoesDirectoryExist(SaveDirectory) # no need to create the directory several times if it exists already\n",
    "\n",
    "\n",
    "# for b in range(3):\n",
    "\n",
    "#     title = f'Inclusive {b}btag Mistag Rate'\n",
    "    \n",
    "#     NumeratorTT2016cen = TTbar_unweighted[vfp]['numerator'][f'UL16{vfp}_TTbar', 6+2*b, :]               \n",
    "#     DenominatorTT2016cen = TTbar_unweighted[vfp]['denominator'][f'UL16{vfp}_TTbar', 6+2*b, :]\n",
    "#     NumeratorTT2016fwd = TTbar_unweighted[vfp]['numerator'][f'UL16{vfp}_TTbar', 7+2*b, :]               \n",
    "#     DenominatorTT2016fwd = TTbar_unweighted[vfp]['denominator'][f'UL16{vfp}_TTbar', 7+2*b, :]\n",
    "\n",
    "    \n",
    "#     NumeratorTT2016cen *= (-ttbar2016_sf)\n",
    "#     DenominatorTT2016cen *= (-ttbar2016_sf)\n",
    "#     NumeratorTT2016fwd *= (-ttbar2016_sf)\n",
    "#     DenominatorTT2016fwd *= (-ttbar2016_sf)\n",
    "    \n",
    "#     # =================================================================================================== #\n",
    "    \n",
    "#     # ---- initialize data histograms with first era ---- #\n",
    "#     if vfp == 'preVFP':\n",
    "#         JetHT2016_unwgt_str = 'UL16preVFP_JetHTB_Data'\n",
    "#         Num_cen2016 = JetHT2016_unweighted['B_preVFP']['numerator'][JetHT2016_unwgt_str, 6+2*b, :]\n",
    "#         Denom_cen2016 = JetHT2016_unweighted['B_preVFP']['denominator'][JetHT2016_unwgt_str, 6+2*b, :]\n",
    "#         Num_fwd2016 = JetHT2016_unweighted['B_preVFP']['numerator'][JetHT2016_unwgt_str, 7+2*b, :]\n",
    "#         Denom_fwd2016 = JetHT2016_unweighted['B_preVFP']['denominator'][JetHT2016_unwgt_str, 7+2*b, :]\n",
    "#         for Era in ['C', 'D', 'E', 'F']: #exclude B because histogram is initialized with B era\n",
    "#             JetHT2016_unwgt_str = f'UL16preVFP_JetHT{Era}_Data'\n",
    "#             Num_cen2016 += JetHT2016_unweighted[Era+'_'+vfp]['numerator'][JetHT2016_unwgt_str, 6+2*b, :]\n",
    "#             Denom_cen2016 += JetHT2016_unweighted[Era+'_'+vfp]['denominator'][JetHT2016_unwgt_str, 6+2*b, :]\n",
    "#             Num_fwd2016 += JetHT2016_unweighted[Era+'_'+vfp]['numerator'][JetHT2016_unwgt_str, 7+2*b, :]\n",
    "#             Denom_fwd2016 += JetHT2016_unweighted[Era+'_'+vfp]['denominator'][JetHT2016_unwgt_str, 7+2*b, :]\n",
    "#     else:\n",
    "#         JetHT2016_unwgt_str = 'UL16postVFP_JetHTF_Data'\n",
    "#         Num_cen2016 = JetHT2016_unweighted['F_postVFP']['numerator'][JetHT2016_unwgt_str, 6+2*b, :]\n",
    "#         Denom_cen2016 = JetHT2016_unweighted['F_postVFP']['denominator'][JetHT2016_unwgt_str, 6+2*b, :]\n",
    "#         Num_fwd2016 = JetHT2016_unweighted['F_postVFP']['numerator'][JetHT2016_unwgt_str, 7+2*b, :]\n",
    "#         Denom_fwd2016 = JetHT2016_unweighted['F_postVFP']['denominator'][JetHT2016_unwgt_str, 7+2*b, :]\n",
    "#         for Era in ['G', 'H']: #exclude F because histogram is initialized with F era\n",
    "#             JetHT2016_unwgt_str = f'UL16postVFP_JetHT{Era}_Data'\n",
    "#             Num_cen2016 += JetHT2016_unweighted[Era+'_'+vfp]['numerator'][JetHT2016_unwgt_str, 6+2*b, :]\n",
    "#             Denom_cen2016 += JetHT2016_unweighted[Era+'_'+vfp]['denominator'][JetHT2016_unwgt_str, 6+2*b, :]\n",
    "#             Num_fwd2016 += JetHT2016_unweighted[Era+'_'+vfp]['numerator'][JetHT2016_unwgt_str, 7+2*b, :]\n",
    "#             Denom_fwd2016 += JetHT2016_unweighted[Era+'_'+vfp]['denominator'][JetHT2016_unwgt_str, 7+2*b, :]\n",
    "                \n",
    "#     # =================================================================================================== #\n",
    "    \n",
    "    \n",
    "#     Num_cen2016 += (NumeratorTT2016cen)\n",
    "#     Denom_cen2016 += (DenominatorTT2016cen)\n",
    "\n",
    "#     Num_fwd2016 += (NumeratorTT2016fwd)\n",
    "#     Denom_fwd2016 += (DenominatorTT2016fwd)\n",
    "    \n",
    "#     Num_inc2016 = Num_cen2016\n",
    "#     Denom_inc2016 = Denom_cen2016\n",
    "    \n",
    "#     Num_inc2016 += (Num_fwd2016)\n",
    "#     Denom_inc2016 += (Denom_fwd2016)\n",
    "        \n",
    "# #     fig = plt.figure(figsize=(10, 8))\n",
    "# #     main_ax_artists, sublot_ax_arists = Num_inc2016.plot_ratio(\n",
    "# #         Denom_inc2016,\n",
    "# #         rp_ylabel=r\"Ratio\",\n",
    "# #         rp_num_label=\"num\",\n",
    "# #         rp_denom_label=\"denom\",\n",
    "# #         rp_uncert_draw_type=\"bar\")\n",
    "\n",
    "#     fig, ax = plt.subplots(\n",
    "#         figsize=(10,5),\n",
    "#         sharex=True\n",
    "#     )\n",
    "\n",
    "#     mistag2016 = plotratio(Num_inc2016, Denom_inc2016, ax = ax, histtype='errorbar', \n",
    "#                            marker='.', markersize=13., color='r')\n",
    "\n",
    "\n",
    "#     ax.set_ylabel('Mistag Rates')\n",
    "#     ax.set_title(title)\n",
    "#     leg = ax.legend(labels=[\"2016\", \"2017\", \"2018\"])\n",
    "\n",
    "#     plt.ylim(bottom = 0, top = 0.08)\n",
    "#     plt.xlim(left = 400, right = 7000)\n",
    "\n",
    "#     # ---- Optional x-axis scaling ---- #\n",
    "#     ax.set_xscale('function', functions=(forward, inverse))\n",
    "#     plt.xticks(np.array([400, 500, 1000, 2000, 3000, 4000, 5000]))\n",
    "#     ax.set_xticklabels(['', 500, 1000, 2000, 3000, 4000, 5000])\n",
    "#     # ---- Optional x-axis scaling ---- #\n",
    "#     #ax.set_xscale('function', functions=(forward, inverse))\n",
    "#     #plt.xticks(np.array([500, 1000, 2000, 5000, 10000]))\n",
    "#     #plt.yticks(np.array([.05, .10, .15]))\n",
    "#     #ax.set_xscale('log')\n",
    "    \n",
    "#     #filename = 'InclusiveMistag_bdisc8484_ttbarSubtraction_SeparateYears_' + btag + '.png'\n",
    "#     #plt.savefig(SaveDirectory+filename, bbox_inches=\"tight\")\n",
    "#     #print('\\n' + filename + ' saved')"
   ]
  },
  {
   "cell_type": "markdown",
   "id": "9df912a0",
   "metadata": {},
   "source": [
    "# Mistag Rates with $t\\bar{t}$ Subtraction and Inclusive $y$ Region Sorted by b-tag Region"
   ]
  },
  {
   "cell_type": "code",
   "execution_count": 12,
   "id": "d7c5dc21-350b-438b-b737-cacc5e201dce",
   "metadata": {},
   "outputs": [],
   "source": [
    "maindirectory = os.getcwd() \n",
    "SaveDirectory = f'{maindirectory}/BkgEstimate/MistagPlots/{yeardir}{btagdir}{oddir}{btagType}/{APVDir[vfp]}' # split histograms into subdirectories\n",
    "hpd.DoesDirectoryExist(SaveDirectory) # no need to create the directory several times if it exists already"
   ]
  },
  {
   "cell_type": "code",
   "execution_count": 13,
   "id": "647563a0-b3e7-4e45-832f-c01133707ae2",
   "metadata": {},
   "outputs": [
    {
     "data": {
      "image/png": "[encoded data removed]",
      "text/plain": [
       "<Figure size 1000x500 with 1 Axes>"
      ]
     },
     "metadata": {},
     "output_type": "display_data"
    }
   ],
   "source": [
    "# =================================================================================================== #\n",
    "\n",
    "fig, ax = plt.subplots(\n",
    "    figsize=(10,5),\n",
    "    sharex=True\n",
    ")\n",
    "HIP = ''\n",
    "if vfp == 'preVFP':\n",
    "    HIP = ' (with HIP)'\n",
    "title = f'{str(Year)}{HIP} Mistag Rate'\n",
    "\n",
    "# =================================================================================================== #\n",
    "\n",
    "Inc0b = hpd.GetMistagInfo(JetHT_unweighted, 0, Year, vfp)\n",
    "Inc1b = hpd.GetMistagInfo(JetHT_unweighted, 1, Year, vfp)\n",
    "Inc2b = hpd.GetMistagInfo(JetHT_unweighted, 2, Year, vfp)\n",
    "            \n",
    "# =================================================================================================== #\n",
    "\n",
    "mistag_inclusive0b = hpd.plotratio(Inc0b['Num'], Inc0b['Denom'], ax = ax, histtype='errorbar', \n",
    "                           marker='.', markersize=13., color='r')\n",
    "\n",
    "mistag_inclusive1b = hpd.plotratio(Inc1b['Num'], Inc1b['Denom'], ax = ax, histtype='errorbar', \n",
    "                           marker='s', markersize=7., color='g')\n",
    "\n",
    "mistag_inclusive2b = hpd.plotratio(Inc2b['Num'], Inc2b['Denom'], ax = ax, histtype='errorbar', \n",
    "                           marker='^', markersize=7., color='b')\n",
    "\n",
    "# =================================================================================================== #\n",
    "\n",
    "plt.ylim(bottom = 0.0, top = 0.35)\n",
    "plt.xlim([400,7000])\n",
    "\n",
    "ax.set_ylabel('t-tag Mistag Rates')\n",
    "ax.set_title(title)\n",
    "leg = ax.legend(labels=[\"0b\", \"1b\", \"2b\"],fontsize='x-large')\n",
    "\n",
    "# ---- Optional x-axis scaling ---- #\n",
    "ax.set_xscale('function', functions=(forward, inverse))\n",
    "plt.xticks(np.array([400, 500, 600, 700, 800, 900, 1000, 2000, 3000, 4000, 5000]))\n",
    "ax.set_xticklabels(['', 500, '', '', '', '', 1000, 2000, 3000, 4000, 5000])\n",
    "\n",
    "#---- Labeling ----#\n",
    "Lint = str(Lum_frac*.001) # Integrated Luminosity\n",
    "lumi = plt.text(1.0, 1.08, \"L = \" + Lint[:6] + \" fb$^{-1}$\",\n",
    "        fontsize='xx-large',\n",
    "        horizontalalignment='right',\n",
    "        verticalalignment='top',\n",
    "        transform=ax.transAxes\n",
    "       )\n",
    "CMS = plt.text(0.01, 0.98, 'CMS Preliminary',\n",
    "        fontsize='xx-large',\n",
    "        horizontalalignment='left',\n",
    "        verticalalignment='top',\n",
    "        transform=ax.transAxes\n",
    "       )\n",
    "rap = plt.text(0.05, 0.86, 'y-inclusive',\n",
    "        fontsize='large',\n",
    "        horizontalalignment='left',\n",
    "        verticalalignment='top',\n",
    "        transform=ax.transAxes\n",
    "       )\n",
    "coffee = plt.text(1.0, 0.87, u\"☕\",\n",
    "              fontsize=50,\n",
    "              horizontalalignment='left',\n",
    "              verticalalignment='bottom',\n",
    "              transform=ax.transAxes\n",
    "             )\n",
    "\n",
    "# =================================================================================================== #\n",
    "if saveOn:\n",
    "    filename = f'InclusiveMistag.png'\n",
    "    plt.savefig(SaveDirectory+filename, bbox_inches=\"tight\")\n",
    "    print('\\n' + SaveDirectory + filename + ' saved')"
   ]
  },
  {
   "cell_type": "code",
   "execution_count": 14,
   "id": "38c86d59",
   "metadata": {},
   "outputs": [
    {
     "data": {
      "image/png": "[encoded data removed]",
      "text/plain": [
       "<Figure size 1000x500 with 1 Axes>"
      ]
     },
     "metadata": {},
     "output_type": "display_data"
    }
   ],
   "source": [
    "# =================================================================================================== #\n",
    "\n",
    "fig, ax = plt.subplots(\n",
    "    figsize=(10,5),\n",
    "    sharex=True\n",
    ")\n",
    "HIP = ''\n",
    "if vfp == 'preVFP':\n",
    "    HIP = ' (with HIP)'\n",
    "title = f'{str(Year)}{HIP} Mistag Rate'\n",
    "\n",
    "# =================================================================================================== #\n",
    "\n",
    "inc0b = hpd.GetMistagInfoCR(TTbar_unweighted, JetHT_unweighted, 0, Year, vfp, ttbar_scales)\n",
    "inc1b = hpd.GetMistagInfoCR(TTbar_unweighted, JetHT_unweighted, 1, Year, vfp, ttbar_scales)\n",
    "inc2b = hpd.GetMistagInfoCR(TTbar_unweighted, JetHT_unweighted, 2, Year, vfp, ttbar_scales)\n",
    "            \n",
    "# =================================================================================================== #\n",
    "\n",
    "mistag_inclusive0b_cr = hpd.plotratio(inc0b['Num'], inc0b['Denom'], ax = ax, histtype='errorbar', \n",
    "                           marker='.', markersize=13., color='r')\n",
    "\n",
    "mistag_inclusive1b_cr = hpd.plotratio(inc1b['Num'], inc1b['Denom'], ax = ax, histtype='errorbar', \n",
    "                           marker='s', markersize=7., color='g')\n",
    "\n",
    "mistag_inclusive2b_cr = hpd.plotratio(inc2b['Num'], inc2b['Denom'], ax = ax, histtype='errorbar', \n",
    "                           marker='^', markersize=7., color='b')\n",
    "\n",
    "# =================================================================================================== #\n",
    "\n",
    "plt.ylim(bottom = 0.0, top = 0.35)\n",
    "plt.xlim([400,7000])\n",
    "\n",
    "ax.set_ylabel('t-tag Mistag Rates')\n",
    "ax.set_title(title)\n",
    "leg = ax.legend(labels=[\"0b\", \"1b\", \"2b\"],fontsize='x-large')\n",
    "\n",
    "# ---- Optional x-axis scaling ---- #\n",
    "ax.set_xscale('function', functions=(forward, inverse))\n",
    "plt.xticks(np.array([400, 500, 600, 700, 800, 900, 1000, 2000, 3000, 4000, 5000]))\n",
    "ax.set_xticklabels(['', 500, '', '', '', '', 1000, 2000, 3000, 4000, 5000])\n",
    "\n",
    "#---- Labeling ----#\n",
    "Lint = str(Lum_frac*.001) # Integrated Luminosity\n",
    "lumi = plt.text(1.0, 1.08, \"L = \" + Lint[:6] + \" fb$^{-1}$\",\n",
    "        fontsize='xx-large',\n",
    "        horizontalalignment='right',\n",
    "        verticalalignment='top',\n",
    "        transform=ax.transAxes\n",
    "       )\n",
    "CMS = plt.text(0.01, 0.98, 'CMS Preliminary',\n",
    "        fontsize='xx-large',\n",
    "        horizontalalignment='left',\n",
    "        verticalalignment='top',\n",
    "        transform=ax.transAxes\n",
    "       )\n",
    "rap = plt.text(0.05, 0.86, 'y-inclusive',\n",
    "        fontsize='large',\n",
    "        horizontalalignment='left',\n",
    "        verticalalignment='top',\n",
    "        transform=ax.transAxes\n",
    "       )\n",
    "contam = plt.text(0.05, 0.81, r'$t\\bar{t}$ contam. removed',\n",
    "        fontsize='large',\n",
    "        horizontalalignment='left',\n",
    "        verticalalignment='top',\n",
    "        transform=ax.transAxes\n",
    "       )\n",
    "coffee = plt.text(1.0, 0.87, u\"☕\",\n",
    "              fontsize=50,\n",
    "              horizontalalignment='left',\n",
    "              verticalalignment='bottom',\n",
    "              transform=ax.transAxes\n",
    "             )\n",
    "\n",
    "# =================================================================================================== #\n",
    "if saveOn:\n",
    "    filename = f'InclusiveMistag_ContamRemoved.png'\n",
    "    plt.savefig(SaveDirectory+filename, bbox_inches=\"tight\")\n",
    "    print('\\n' + SaveDirectory + filename + ' saved')"
   ]
  },
  {
   "cell_type": "markdown",
   "id": "09519add-35de-467c-9b25-a7dfb93e3208",
   "metadata": {},
   "source": [
    "# Make this the new script for making mistag rate lookup tables\n",
    "### Note to AC: Remove old method later and replace that script with condensed version of this (somehow...)"
   ]
  },
  {
   "cell_type": "code",
   "execution_count": 15,
   "id": "51ccded7-a67e-47bc-a669-2e0803916fa8",
   "metadata": {
    "tags": []
   },
   "outputs": [],
   "source": [
    "momentum = []\n",
    "xaxis = inc0b['Num'].axes['jetp']\n",
    "for p in xaxis:\n",
    "    momentum.append(p)\n",
    "# momentum"
   ]
  },
  {
   "cell_type": "code",
   "execution_count": 16,
   "id": "eb3a2fd5",
   "metadata": {
    "tags": []
   },
   "outputs": [],
   "source": [
    "mistags0b = mistag_inclusive0b_cr[0][0][0].get_ydata()\n",
    "mistags1b = mistag_inclusive1b_cr[0][0][0].get_ydata()\n",
    "mistags2b = mistag_inclusive2b_cr[0][0][0].get_ydata()\n",
    "mistags0b[np.isnan(mistags0b)] = 0\n",
    "mistags1b[np.isnan(mistags1b)] = 0\n",
    "mistags2b[np.isnan(mistags2b)] = 0"
   ]
  },
  {
   "cell_type": "code",
   "execution_count": 17,
   "id": "a2e3af22-7041-4333-a034-5fdb3acef81a",
   "metadata": {
    "tags": []
   },
   "outputs": [
    {
     "name": "stdout",
     "output_type": "stream",
     "text": [
      "                   p      M(p)\n",
      "0     (400.0, 500.0)  0.035341\n",
      "1     (500.0, 600.0)  0.035283\n",
      "2     (600.0, 800.0)  0.038867\n",
      "3    (800.0, 1000.0)  0.043821\n",
      "4   (1000.0, 1500.0)  0.049486\n",
      "5   (1500.0, 2000.0)  0.053982\n",
      "6   (2000.0, 3000.0)  0.061171\n",
      "7   (3000.0, 7000.0)  0.069893\n",
      "8  (7000.0, 10000.0)  0.000000\n",
      "                   p      M(p)\n",
      "0     (400.0, 500.0)  0.116132\n",
      "1     (500.0, 600.0)  0.113300\n",
      "2     (600.0, 800.0)  0.116476\n",
      "3    (800.0, 1000.0)  0.117873\n",
      "4   (1000.0, 1500.0)  0.119689\n",
      "5   (1500.0, 2000.0)  0.119930\n",
      "6   (2000.0, 3000.0)  0.121637\n",
      "7   (3000.0, 7000.0)  0.126688\n",
      "8  (7000.0, 10000.0)  0.000000\n",
      "                   p      M(p)\n",
      "0     (400.0, 500.0)  0.179316\n",
      "1     (500.0, 600.0)  0.184705\n",
      "2     (600.0, 800.0)  0.189183\n",
      "3    (800.0, 1000.0)  0.182462\n",
      "4   (1000.0, 1500.0)  0.182023\n",
      "5   (1500.0, 2000.0)  0.189151\n",
      "6   (2000.0, 3000.0)  0.196242\n",
      "7   (3000.0, 7000.0)  0.234573\n",
      "8  (7000.0, 10000.0)  0.000000\n"
     ]
    }
   ],
   "source": [
    "d0 = {'p': momentum, 'M(p)': mistags0b}\n",
    "d1 = {'p': momentum, 'M(p)': mistags1b}\n",
    "d2 = {'p': momentum, 'M(p)': mistags2b}\n",
    "df0 = pd.DataFrame(data=d0)\n",
    "df1 = pd.DataFrame(data=d1)\n",
    "df2 = pd.DataFrame(data=d2)\n",
    "with pd.option_context('display.max_rows', None, 'display.max_columns', None): \n",
    "    print(df0)\n",
    "with pd.option_context('display.max_rows', None, 'display.max_columns', None): \n",
    "    print(df1)\n",
    "with pd.option_context('display.max_rows', None, 'display.max_columns', None): \n",
    "    print(df2)"
   ]
  },
  {
   "cell_type": "code",
   "execution_count": 18,
   "id": "fc77b70a-9a22-4e6c-bfa1-731bcefe7248",
   "metadata": {
    "tags": []
   },
   "outputs": [],
   "source": [
    "MistagLocation = f'{maindirectory}/LookupTables/{btagdir}' \n",
    "hpd.DoesDirectoryExist(MistagLocation) "
   ]
  },
  {
   "cell_type": "code",
   "execution_count": 19,
   "id": "744154e8-1b37-4b26-8fe4-e102c07ea305",
   "metadata": {
    "tags": []
   },
   "outputs": [
    {
     "name": "stdout",
     "output_type": "stream",
     "text": [
      "/home/cms-jovyan/TTbarAllHadUproot/LookupTables/MediumBTag/mistag_UL16preVFP_JetHT_Data_ttContaminationRemoved_at0binc.csv\n",
      "/home/cms-jovyan/TTbarAllHadUproot/LookupTables/MediumBTag/mistag_UL16preVFP_JetHT_Data_ttContaminationRemoved_at1binc.csv\n",
      "/home/cms-jovyan/TTbarAllHadUproot/LookupTables/MediumBTag/mistag_UL16preVFP_JetHT_Data_ttContaminationRemoved_at2binc.csv\n"
     ]
    }
   ],
   "source": [
    "df0_name = f'mistag_UL{yeardir[-3:4]}{vfp}_JetHT_Data_ttContaminationRemoved_at0binc.csv'\n",
    "df1_name = f'mistag_UL{yeardir[-3:4]}{vfp}_JetHT_Data_ttContaminationRemoved_at1binc.csv'\n",
    "df2_name = f'mistag_UL{yeardir[-3:4]}{vfp}_JetHT_Data_ttContaminationRemoved_at2binc.csv'\n",
    "print(MistagLocation+df0_name)\n",
    "print(MistagLocation+df1_name)\n",
    "print(MistagLocation+df2_name)"
   ]
  },
  {
   "cell_type": "code",
   "execution_count": 20,
   "id": "69093271-1f53-4622-978c-3f5d35ac51e6",
   "metadata": {
    "tags": []
   },
   "outputs": [],
   "source": [
    "if saveCSVOn:\n",
    "    df0.to_csv(MistagLocation+df0_name)\n",
    "    df1.to_csv(MistagLocation+df1_name)\n",
    "    df2.to_csv(MistagLocation+df2_name)"
   ]
  },
  {
   "cell_type": "code",
   "execution_count": null,
   "id": "7e811ba4-d38a-4884-a7d3-255dae255081",
   "metadata": {},
   "outputs": [],
   "source": []
  }
 ],
 "metadata": {
  "kernelspec": {
   "display_name": "Python 3 (ipykernel)",
   "language": "python",
   "name": "python3"
  },
  "language_info": {
   "codemirror_mode": {
    "name": "ipython",
    "version": 3
   },
   "file_extension": ".py",
   "mimetype": "text/x-python",
   "name": "python",
   "nbconvert_exporter": "python",
   "pygments_lexer": "ipython3",
   "version": "3.8.16"
  }
 },
 "nbformat": 4,
 "nbformat_minor": 5
}
