{
 "cells": [
  {
   "cell_type": "code",
   "execution_count": null,
   "id": "0ff93c0a",
   "metadata": {},
   "outputs": [],
   "source": [
    "from IPython.core.display import display, HTML\n",
    "display(HTML(\"<style>.container { width:100% !important; }</style>\"))"
   ]
  },
  {
   "cell_type": "code",
   "execution_count": null,
   "id": "ec866241",
   "metadata": {},
   "outputs": [],
   "source": [
    "import os\n",
    "import copy\n",
    "import hist\n",
    "from coffea import util\n",
    "import numpy as np\n",
    "import itertools\n",
    "import pandas as pd\n",
    "import mplhep as hep\n",
    "import HelpfulPlottingDefs as hpd"
   ]
  },
  {
   "cell_type": "markdown",
   "id": "fd4eeed1-c5ed-4a44-b65c-2ad072413e4a",
   "metadata": {},
   "source": [
    "# Select Year and Choice of VFP (pre or post)\n",
    "### 2017 and 2018 are postVFP Only"
   ]
  },
  {
   "cell_type": "code",
   "execution_count": null,
   "id": "5a9876f5-7d14-425a-8f28-2498caec1d80",
   "metadata": {},
   "outputs": [],
   "source": [
    "Year = 2016\n",
    "btagWP = 'MediumBTag'\n",
    "vfp = 'postVFP'\n",
    "saveOn = False\n",
    "saveCSVOn = False"
   ]
  },
  {
   "cell_type": "markdown",
   "id": "3ba4bc85",
   "metadata": {},
   "source": [
    "## From here, the notebook shouldn't require anymore editing beyond the specifications given in the cell above"
   ]
  },
  {
   "cell_type": "code",
   "execution_count": null,
   "id": "99922106-ef14-4b97-a705-f460c63c03b6",
   "metadata": {},
   "outputs": [],
   "source": [
    "dir1 = 'CoffeaOutputsForCombine/Coffea_FirstRun/'\n",
    "\n",
    "if btagWP != '':\n",
    "    btagdir = f'{btagWP}/'\n",
    "else:\n",
    "    btagdir = btagWP\n",
    "    \n",
    "yeardir = f'{str(Year)}/'\n",
    "btagType = 'DeepCSV'\n",
    "APVDir = {\n",
    "    'preVFP': 'APV/',\n",
    "    'postVFP': 'noAPV/'\n",
    "}\n",
    "\n",
    "od = ''\n",
    "oddir = ''\n",
    "if btagdir == '':\n",
    "    od = '_oldANdisc'\n",
    "    oddir = f'Old{str(Year)}_MediumBTag/'"
   ]
  },
  {
   "cell_type": "markdown",
   "id": "07686958",
   "metadata": {
    "tags": []
   },
   "source": [
    "# Load All Data Eras"
   ]
  },
  {
   "cell_type": "code",
   "execution_count": null,
   "id": "02fc697a-2887-473d-b858-967e633efe58",
   "metadata": {},
   "outputs": [],
   "source": [
    "from LoadData import JetHT_Unweighted\n",
    "\n",
    "JetHT_unweighted = JetHT_Unweighted(btagWP, Year)"
   ]
  },
  {
   "cell_type": "markdown",
   "id": "5d9489b2",
   "metadata": {
    "tags": []
   },
   "source": [
    "# Load All MC"
   ]
  },
  {
   "cell_type": "code",
   "execution_count": null,
   "id": "8ffee937",
   "metadata": {},
   "outputs": [],
   "source": [
    "import LoadMC as LM\n",
    "\n",
    "TTbar_unweighted = LM.TTbar_Unweighted(btagWP, Year)"
   ]
  },
  {
   "cell_type": "markdown",
   "id": "7ee5de26-6172-44f1-8140-e6be1ed920c2",
   "metadata": {
    "tags": []
   },
   "source": [
    "# Categories"
   ]
  },
  {
   "cell_type": "code",
   "execution_count": null,
   "id": "dceceee6",
   "metadata": {},
   "outputs": [],
   "source": [
    "import matplotlib.pyplot as plt\n",
    "import warnings\n",
    "import re # regular expressions\n",
    "warnings.filterwarnings(\"ignore\")\n",
    "\n",
    "# ---- Reiterate categories ---- #\n",
    "ttagcats = [\"at\"] #, \"0t\", \"1t\", \"It\", \"2t\"]\n",
    "btagcats = [\"0b\", \"1b\", \"2b\"]\n",
    "ycats = ['cen', 'fwd']\n",
    "\n",
    "list_of_cats = [ t+b+y for t,b,y in itertools.product( ttagcats, btagcats, ycats) ]\n",
    "list_of_ints = [6, 7, 8, 9, 10, 11]\n",
    "catmap = dict(zip(list_of_ints, list_of_cats))"
   ]
  },
  {
   "cell_type": "code",
   "execution_count": null,
   "id": "8b995fce-afb1-4cf0-b095-a836c5d256c4",
   "metadata": {
    "tags": []
   },
   "outputs": [],
   "source": [
    "# ---- Optional to rescale x-axis of mistag rates ---- #\n",
    "def forward(x):\n",
    "    return x**(1/8)\n",
    "\n",
    "def inverse(x):\n",
    "    return x**8"
   ]
  },
  {
   "cell_type": "markdown",
   "id": "142d07f4",
   "metadata": {},
   "source": [
    "# Luminosities, Cross Sections & Scale Factors"
   ]
  },
  {
   "cell_type": "code",
   "execution_count": null,
   "id": "3465282a-1783-44df-95b8-b4c01e102075",
   "metadata": {},
   "outputs": [],
   "source": [
    "Lum2016 = 35920. # pb^-1 from https://twiki.cern.ch/twiki/bin/viewauth/CMS/PdmVAnalysisSummaryTable\n",
    "Lum2017 = 41530.\n",
    "Lum2018 = 59740.\n",
    "Lum     = 137190.\n",
    "\n",
    "t_BR = 0.6741\n",
    "ttbar_BR = 0.4544 #PDG 2019\n",
    "ttbar_xs1 = 831.76 * (0.09210) #pb For ttbar mass from 700 to 1000\n",
    "ttbar_xs2 = 831.76 * (0.02474) #pb For ttbar mass from 1000 to Inf\n",
    "toptag_sf = 0.9\n",
    "toptag_kf = 0.7\n",
    "\n",
    "if Year == 2016:\n",
    "    if vfp == 'preVFP':\n",
    "        Lum_frac = 19800. \n",
    "    else:\n",
    "        Lum_frac = Lum2016 - 19800.\n",
    "        \n",
    "elif Year == 2017:\n",
    "    Lum_frac = Lum2017\n",
    "    \n",
    "elif Year == 2018:\n",
    "    Lum_frac = Lum2018\n",
    "    \n",
    "else:\n",
    "    Lum_frac = Lum\n",
    "\n",
    "# =========== SF =========== #\n",
    "ttbar_sf1 = Lum_frac*ttbar_xs1*toptag_sf**2*toptag_kf/TTbar_unweighted[f'700_1000_{vfp}']['cutflow']['sumw']\n",
    "ttbar_sf2 = Lum_frac*ttbar_xs2*toptag_sf**2*toptag_kf/TTbar_unweighted[f'1000_Inf_{vfp}']['cutflow']['sumw']\n",
    "\n",
    "ttbar_scales = [ttbar_sf1, ttbar_sf2]"
   ]
  },
  {
   "cell_type": "markdown",
   "id": "9df912a0",
   "metadata": {},
   "source": [
    "# Mistag Rates with $t\\bar{t}$ Subtraction and Inclusive $y$ Region Sorted by b-tag Region"
   ]
  },
  {
   "cell_type": "code",
   "execution_count": null,
   "id": "d7c5dc21-350b-438b-b737-cacc5e201dce",
   "metadata": {},
   "outputs": [],
   "source": [
    "maindirectory = os.getcwd() \n",
    "SaveDirectory = f'{maindirectory}/UnweightedAnalysisPlots/MistagPlots/{yeardir}{btagdir}{oddir}{btagType}/{APVDir[vfp]}' # split histograms into subdirectories\n",
    "hpd.DoesDirectoryExist(SaveDirectory) # no need to create the directory several times if it exists already"
   ]
  },
  {
   "cell_type": "code",
   "execution_count": null,
   "id": "647563a0-b3e7-4e45-832f-c01133707ae2",
   "metadata": {},
   "outputs": [],
   "source": [
    "# =================================================================================================== #\n",
    "\n",
    "fig, ax = plt.subplots(\n",
    "    figsize=(10,5),\n",
    "    sharex=True\n",
    ")\n",
    "HIP = ''\n",
    "if vfp == 'preVFP':\n",
    "    HIP = ' (with HIP)'\n",
    "title = f'{str(Year)}{HIP} Mistag Rate'\n",
    "\n",
    "# =================================================================================================== #\n",
    "\n",
    "Inc0b = hpd.GetMistagInfo(JetHT_unweighted, 0, Year, vfp)\n",
    "Inc1b = hpd.GetMistagInfo(JetHT_unweighted, 1, Year, vfp)\n",
    "Inc2b = hpd.GetMistagInfo(JetHT_unweighted, 2, Year, vfp)\n",
    "            \n",
    "# =================================================================================================== #\n",
    "\n",
    "mistag_inclusive0b = hpd.plotratio(Inc0b['Num'], Inc0b['Denom'], ax = ax, histtype='errorbar', \n",
    "                           marker='.', markersize=13., color='r')\n",
    "\n",
    "mistag_inclusive1b = hpd.plotratio(Inc1b['Num'], Inc1b['Denom'], ax = ax, histtype='errorbar', \n",
    "                           marker='s', markersize=7., color='g')\n",
    "\n",
    "mistag_inclusive2b = hpd.plotratio(Inc2b['Num'], Inc2b['Denom'], ax = ax, histtype='errorbar', \n",
    "                           marker='^', markersize=7., color='b')\n",
    "\n",
    "# =================================================================================================== #\n",
    "\n",
    "plt.ylim(bottom = 0.0, top = 0.45)\n",
    "plt.xlim([400,7000])\n",
    "\n",
    "ax.set_ylabel('t-tag Mistag Rates')\n",
    "ax.set_title(title)\n",
    "leg = ax.legend(labels=[\"0b\", \"1b\", \"2b\"],fontsize='x-large')\n",
    "\n",
    "# ---- Optional x-axis scaling ---- #\n",
    "ax.set_xscale('function', functions=(forward, inverse))\n",
    "plt.xticks(np.array([400, 500, 600, 700, 800, 900, 1000, 2000, 3000, 4000, 5000]))\n",
    "ax.set_xticklabels(['', 500, '', '', '', '', 1000, 2000, 3000, 4000, 5000])\n",
    "\n",
    "#---- Labeling ----#\n",
    "Lint = str(Lum_frac*.001) # Integrated Luminosity\n",
    "lumi = plt.text(1.0, 1.08, \"L = \" + Lint[:6] + \" fb$^{-1}$\",\n",
    "        fontsize='xx-large',\n",
    "        horizontalalignment='right',\n",
    "        verticalalignment='top',\n",
    "        transform=ax.transAxes\n",
    "       )\n",
    "CMS = plt.text(0.01, 0.98, 'CMS Preliminary',\n",
    "        fontsize='xx-large',\n",
    "        horizontalalignment='left',\n",
    "        verticalalignment='top',\n",
    "        transform=ax.transAxes\n",
    "       )\n",
    "rap = plt.text(0.05, 0.86, 'y-inclusive',\n",
    "        fontsize='large',\n",
    "        horizontalalignment='left',\n",
    "        verticalalignment='top',\n",
    "        transform=ax.transAxes\n",
    "       )\n",
    "coffee = plt.text(1.0, 0.87, u\"☕\",\n",
    "              fontsize=50,\n",
    "              horizontalalignment='left',\n",
    "              verticalalignment='bottom',\n",
    "              transform=ax.transAxes\n",
    "             )\n",
    "\n",
    "# =================================================================================================== #\n",
    "if saveOn:\n",
    "    filename = f'InclusiveMistag.png'\n",
    "    plt.savefig(SaveDirectory+filename, bbox_inches=\"tight\")\n",
    "    print('\\n' + SaveDirectory + filename + ' saved')"
   ]
  },
  {
   "cell_type": "code",
   "execution_count": null,
   "id": "38c86d59",
   "metadata": {},
   "outputs": [],
   "source": [
    "# =================================================================================================== #\n",
    "\n",
    "fig, ax = plt.subplots(\n",
    "    figsize=(10,5),\n",
    "    sharex=True\n",
    ")\n",
    "HIP = ''\n",
    "if vfp == 'preVFP':\n",
    "    HIP = ' (with HIP)'\n",
    "title = f'{str(Year)}{HIP} Mistag Rate'\n",
    "\n",
    "# =================================================================================================== #\n",
    "\n",
    "inc0b = hpd.GetMistagInfoCR(TTbar_unweighted, JetHT_unweighted, 0, Year, vfp, ttbar_scales)\n",
    "inc1b = hpd.GetMistagInfoCR(TTbar_unweighted, JetHT_unweighted, 1, Year, vfp, ttbar_scales)\n",
    "inc2b = hpd.GetMistagInfoCR(TTbar_unweighted, JetHT_unweighted, 2, Year, vfp, ttbar_scales)\n",
    "            \n",
    "# =================================================================================================== #\n",
    "\n",
    "mistag_inclusive0b_cr = hpd.plotratio(inc0b['Num'], inc0b['Denom'], ax = ax, histtype='errorbar', \n",
    "                           marker='.', markersize=13., color='r')\n",
    "\n",
    "mistag_inclusive1b_cr = hpd.plotratio(inc1b['Num'], inc1b['Denom'], ax = ax, histtype='errorbar', \n",
    "                           marker='s', markersize=7., color='g')\n",
    "\n",
    "mistag_inclusive2b_cr = hpd.plotratio(inc2b['Num'], inc2b['Denom'], ax = ax, histtype='errorbar', \n",
    "                           marker='^', markersize=7., color='b')\n",
    "\n",
    "# =================================================================================================== #\n",
    "\n",
    "plt.ylim(bottom = 0.0, top = 0.45)\n",
    "plt.xlim([400,7000])\n",
    "\n",
    "ax.set_ylabel('t-tag Mistag Rates')\n",
    "ax.set_title(title)\n",
    "leg = ax.legend(labels=[\"0b\", \"1b\", \"2b\"],fontsize='x-large')\n",
    "\n",
    "# ---- Optional x-axis scaling ---- #\n",
    "ax.set_xscale('function', functions=(forward, inverse))\n",
    "plt.xticks(np.array([400, 500, 600, 700, 800, 900, 1000, 2000, 3000, 4000, 5000]))\n",
    "ax.set_xticklabels(['', 500, '', '', '', '', 1000, 2000, 3000, 4000, 5000])\n",
    "\n",
    "#---- Labeling ----#\n",
    "Lint = str(Lum_frac*.001) # Integrated Luminosity\n",
    "lumi = plt.text(1.0, 1.08, \"L = \" + Lint[:6] + \" fb$^{-1}$\",\n",
    "        fontsize='xx-large',\n",
    "        horizontalalignment='right',\n",
    "        verticalalignment='top',\n",
    "        transform=ax.transAxes\n",
    "       )\n",
    "CMS = plt.text(0.01, 0.98, 'CMS Preliminary',\n",
    "        fontsize='xx-large',\n",
    "        horizontalalignment='left',\n",
    "        verticalalignment='top',\n",
    "        transform=ax.transAxes\n",
    "       )\n",
    "rap = plt.text(0.05, 0.86, 'y-inclusive',\n",
    "        fontsize='large',\n",
    "        horizontalalignment='left',\n",
    "        verticalalignment='top',\n",
    "        transform=ax.transAxes\n",
    "       )\n",
    "contam = plt.text(0.05, 0.81, r'$t\\bar{t}$ contam. removed',\n",
    "        fontsize='large',\n",
    "        horizontalalignment='left',\n",
    "        verticalalignment='top',\n",
    "        transform=ax.transAxes\n",
    "       )\n",
    "coffee = plt.text(1.0, 0.87, u\"☕\",\n",
    "              fontsize=50,\n",
    "              horizontalalignment='left',\n",
    "              verticalalignment='bottom',\n",
    "              transform=ax.transAxes\n",
    "             )\n",
    "\n",
    "# =================================================================================================== #\n",
    "if saveOn:\n",
    "    filename = f'InclusiveMistag_ContamRemoved.png'\n",
    "    plt.savefig(SaveDirectory+filename, bbox_inches=\"tight\")\n",
    "    print('\\n' + SaveDirectory + filename + ' saved')"
   ]
  },
  {
   "cell_type": "markdown",
   "id": "09519add-35de-467c-9b25-a7dfb93e3208",
   "metadata": {},
   "source": [
    "# Make this the new script for making mistag rate lookup tables\n",
    "### Note to AC: Remove old method later and replace that script with condensed version of this (somehow...)"
   ]
  },
  {
   "cell_type": "code",
   "execution_count": null,
   "id": "51ccded7-a67e-47bc-a669-2e0803916fa8",
   "metadata": {
    "tags": []
   },
   "outputs": [],
   "source": [
    "momentum = []\n",
    "xaxis = inc0b['Num'].axes['jetp']\n",
    "for p in xaxis:\n",
    "    momentum.append(p)\n",
    "# momentum"
   ]
  },
  {
   "cell_type": "code",
   "execution_count": null,
   "id": "eb3a2fd5",
   "metadata": {
    "tags": []
   },
   "outputs": [],
   "source": [
    "mistags0b = mistag_inclusive0b_cr[0][0][0].get_ydata()\n",
    "mistags1b = mistag_inclusive1b_cr[0][0][0].get_ydata()\n",
    "mistags2b = mistag_inclusive2b_cr[0][0][0].get_ydata()\n",
    "mistags0b[np.isnan(mistags0b)] = 0\n",
    "mistags1b[np.isnan(mistags1b)] = 0\n",
    "mistags2b[np.isnan(mistags2b)] = 0"
   ]
  },
  {
   "cell_type": "code",
   "execution_count": null,
   "id": "a2e3af22-7041-4333-a034-5fdb3acef81a",
   "metadata": {
    "tags": []
   },
   "outputs": [],
   "source": [
    "d0 = {'p': momentum, 'M(p)': mistags0b}\n",
    "d1 = {'p': momentum, 'M(p)': mistags1b}\n",
    "d2 = {'p': momentum, 'M(p)': mistags2b}\n",
    "df0 = pd.DataFrame(data=d0)\n",
    "df1 = pd.DataFrame(data=d1)\n",
    "df2 = pd.DataFrame(data=d2)\n",
    "with pd.option_context('display.max_rows', None, 'display.max_columns', None): \n",
    "    print(df0)\n",
    "with pd.option_context('display.max_rows', None, 'display.max_columns', None): \n",
    "    print(df1)\n",
    "with pd.option_context('display.max_rows', None, 'display.max_columns', None): \n",
    "    print(df2)"
   ]
  },
  {
   "cell_type": "code",
   "execution_count": null,
   "id": "fc77b70a-9a22-4e6c-bfa1-731bcefe7248",
   "metadata": {
    "tags": []
   },
   "outputs": [],
   "source": [
    "MistagLocation = f'{maindirectory}/LookupTables/{btagdir}' \n",
    "hpd.DoesDirectoryExist(MistagLocation) "
   ]
  },
  {
   "cell_type": "code",
   "execution_count": null,
   "id": "744154e8-1b37-4b26-8fe4-e102c07ea305",
   "metadata": {
    "tags": []
   },
   "outputs": [],
   "source": [
    "df0_name = f'mistag_UL{yeardir[-3:4]}{vfp}_JetHT_Data_ttContaminationRemoved_at0binc.csv'\n",
    "df1_name = f'mistag_UL{yeardir[-3:4]}{vfp}_JetHT_Data_ttContaminationRemoved_at1binc.csv'\n",
    "df2_name = f'mistag_UL{yeardir[-3:4]}{vfp}_JetHT_Data_ttContaminationRemoved_at2binc.csv'\n",
    "print(MistagLocation+df0_name)\n",
    "print(MistagLocation+df1_name)\n",
    "print(MistagLocation+df2_name)"
   ]
  },
  {
   "cell_type": "code",
   "execution_count": null,
   "id": "69093271-1f53-4622-978c-3f5d35ac51e6",
   "metadata": {
    "tags": []
   },
   "outputs": [],
   "source": [
    "if saveCSVOn:\n",
    "    df0.to_csv(MistagLocation+df0_name)\n",
    "    df1.to_csv(MistagLocation+df1_name)\n",
    "    df2.to_csv(MistagLocation+df2_name)"
   ]
  },
  {
   "cell_type": "code",
   "execution_count": null,
   "id": "7e811ba4-d38a-4884-a7d3-255dae255081",
   "metadata": {},
   "outputs": [],
   "source": []
  }
 ],
 "metadata": {
  "kernelspec": {
   "display_name": "Python 3 (ipykernel)",
   "language": "python",
   "name": "python3"
  },
  "language_info": {
   "codemirror_mode": {
    "name": "ipython",
    "version": 3
   },
   "file_extension": ".py",
   "mimetype": "text/x-python",
   "name": "python",
   "nbconvert_exporter": "python",
   "pygments_lexer": "ipython3",
   "version": "3.8.15"
  }
 },
 "nbformat": 4,
 "nbformat_minor": 5
}
