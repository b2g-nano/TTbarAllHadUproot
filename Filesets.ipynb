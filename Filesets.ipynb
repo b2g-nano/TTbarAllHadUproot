{
 "cells": [
  {
   "cell_type": "markdown",
   "metadata": {},
   "source": [
    "Reads in the `.root` files for the corresponding datasets.  One can verify this notebook works and produce the corresponding .py module.  In that module, one is free to include or comment out any wanted/unwanted group of files in the dictionary `filesets`.  This dictionary 'filesets' is imported into other modules, including `TTbarResCoffeaOutputs`, so make sure you specify the files you want in that module before you make your outputs.\n",
    "\n",
    "# ---- All JetHT Datasets used for analysis and dasgoclient searches ---- #\n",
    "\n",
    "/JetHT/Run2016B_ver1-Nano25Oct2019_ver1-v1/NANOAOD \n",
    "\n",
    "/JetHT/Run2016B_ver2-Nano25Oct2019_ver2-v1/NANOAOD \n",
    "\n",
    "/JetHT/Run2016C-Nano25Oct2019-v1/NANOAOD \n",
    "\n",
    "/JetHT/Run2016D-Nano25Oct2019-v1/NANOAOD \n",
    "\n",
    "/JetHT/Run2016E-Nano25Oct2019-v1/NANOAOD \n",
    "\n",
    "/JetHT/Run2016F-Nano25Oct2019-v1/NANOAOD \n",
    "\n",
    "/JetHT/Run2016G-Nano25Oct2019-v1/NANOAOD \n",
    "\n",
    "/JetHT/Run2016H-Nano25Oct2019-v1/NANOAOD \n",
    "\n",
    "/JetHT/Run2017B-Nano25Oct2019-v1/NANOAOD \n",
    "\n",
    "/JetHT/Run2017C-Nano25Oct2019-v1/NANOAOD \n",
    "\n",
    "/JetHT/Run2017D-Nano25Oct2019-v1/NANOAOD \n",
    "\n",
    "/JetHT/Run2017E-Nano25Oct2019-v1/NANOAOD \n",
    "\n",
    "/JetHT/Run2017F-Nano25Oct2019-v1/NANOAOD \n",
    "\n",
    "/JetHT/Run2018A-Nano25Oct2019-v1/NANOAOD \n",
    "\n",
    "/JetHT/Run2018B-Nano25Oct2019-v1/NANOAOD \n",
    "\n",
    "/JetHT/Run2018C-Nano25Oct2019-v2/NANOAOD \n",
    "\n",
    "/JetHT/Run2018D-Nano25Oct2019_ver2-v1/NANOAOD"
   ]
  },
  {
   "cell_type": "code",
   "execution_count": null,
   "metadata": {},
   "outputs": [],
   "source": [
    "xrootdstr1 = 'root://cmseos.fnal.gov//'\n",
    "xrootdstr2 = 'root://cmsxrootd.fnal.gov//'\n",
    "xrootdstr3 = 'root://cmsxrootd-site.fnal.gov/'"
   ]
  },
  {
   "cell_type": "code",
   "execution_count": null,
   "metadata": {},
   "outputs": [],
   "source": [
    "qcdfilename = 'QCD.txt'\n",
    "with open(qcdfilename) as f:\n",
    "    qcdfiles = [xrootdstr2 + s.strip() for s in f.readlines()]"
   ]
  },
  {
   "cell_type": "code",
   "execution_count": null,
   "metadata": {},
   "outputs": [],
   "source": [
    "ttbarfilename = 'TTJets_TuneCP5_13TeV-amcatnloFXFX-pythia8.txt'\n",
    "with open(ttbarfilename) as f:\n",
    "    ttbarfiles = [xrootdstr2 + s.strip() for s in f.readlines()]"
   ]
  },
  {
   "cell_type": "code",
   "execution_count": null,
   "metadata": {},
   "outputs": [],
   "source": [
    "ZprimeDMfilename = 'ZprimeDMToTTbar.txt'\n",
    "with open(ZprimeDMfilename) as f:\n",
    "    DM1000files = [xrootdstr2 + s.strip() for s in f.readlines() if \"ResoIncl_MZp1000\" in s]\n",
    "with open(ZprimeDMfilename) as f:\n",
    "    DM1500files = [xrootdstr2 + s.strip() for s in f.readlines() if \"ResoIncl_MZp1500\" in s]\n",
    "with open(ZprimeDMfilename) as f:\n",
    "    DM2000files = [xrootdstr2 + s.strip() for s in f.readlines() if \"ResoIncl_MZp2000\" in s]\n",
    "with open(ZprimeDMfilename) as f:\n",
    "    DM2500files = [xrootdstr2 + s.strip() for s in f.readlines() if \"ResoIncl_MZp2500\" in s]\n",
    "with open(ZprimeDMfilename) as f:\n",
    "    DM3000files = [xrootdstr2 + s.strip() for s in f.readlines() if \"ResoIncl_MZp3000\" in s]\n",
    "with open(ZprimeDMfilename) as f:\n",
    "    DM3500files = [xrootdstr2 + s.strip() for s in f.readlines() if \"ResoIncl_MZp3500\" in s]\n",
    "with open(ZprimeDMfilename) as f:\n",
    "    DM4000files = [xrootdstr2 + s.strip() for s in f.readlines() if \"ResoIncl_MZp4000\" in s]\n",
    "with open(ZprimeDMfilename) as f:\n",
    "    DM4500files = [xrootdstr2 + s.strip() for s in f.readlines() if \"ResoIncl_MZp4500\" in s]\n",
    "with open(ZprimeDMfilename) as f:\n",
    "    DM5000files = [xrootdstr2 + s.strip() for s in f.readlines() if \"ResoIncl_MZp5000\" in s]"
   ]
  },
  {
   "cell_type": "code",
   "execution_count": null,
   "metadata": {},
   "outputs": [],
   "source": [
    "jetdatafilename = 'JetHT_Data.txt'\n",
    "with open(jetdatafilename) as f:\n",
    "    jetdatafiles = [xrootdstr2 + s.strip() for s in f.readlines()[::3]] # Every third datafile\n",
    "with open(jetdatafilename) as g:\n",
    "    jetdatafiles2016 = [xrootdstr2 + s.strip() for s in g.readlines() if \"/store/data/Run2016\" in s]\n",
    "with open(jetdatafilename) as h:\n",
    "    jetdatafiles2017 = [xrootdstr2 + s.strip() for s in h.readlines() if \"/store/data/Run2017\" in s]\n",
    "with open(jetdatafilename) as i:\n",
    "    jetdatafiles2018 = [xrootdstr2 + s.strip() for s in i.readlines() if \"/store/data/Run2018\" in s]"
   ]
  },
  {
   "cell_type": "code",
   "execution_count": null,
   "metadata": {},
   "outputs": [],
   "source": [
    "filesets = {\n",
    "    'DM1000':DM1000files,\n",
    "    'DM1500':DM1500files,\n",
    "    'DM2000':DM2000files,\n",
    "    'DM2500':DM2500files,\n",
    "    'DM3000':DM3000files,\n",
    "    'DM3500':DM3500files,\n",
    "    'DM4000':DM4000files,\n",
    "    'DM4500':DM4500files,\n",
    "    'DM5000':DM5000files,\n",
    "    'TTbar':ttbarfiles,\n",
    "    'QCD':qcdfiles,\n",
    "    'JetHT':jetdatafiles,\n",
    "    'JetHT2016_Data':jetdatafiles2016,\n",
    "    'JetHT2017_Data':jetdatafiles2017,\n",
    "    'JetHT2018_Data':jetdatafiles2018\n",
    "}"
   ]
  },
  {
   "cell_type": "code",
   "execution_count": null,
   "metadata": {},
   "outputs": [],
   "source": [
    "filesets_forweights = {\n",
    "    'DM1000':DM1000files,\n",
    "    'DM1500':DM1500files,\n",
    "    'DM2000':DM2000files,\n",
    "    'DM2500':DM2500files,\n",
    "    'DM3000':DM3000files,\n",
    "    'DM3500':DM3500files,\n",
    "    'DM4000':DM4000files,\n",
    "    'DM4500':DM4500files,\n",
    "    'DM5000':DM5000files,\n",
    "    'TTbar':ttbarfiles,\n",
    "    'TTbar_2016':ttbarfiles, # ttbarfiles to be subtracted from JetHT2016 data\n",
    "    'TTbar_2017':ttbarfiles, # ttbarfiles to be subtracted from JetHT2016 data\n",
    "    'TTbar_2018':ttbarfiles, # ttbarfiles to be subtracted from JetHT2016 data\n",
    "    'QCD':qcdfiles,\n",
    "    'JetHT':jetdatafiles,\n",
    "    'JetHT2016_Data':jetdatafiles2016,\n",
    "    'JetHT2017_Data':jetdatafiles2017,\n",
    "    'JetHT2018_Data':jetdatafiles2018\n",
    "}"
   ]
  },
  {
   "cell_type": "code",
   "execution_count": null,
   "metadata": {},
   "outputs": [],
   "source": [
    "#!jupyter nbconvert --to script Filesets.ipynb"
   ]
  },
  {
   "cell_type": "code",
   "execution_count": null,
   "metadata": {},
   "outputs": [],
   "source": []
  }
 ],
 "metadata": {
  "kernelspec": {
   "display_name": "Python 3",
   "language": "python",
   "name": "python3"
  },
  "language_info": {
   "codemirror_mode": {
    "name": "ipython",
    "version": 3
   },
   "file_extension": ".py",
   "mimetype": "text/x-python",
   "name": "python",
   "nbconvert_exporter": "python",
   "pygments_lexer": "ipython3",
   "version": "3.7.7"
  }
 },
 "nbformat": 4,
 "nbformat_minor": 4
}
