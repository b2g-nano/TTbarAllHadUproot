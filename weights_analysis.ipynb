{
 "cells": [
  {
   "cell_type": "code",
   "execution_count": 1,
   "id": "ac055e89",
   "metadata": {},
   "outputs": [
    {
     "name": "stdout",
     "output_type": "stream",
     "text": [
      "awkward version  1.7.0\n",
      "coffea version  0.7.11\n"
     ]
    },
    {
     "name": "stderr",
     "output_type": "stream",
     "text": [
      "Matplotlib created a temporary config/cache directory at /tmp/matplotlib-dme8b88k because the default path (/home/cms-jovyan/.cache/matplotlib) is not a writable directory; it is highly recommended to set the MPLCONFIGDIR environment variable to a writable directory, in particular to speed up the import of Matplotlib and to better support multiprocessing.\n"
     ]
    }
   ],
   "source": [
    "import awkward as ak\n",
    "import numpy as np\n",
    "import time\n",
    "import coffea\n",
    "import uproot\n",
    "import hist\n",
    "import vector\n",
    "print(\"awkward version \", ak.__version__)\n",
    "print(\"coffea version \", coffea.__version__)\n",
    "from coffea import util, processor\n",
    "from coffea.nanoevents import NanoEventsFactory, NanoAODSchema, BaseSchema\n",
    "from collections import defaultdict\n",
    "import pickle\n",
    "import glob\n",
    "import matplotlib.pyplot as plt"
   ]
  },
  {
   "cell_type": "code",
   "execution_count": 2,
   "id": "55b570b0",
   "metadata": {},
   "outputs": [],
   "source": [
    "eras = [\n",
    "    'UL16NanoAOD', \n",
    "    'UL16NanoAODAPV', \n",
    "    'UL17NanoAOD', \n",
    "    'UL18NanoAOD'\n",
    "       ]\n",
    "\n",
    "filestr1 = '/mnt/data/cms/store/mc/RunIISummer20UL16NanoAODv9/QCD_Pt-15to7000_TuneCP5_Flat2018_13TeV_pythia8/NANOAODSIM/106X_mcRun2_asymptotic_v17-v1/*/*.root'\n",
    "filestr2 = '/mnt/data/cms/store/mc/RunIISummer20UL16NanoAODAPVv9/QCD_Pt-15to7000_TuneCP5_Flat2018_13TeV_pythia8/NANOAODSIM/106X_mcRun2_asymptotic_preVFP_v11-v1/*/*.root'\n",
    "fileset = {\"2016\":[], \"2016APV\":[]}\n",
    "\n",
    "\n",
    "infiles1 = glob.glob(filestr1)\n",
    "fileset[\"2016\"] = fileset[\"2016\"] + [*infiles1]\n",
    "infiles2 = glob.glob(filestr2)\n",
    "fileset[\"2016APV\"] = fileset[\"2016APV\"] + [*infiles2]"
   ]
  },
  {
   "cell_type": "code",
   "execution_count": 10,
   "id": "a7771a78",
   "metadata": {},
   "outputs": [],
   "source": [
    "class Counter(processor.ProcessorABC):\n",
    "    def __init__(self ):\n",
    "        weights_axis = hist.axis.Regular(1000, -50,0, name=\"w\", label=\"Weights\")\n",
    "        dataset_axis = hist.axis.StrCategory([], growth=True, name=\"dataset\", label=\"Primary dataset\")\n",
    "        \n",
    "        ### Plots of things during the selection process / for debugging with fine binning\n",
    "        h_w = hist.Hist(dataset_axis, weights_axis, storage=\"weight\", label=\"Counts\")\n",
    "        \n",
    "        self.hists = {\n",
    "            \"w\":h_w\n",
    "        }\n",
    "        \n",
    "        self.means_stddevs = defaultdict()\n",
    "    \n",
    "    @property\n",
    "    def accumulator(self):\n",
    "        return self.hists\n",
    "\n",
    "    \n",
    "    # we will receive a NanoEvents instead of a coffea DataFrame\n",
    "    def process(self, events):\n",
    "        dataset = events.metadata['dataset']\n",
    "\n",
    "        self.hists['w'].fill( dataset=dataset, w=np.log(events[\"Generator\"].weight) )\n",
    "        \n",
    "        if ak.any( events[\"Generator\"].weight > 1.0 ):\n",
    "            print(\"Weird events: \", events[\"Generator\"].weight)\n",
    "        \n",
    "        return self.hists\n",
    "\n",
    "    \n",
    "    def postprocess(self, accumulator):\n",
    "        return accumulator\n",
    "    \n",
    "    \n",
    "    "
   ]
  },
  {
   "cell_type": "code",
   "execution_count": 11,
   "id": "5945a892",
   "metadata": {},
   "outputs": [
    {
     "data": {
      "application/vnd.jupyter.widget-view+json": {
       "model_id": "1cd6fb50074a46f2bfe17ad225f36896",
       "version_major": 2,
       "version_minor": 0
      },
      "text/plain": [
       "Processing:   0%|          | 0/20 [00:00<?, ?chunk/s]"
      ]
     },
     "metadata": {},
     "output_type": "display_data"
    }
   ],
   "source": [
    "run = processor.Runner(\n",
    "    executor = processor.FuturesExecutor(compression=None, workers=8),\n",
    "    schema=NanoAODSchema,\n",
    "    chunksize=1000000,\n",
    "    maxchunks=10\n",
    ")\n",
    "\n",
    "output = run(\n",
    "    fileset,\n",
    "    \"Events\",\n",
    "    processor_instance=Counter(),\n",
    ")"
   ]
  },
  {
   "cell_type": "code",
   "execution_count": 14,
   "id": "50bd410c",
   "metadata": {},
   "outputs": [
    {
     "data": {
      "image/png": "[encoded data removed]",
      "text/plain": [
       "<Figure size 432x288 with 1 Axes>"
      ]
     },
     "metadata": {
      "needs_background": "light"
     },
     "output_type": "display_data"
    }
   ],
   "source": [
    "output['w'].plot(density=True)\n",
    "plt.yscale(\"log\")"
   ]
  },
  {
   "cell_type": "code",
   "execution_count": null,
   "id": "087f9b38",
   "metadata": {},
   "outputs": [],
   "source": []
  }
 ],
 "metadata": {
  "kernelspec": {
   "display_name": "Python 3 (ipykernel)",
   "language": "python",
   "name": "python3"
  },
  "language_info": {
   "codemirror_mode": {
    "name": "ipython",
    "version": 3
   },
   "file_extension": ".py",
   "mimetype": "text/x-python",
   "name": "python",
   "nbconvert_exporter": "python",
   "pygments_lexer": "ipython3",
   "version": "3.8.12"
  }
 },
 "nbformat": 4,
 "nbformat_minor": 5
}
