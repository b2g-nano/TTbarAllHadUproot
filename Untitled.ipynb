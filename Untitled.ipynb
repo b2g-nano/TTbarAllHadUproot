{
 "cells": [
  {
   "cell_type": "code",
   "execution_count": null,
   "id": "06eef8da-ccce-4520-874a-4e60d511f309",
   "metadata": {},
   "outputs": [],
   "source": []
  },
  {
   "cell_type": "code",
   "execution_count": 1,
   "id": "0f236eb9-49b1-4895-988f-fb5aee3d5b8b",
   "metadata": {},
   "outputs": [],
   "source": [
    "import os\n",
    "import hist\n",
    "from coffea import util\n",
    "import numpy as np\n",
    "import itertools\n",
    "import mplhep as hep"
   ]
  },
  {
   "cell_type": "code",
   "execution_count": 2,
   "id": "d9eff7a1-bffb-477c-ae99-95abcf3af104",
   "metadata": {},
   "outputs": [],
   "source": [
    "def ConvertLabelToInt(mapping, str_label):\n",
    "    for intkey, string in mapping.items():\n",
    "        if str_label == string:\n",
    "            return intkey"
   ]
  },
  {
   "cell_type": "code",
   "execution_count": 3,
   "id": "b7a6af3e-813a-4514-ad7f-5b8040602a1b",
   "metadata": {},
   "outputs": [],
   "source": [
    "dir1 = 'CoffeaOutputs/UnweightedOutputs/'\n",
    "dir2 = 'CoffeaOutputsForCombine/Coffea_FirstRun/'\n",
    "\n",
    "btagdir = 'MediumBTag/'\n",
    "yeardir = '2016/'\n",
    "apvdir = 'noAPV/'\n",
    "letter = '' # Era"
   ]
  },
  {
   "cell_type": "code",
   "execution_count": null,
   "id": "28f3cd25-6482-40cc-ad35-cd329863e38f",
   "metadata": {},
   "outputs": [],
   "source": [
    "# JetHT2016_unweighted = util.load(dir2+'JetHT/'+btagdir+yeardir+apvdir+'TTbarRes_0l_UL16postVFP_JetHT'+letter+'_Data.coffea')\n",
    "TTbar_unweighted = util.load(dir2+'TT/'+btagdir+yeardir+apvdir+'TTbarRes_0l_UL16postVFP_TTbar.coffea')"
   ]
  },
  {
   "cell_type": "code",
   "execution_count": null,
   "id": "70aba2bc-6091-4f9f-8079-05584b120a66",
   "metadata": {},
   "outputs": [],
   "source": [
    "Datasets = {\n",
    "    'JetHT2016': JetHT2016_unweighted\n",
    "}"
   ]
  },
  {
   "cell_type": "code",
   "execution_count": null,
   "id": "caa2418e-1ae3-491d-8e42-40cd1db79564",
   "metadata": {},
   "outputs": [],
   "source": [
    "for dataset,output in Datasets.items():\n",
    "    print(\"-------\" + dataset + \" Cutflow--------\")\n",
    "    for i,j in output['cutflow'].items():        \n",
    "        print( '%20s : %20s' % (i,j) )"
   ]
  },
  {
   "cell_type": "code",
   "execution_count": null,
   "id": "90bae14d-932a-4cc6-a15a-aea8a4c8e282",
   "metadata": {},
   "outputs": [],
   "source": [
    "import matplotlib.colors as colors\n",
    "import matplotlib.pyplot as plt\n",
    "import warnings\n",
    "import re # regular expressions\n",
    "warnings.filterwarnings(\"ignore\")\n",
    "\n",
    "# ---- Reiterate categories ---- #\n",
    "ttagcats = [\"AT&Pt\", \"at\", \"pret\", \">=0t\", \"0t\", \">=1t\", \"1t\", \"2t\"]\n",
    "btagcats = [\"0b\", \"1b\", \"2b\"]\n",
    "ycats = ['cen', 'fwd']\n",
    "\n",
    "list_of_bcats = [ b+y for b,y in itertools.product( btagcats, ycats) ]\n",
    "list_of_cats = [ t+b+y for t,b,y in itertools.product( ttagcats, btagcats, ycats) ]\n",
    "label_dict = {i: label for i, label in enumerate(list_of_cats)}"
   ]
  },
  {
   "cell_type": "code",
   "execution_count": null,
   "id": "79f982e9-5307-47e0-915f-3432d16c9ae0",
   "metadata": {},
   "outputs": [],
   "source": [
    "# plt.rcParams.update({\n",
    "#     'font.size': 14,\n",
    "#     'axes.titlesize': 18,\n",
    "#     'axes.labelsize': 18,\n",
    "#     'xtick.labelsize': 12,\n",
    "#     'ytick.labelsize': 12\n",
    "#     })\n",
    "\n",
    "plt.figure(figsize=(8, 8))\n",
    "\n",
    "# -- (dataset_axis, subjetmass_axis, subjetpt_axis, subjeteta_axis, subjetphi_axis, subjettagger_axis) -- #\n",
    "TaggerInfo = JetHT2016_unweighted['deepB'][f'UL16postVFP_JetHT{letter}_Data', sum, :, :]\n",
    "\n",
    "TaggerInfo.plot2d_full(\n",
    "    main_cmap=\"cividis\",\n",
    "    top_ls=\"--\",\n",
    "    top_color=\"orange\",\n",
    "    top_lw=2,\n",
    "    side_ls=\":\",\n",
    "    side_lw=2,\n",
    "    side_color=\"steelblue\",\n",
    ")\n",
    "\n",
    "plt.xlim(400,830)\n",
    "plt.ylim(0,1.0)\n",
    "\n",
    "# coffea = plt.text(100.0, 1.0, u\"☕\",\n",
    "#           fontsize=50,\n",
    "#           horizontalalignment='right',\n",
    "#           verticalalignment='top'\n",
    "#          )\n",
    "# Era = plt.text(1.0, 1.0, f'Era: {letter}',\n",
    "#         fontsize='small',\n",
    "#         horizontalalignment='right',\n",
    "#         verticalalignment='top'\n",
    "#         # transform=ax.transAxes\n",
    "#        )"
   ]
  },
  {
   "cell_type": "code",
   "execution_count": null,
   "id": "ed4ac023-55ff-43cd-afd7-6175640d6e77",
   "metadata": {},
   "outputs": [],
   "source": [
    "for b_y in list_of_bcats:\n",
    "    plt.rcParams.update({\n",
    "        'font.size': 14,\n",
    "        'axes.titlesize': 18,\n",
    "        'axes.labelsize': 18,\n",
    "        'xtick.labelsize': 12,\n",
    "        'ytick.labelsize': 12\n",
    "        })\n",
    "    # fig, (ax, bx, cx) = plt.subplots(\n",
    "    #     nrows=1,\n",
    "    #     ncols=3,\n",
    "    #     figsize=(8,8),\n",
    "    #     sharex=True\n",
    "    # )\n",
    "    # fig.subplots_adjust(hspace=.07)\n",
    "    plt.figure(figsize=(8, 8))\n",
    "    # plt.title(f'Category: {b_y}', loc='right', )\n",
    "    # -- dataset_axis, cats_axis, jetpt_axis, jetmass_axis, tagger_axis -- #\n",
    "\n",
    "    TaggerInfoMass = JetHT2016_unweighted['deepTagMD_TvsQCD'][f'UL16postVFP_JetHT{letter}_Data', ConvertLabelToInt(label_dict, '2t'+b_y), sum, :, :]\n",
    "    # TaggerInfoMass = TTbar_unweighted['deepTagMD_TvsQCD']['UL16postVFP_TTbar', ConvertLabelToInt(label_dict, '2t'+b_y), sum, :, :]\n",
    "    \n",
    "    TaggerInfoMass.plot2d_full(\n",
    "        main_cmap=\"coolwarm\",\n",
    "        top_ls=\"--\",\n",
    "        top_color=\"orange\",\n",
    "        top_lw=2,\n",
    "        side_ls=\":\",\n",
    "        side_lw=2,\n",
    "        side_color=\"steelblue\",\n",
    "    )\n",
    "    \n",
    "    \n",
    "    coffea = plt.text(69.00, 0.15, u\"☕\",\n",
    "              fontsize=50,\n",
    "              horizontalalignment='left',\n",
    "              verticalalignment='bottom'\n",
    "              # transform=ax.transAxes\n",
    "             )\n",
    "    Era = plt.text(75.00, 0.15, f'Era: {letter}',\n",
    "            fontsize=16,\n",
    "            horizontalalignment='right',\n",
    "            verticalalignment='top'\n",
    "            # transform=ax.transAxes\n",
    "           )\n",
    "    Category = plt.text(83.00, 0.14, f'Category: {b_y}',\n",
    "            fontsize=16,\n",
    "            horizontalalignment='right',\n",
    "            verticalalignment='top'\n",
    "            # transform=ax.transAxes\n",
    "           )\n",
    "    \n",
    "    plt.xlim(0,59)\n",
    "    plt.ylim(0,0.135)\n",
    "    \n",
    "    plt.show()"
   ]
  },
  {
   "cell_type": "code",
   "execution_count": null,
   "id": "37bd8ded-d718-42dc-aa71-ab2619dbdcb9",
   "metadata": {},
   "outputs": [],
   "source": []
  }
 ],
 "metadata": {
  "kernelspec": {
   "display_name": "Python 3 (ipykernel)",
   "language": "python",
   "name": "python3"
  },
  "language_info": {
   "codemirror_mode": {
    "name": "ipython",
    "version": 3
   },
   "file_extension": ".py",
   "mimetype": "text/x-python",
   "name": "python",
   "nbconvert_exporter": "python",
   "pygments_lexer": "ipython3",
   "version": "3.8.16"
  }
 },
 "nbformat": 4,
 "nbformat_minor": 5
}
