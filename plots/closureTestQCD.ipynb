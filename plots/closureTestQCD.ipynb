{
 "cells": [
  {
   "cell_type": "markdown",
   "id": "81bd9748",
   "metadata": {},
   "source": [
    "## *For up-to-date plotting script use plots/combineFiles.ipynb*"
   ]
  },
  {
   "cell_type": "code",
   "execution_count": null,
   "id": "242381a1",
   "metadata": {},
   "outputs": [],
   "source": [
    "import pandas as pd\n",
    "import numpy as np\n",
    "from coffea import util\n",
    "import itertools\n",
    "import os, sys\n",
    "from scipy.optimize import curve_fit\n",
    "import matplotlib.pyplot as plt\n",
    "import mplhep as hep\n",
    "hep.style.use(\"CMS\")\n",
    "\n",
    "sys.path.append('../python/')\n",
    "from functions import loadCoffeaFile, getLabelMap, getCoffeaFilenames, plotBackgroundEstimate, getHist\n"
   ]
  },
  {
   "cell_type": "markdown",
   "id": "25325604",
   "metadata": {},
   "source": [
    "## analysis categories"
   ]
  },
  {
   "cell_type": "code",
   "execution_count": null,
   "id": "17fa8b50",
   "metadata": {},
   "outputs": [],
   "source": [
    "IOVs = ['2016']\n",
    "\n",
    "# analysis categories #\n",
    "\n",
    "label_dict = loadCoffeaFile()['analysisCategories']\n",
    "\n",
    "label_to_int_dict = {label: i for i, label in label_dict.items()}\n",
    "\n",
    "signal_cats = [ i for label, i in label_to_int_dict.items() if '2t' in label]\n",
    "pretag_cats = [ i for label, i in label_to_int_dict.items() if 'pre' in label]\n",
    "antitag_cats = [ i for label, i in label_to_int_dict.items() if 'at' in label]\n",
    "\n",
    "\n"
   ]
  },
  {
   "cell_type": "code",
   "execution_count": null,
   "id": "e6b76c66",
   "metadata": {},
   "outputs": [],
   "source": [
    "label_dict"
   ]
  },
  {
   "cell_type": "markdown",
   "id": "70dbe8d9",
   "metadata": {},
   "source": [
    "## scale factors and IOV"
   ]
  },
  {
   "cell_type": "code",
   "execution_count": null,
   "id": "d2f48bf6",
   "metadata": {},
   "outputs": [],
   "source": [
    "IOVs = ['2016']\n",
    "\n",
    "lumi = {\n",
    "    \"2016APV\": 19800.,\n",
    "    \"2016\": 16120., #35920 - 19800\n",
    "    \"2016all\": 35920,\n",
    "    \"2017\": 41530.,\n",
    "    \"2018\": 59740.\n",
    "}\n",
    "\n",
    "t_BR = 0.6741\n",
    "ttbar_BR = 0.4544 #PDG 2019\n",
    "ttbar_xs1 = 831.76 * (0.09210) #pb For ttbar mass from 700 to 1000\n",
    "ttbar_xs2 = 831.76 * (0.02474) #pb For ttbar mass from 1000 to Inf\n",
    "toptag_sf = 0.9\n",
    "toptag_kf = 1.0 #0.7\n",
    "qcd_xs = 13700000.0 #pb From https://cms-gen-dev.cern.ch/xsdb\n",
    "\n"
   ]
  },
  {
   "cell_type": "markdown",
   "id": "a32a71b9",
   "metadata": {},
   "source": [
    "## save plots"
   ]
  },
  {
   "cell_type": "code",
   "execution_count": null,
   "id": "08c82f4a",
   "metadata": {},
   "outputs": [],
   "source": [
    "directories = [\n",
    "    'images/png/closureTestQCD/2016all',\n",
    "    'images/png/closureTestQCD/2016APV',\n",
    "    'images/png/closureTestQCD/2016',\n",
    "    'images/png/closureTestQCD/2017',\n",
    "    'images/png/closureTestQCD/2018',\n",
    "    'images/pdf/closureTestQCD/2016all',\n",
    "    'images/pdf/closureTestQCD/2016APV',\n",
    "    'images/pdf/closureTestQCD/2016',\n",
    "    'images/pdf/closureTestQCD/2017',\n",
    "    'images/pdf/closureTestQCD/2018',\n",
    "]\n",
    "\n",
    "\n",
    "for path in directories:\n",
    "    if not os.path.exists(path):\n",
    "        os.makedirs(path)"
   ]
  },
  {
   "cell_type": "markdown",
   "id": "a22be476",
   "metadata": {},
   "source": [
    "## coffea files"
   ]
  },
  {
   "cell_type": "code",
   "execution_count": null,
   "id": "929284fa",
   "metadata": {},
   "outputs": [],
   "source": [
    "tagger='DeepAK8 top tagger'\n",
    "# tagger='CMS top tagger'\n",
    "\n",
    "\n",
    "coffeaFiles = getCoffeaFilenames()\n",
    "\n",
    "# coffeaFiles\n",
    "\n"
   ]
  },
  {
   "cell_type": "markdown",
   "id": "4d5950ed",
   "metadata": {},
   "source": [
    "# Background Estimate \n",
    "### with msd cut"
   ]
  },
  {
   "cell_type": "code",
   "execution_count": null,
   "id": "d617cc18",
   "metadata": {
    "scrolled": false
   },
   "outputs": [],
   "source": [
    "IOV = '2016'\n",
    "\n",
    "fig, (ax1, ax2) = plt.subplots(nrows=2, height_ratios=[3, 1])\n",
    "\n",
    "sig = util.load(coffeaFiles['QCD']['unweighted'][IOV])\n",
    "bkg = util.load(coffeaFiles['QCD']['weighted'][IOV])\n",
    "\n",
    "qcdsf = {\n",
    "    'sig': lumi[IOV] * qcd_xs / sig['cutflow']['sumw'],\n",
    "    'bkg': lumi[IOV] * qcd_xs / bkg['cutflow']['sumw'],\n",
    "}\n",
    "\n",
    "hsig = sig['ttbarmass'][{'anacat':signal_cats}][{'anacat':sum, 'systematic':sum}] * qcdsf['sig']\n",
    "hbkg = bkg['ttbarmass'][{'anacat':pretag_cats}][{'anacat':sum, 'systematic':sum}] * qcdsf['bkg']\n",
    "\n",
    "\n",
    "hep.cms.label('', data=True, lumi='{0:0.1f}'.format(lumi[IOV]/1000), year=IOV, loc=2, fontsize=20, ax=ax1)\n",
    "hep.cms.text('Preliminary'+'\\n'+r'$\\Delta y$ inclusive'+'\\n'+r'btag inclusive''\\n'+r'DeepAK8 tagger', loc=2, fontsize=20, ax=ax1)\n",
    "\n",
    "hep.histplot(hsig, histtype='errorbar', color='black', label='QCD SR', ax=ax1)\n",
    "hep.histplot(hbkg, histtype='fill', color='xkcd:pale gold', label='QCD Bkg Est', ax=ax1)\n",
    "\n",
    "\n",
    "ratio_plot =  hsig / hbkg.values()\n",
    "hep.histplot(ratio_plot, ax=ax2, histtype='errorbar', color='black')\n",
    "ax2.set_ylim(0,2)\n",
    "ax2.axhline(1, color='black', ls='--')\n",
    "ax2.set_ylabel('Data/Bkg')\n",
    "\n",
    "\n",
    "ax1.legend()\n",
    "ax1.set_ylabel('Events')\n",
    "ax1.set_yscale('log')\n",
    "ax1.set_ylim(1e-1, 1e13)\n",
    "ax1.set_xlim(900,6000)\n",
    "ax1.set_xlabel('')\n"
   ]
  },
  {
   "cell_type": "markdown",
   "id": "7ad32c2f",
   "metadata": {},
   "source": [
    "# Transfer Function"
   ]
  },
  {
   "cell_type": "code",
   "execution_count": null,
   "id": "74724490",
   "metadata": {},
   "outputs": [],
   "source": [
    "# fit N events from CR to N events from SR\n",
    "\n",
    "\n",
    "# loose to fail | pretag to antitag\n",
    "\n",
    "def rlf(x, mt, p0, p1):\n",
    "    \n",
    "    return x*(p0 + p1 * mt)\n",
    "\n",
    "\n",
    "# pass to loose | signal to pretag\n",
    "\n",
    "def rtl(x, mt, mtt, p2, p3, p4, p5):\n",
    "    \n",
    "    return x * (p2 + p3 * mt + p4 * mt * mt) * (p5 * mtt) \n",
    "    "
   ]
  },
  {
   "cell_type": "code",
   "execution_count": null,
   "id": "c4e3e30c",
   "metadata": {},
   "outputs": [],
   "source": []
  },
  {
   "cell_type": "code",
   "execution_count": null,
   "id": "59abb82d",
   "metadata": {},
   "outputs": [],
   "source": [
    "qcd = loadCoffeaFile()\n",
    "\n",
    "\n",
    "mtt_vs_mt = getHist('mtt_vs_mt', 'JetHT', False, '2016', sum_axes=[], integrate_axes={})\n",
    "\n",
    "\n",
    "\n",
    "h2dsr = mtt_vs_mt[{'anacat':signal_cats}][{'anacat':sum}]\n",
    "h2dcr = mtt_vs_mt[{'anacat':antitag_cats}][{'anacat':sum}]\n",
    "h2dpr = mtt_vs_mt[{'anacat':pretag_cats}][{'anacat':sum}]\n",
    "\n",
    "\n",
    "\n",
    "\n",
    "\n",
    "qcdsf = lumi[IOV] * qcd_xs / qcd['cutflow']['sumw']\n",
    "\n",
    "hsig_mtt = h2dsr[{'jetmass':sum}]# * qcdsf\n",
    "hbkg_mtt = h2dcr[{'jetmass':sum}]# * qcdsf\n",
    "\n",
    "\n",
    "Nsr = h2dsr.values()#*qcdsf\n",
    "Ncr = h2dcr.values()#*qcdsf\n",
    "Npr = h2dpr.values()#*qcdsf\n",
    "\n",
    "\n",
    "\n"
   ]
  },
  {
   "cell_type": "markdown",
   "id": "7acbcea7",
   "metadata": {},
   "source": [
    "## signal region $N_{events}$  / pretag region $N_{events}$\n",
    "\n",
    "for transfer function $n_{tight} = n_{loose} * R$"
   ]
  },
  {
   "cell_type": "code",
   "execution_count": null,
   "id": "a0bd1926",
   "metadata": {},
   "outputs": [],
   "source": [
    "(h2dsr/h2dpr.values()).plot2d()"
   ]
  },
  {
   "cell_type": "markdown",
   "id": "05fa81ee",
   "metadata": {},
   "source": [
    "## pretag region $N_{events}$  / antitag region $N_{events}$\n",
    "\n",
    "for transfer function $n_{loose} = n_{fail} * R$"
   ]
  },
  {
   "cell_type": "code",
   "execution_count": null,
   "id": "4088aca4",
   "metadata": {},
   "outputs": [],
   "source": [
    "(h2dpr/h2dcr.values()).plot2d()"
   ]
  },
  {
   "cell_type": "code",
   "execution_count": null,
   "id": "a3ec7037",
   "metadata": {},
   "outputs": [],
   "source": []
  },
  {
   "cell_type": "code",
   "execution_count": null,
   "id": "13dfcd1f",
   "metadata": {},
   "outputs": [],
   "source": []
  },
  {
   "cell_type": "code",
   "execution_count": null,
   "id": "87327cc0",
   "metadata": {},
   "outputs": [],
   "source": []
  },
  {
   "cell_type": "code",
   "execution_count": null,
   "id": "84a8fe78",
   "metadata": {
    "scrolled": false
   },
   "outputs": [],
   "source": [
    "\n",
    "bins_mt = h2dsr.axes['jetmass'].edges[:-1]\n",
    "bins_mtt = h2dsr.axes['ttbarmass'].edges[:-1]\n",
    "\n",
    "\n",
    "mtt, mt = np.meshgrid(bins_mtt, bins_mt)\n",
    "\n",
    "\n",
    "\n",
    "# flatten arrays for fitting\n",
    "f_mt  =  mt.flatten()\n",
    "f_mtt = mtt.flatten()\n",
    "f_nsr = Nsr.flatten()\n",
    "f_ncr = Ncr.flatten()\n",
    "f_npr = Npr.flatten()\n"
   ]
  },
  {
   "cell_type": "code",
   "execution_count": null,
   "id": "4b00569e",
   "metadata": {},
   "outputs": [],
   "source": [
    "# loose to fail | pretag to antitag\n",
    "\n",
    "\n",
    "y = np.where(f_ncr > 0, f_npr/f_ncr, 0)\n",
    "\n",
    "popt, pcov = curve_fit(lambda x, p0, p1: rlf(x, f_mt, p0, p1), \n",
    "                       f_ncr, \n",
    "                       f_npr, \n",
    "                       p0=[1,1])\n",
    "\n",
    "\n",
    "p0, p1 = popt\n",
    "\n",
    "f_rlf = rlf(np.ones_like(Ncr), mt, p0, p1)\n"
   ]
  },
  {
   "cell_type": "code",
   "execution_count": null,
   "id": "fd6bd1ba",
   "metadata": {},
   "outputs": [],
   "source": [
    "\n",
    "# pass to loose | signal to pretag\n",
    "\n",
    "\n",
    "y = np.where(f_npr > 0, f_nsr/f_npr, 0)\n",
    "\n",
    "\n",
    "\n",
    "\n",
    "\n",
    "popt, pcov = curve_fit(lambda x, p2, p3, p4, p5: rtl(x, f_mt, f_mtt, p2, p3, p4, p5), \n",
    "                       f_npr,\n",
    "                       f_nsr,\n",
    "                       p0=[1,1,1,1], bounds=[-10,10])\n",
    "\n",
    "\n",
    "p2, p3, p4, p5 = popt\n",
    "\n",
    "f_rtl = rtl(np.ones_like(Ncr), mt, mtt, p2, p3, p4, p5)"
   ]
  },
  {
   "cell_type": "markdown",
   "id": "18231395",
   "metadata": {},
   "source": [
    "## transfer function plots"
   ]
  },
  {
   "cell_type": "code",
   "execution_count": null,
   "id": "825dfa11",
   "metadata": {
    "scrolled": false
   },
   "outputs": [],
   "source": [
    "fig = plt.figure(figsize=(20, 14))\n",
    "ax1 = fig.add_subplot(projection='3d')\n",
    "\n",
    "x = mtt.flatten() #f_mtt\n",
    "y = mt.flatten() #f_mt\n",
    "z = f_rlf.flatten()\n",
    "\n",
    "bottom = np.zeros_like(z) #mtt_vs_mt.values()[1]\n",
    "\n",
    "dx = 200\n",
    "dy = 20\n",
    "\n",
    "cmap = plt.cm.get_cmap('jet')\n",
    "hmax = np.max(z)\n",
    "hmin = np.min(z)\n",
    "\n",
    "# hmin = 0.0\n",
    "\n",
    "rgba = [cmap((k-hmin)/hmax) for k in z] \n",
    "\n",
    "ax1.bar3d(x, y, bottom, dx, dy, z, color=rgba)\n",
    "ax1.set_xlim(8000,0)\n",
    "\n",
    "\n",
    "ax1.zaxis.set_rotate_label(False)\n",
    "ax1.set_xlabel(r'$m_{tt}$', labelpad=20, loc='right')\n",
    "ax1.set_ylabel(r'$m_t$', labelpad=20)\n",
    "ax1.set_zlabel(r'$R_{L/F}$', labelpad=30)#, loc='top')#, rotation=180)\n",
    "\n",
    "ax1.dist = 12\n"
   ]
  },
  {
   "cell_type": "code",
   "execution_count": null,
   "id": "5afef850",
   "metadata": {},
   "outputs": [],
   "source": [
    "fig = plt.figure(figsize=(15, 14))\n",
    "ax1 = fig.add_subplot(projection='3d')\n",
    "\n",
    "x = mtt.flatten()#f_mtt\n",
    "y = mt.flatten()#f_mt\n",
    "\n",
    "z = f_rtl.flatten()\n",
    "z = np.where(z < 0, 0, z)\n",
    "\n",
    "bottom = np.zeros_like(z) #mtt_vs_mt.values()[1]\n",
    "\n",
    "dx = 200\n",
    "dy = 20\n",
    "\n",
    "cmap = plt.cm.get_cmap('jet')\n",
    "hmax = np.max(z)\n",
    "hmin = np.min(z)\n",
    "\n",
    "# hmin = 0.0\n",
    "# hmax = 0.05\n",
    "rgba = [cmap((k-hmin)/hmax) for k in z] \n",
    "\n",
    "ax1.bar3d(x, y, bottom, dx, dy, z, color=rgba)#, zorder=0)\n",
    "ax1.set_xlim(8000,0)\n",
    "# ax1.set_zlim(0.01,0.12)\n",
    "\n",
    "ax1.zaxis.set_rotate_label(False)\n",
    "ax1.set_xlabel(r'$m_{tt}$', labelpad=20, loc='right')\n",
    "ax1.set_ylabel(r'$m_t$', labelpad=20)\n",
    "ax1.set_zlabel(r'$R_{T/L}$', labelpad=30)#, loc='top')#, rotation=180)\n",
    "\n",
    "ax1.dist = 13\n",
    "\n",
    "plt.show()\n"
   ]
  },
  {
   "cell_type": "code",
   "execution_count": null,
   "id": "a1e7a026",
   "metadata": {},
   "outputs": [],
   "source": [
    "print('p0 {0:0.2e}'.format(p0))\n",
    "print('p1 {0:0.2e}'.format(p1))\n",
    "print('p2 {0:0.2e}'.format(p2))\n",
    "print('p3 {0:0.2e}'.format(p3))\n",
    "print('p4 {0:0.2e}'.format(p4))\n",
    "print('p5 {0:0.2e}'.format(p5))\n"
   ]
  },
  {
   "cell_type": "markdown",
   "id": "6a182924",
   "metadata": {},
   "source": [
    "# Regions multiplied by transfer function"
   ]
  },
  {
   "cell_type": "code",
   "execution_count": null,
   "id": "696d63f5",
   "metadata": {},
   "outputs": [],
   "source": [
    "antitag2d  = getHist('mtt_vs_mt', 'JetHT', False, IOV, sum_axes=['anacat'], integrate_axes={'anacat':antitag_cats})\n",
    "pretag2d  = getHist('mtt_vs_mt', 'JetHT', False, IOV, sum_axes=['anacat'], integrate_axes={'anacat':pretag_cats})\n",
    "signal2d   = getHist('mtt_vs_mt', 'JetHT', False, IOV, sum_axes=['anacat'], integrate_axes={'anacat':signal_cats})\n",
    "\n",
    "\n",
    "fig, (ax1, ax2) = plt.subplots(nrows=2, height_ratios=[3, 1])\n",
    "\n",
    "antitag2d[{'jetmass':sum}].plot1d(ax=ax1, label='antitag')\n",
    "(antitag2d * f_rlf)[{'jetmass':sum}].plot1d(ax=ax1, label='antitag scaled')\n",
    "antitag_ratio = antitag2d[{'jetmass':sum}]/(antitag2d * f_rlf)[{'jetmass':sum}].values()\n",
    "antitag_ratio.plot1d(ax=ax2)\n",
    "\n",
    "\n",
    "ax1.legend()\n",
    "ax1.set_xlabel('')\n",
    "ax1.set_ylabel('Events')\n",
    "ax2.set_ylabel('Data / Bkg Est')\n",
    "\n"
   ]
  },
  {
   "cell_type": "code",
   "execution_count": null,
   "id": "d248c376",
   "metadata": {},
   "outputs": [],
   "source": [
    "fig, (ax1, ax2) = plt.subplots(nrows=2, height_ratios=[3, 1])\n",
    "\n",
    "pretag2d[{'jetmass':sum}].plot1d(ax=ax1, label='pretag')\n",
    "(pretag2d * f_rlf)[{'jetmass':sum}].plot1d(ax=ax1, label='pretag scaled')\n",
    "pretag_ratio = pretag2d[{'jetmass':sum}]/(pretag2d * f_rlf)[{'jetmass':sum}].values()\n",
    "pretag_ratio.plot1d(ax=ax2)\n",
    "\n",
    "\n",
    "ax1.legend()\n",
    "ax1.set_xlabel('')\n",
    "ax1.set_ylabel('Events')\n",
    "ax2.set_ylabel('Data / Bkg Est')\n",
    "\n"
   ]
  },
  {
   "cell_type": "code",
   "execution_count": null,
   "id": "fb835ddd",
   "metadata": {},
   "outputs": [],
   "source": [
    "\n",
    "\n",
    "fig, (ax1, ax2) = plt.subplots(nrows=2, height_ratios=[3, 1])\n",
    "\n",
    "signal2d[{'jetmass':sum}].plot1d(ax=ax1, label='signal')\n",
    "(signal2d * f_rlf)[{'jetmass':sum}].plot1d(ax=ax1, label='signal scaled')\n",
    "signal_ratio = signal2d[{'jetmass':sum}]/(signal2d * f_rlf)[{'jetmass':sum}].values()\n",
    "signal_ratio.plot1d(ax=ax2)\n",
    "\n",
    "\n",
    "ax1.legend()\n",
    "ax1.set_xlabel('')\n",
    "ax1.set_ylabel('Events')\n",
    "ax2.set_ylabel('Data / Bkg Est')\n",
    "\n"
   ]
  },
  {
   "cell_type": "code",
   "execution_count": null,
   "id": "19b5ebee",
   "metadata": {},
   "outputs": [],
   "source": [
    "f_rlf"
   ]
  },
  {
   "cell_type": "markdown",
   "id": "b0300e98",
   "metadata": {},
   "source": [
    "# Transfer Function + Mistag Rate"
   ]
  },
  {
   "cell_type": "code",
   "execution_count": null,
   "id": "0c726abd",
   "metadata": {
    "scrolled": false
   },
   "outputs": [],
   "source": [
    "fig, (ax1, ax2) = plt.subplots(nrows=2, height_ratios=[3, 1])\n",
    "\n",
    "\n",
    "bins = hbkg_mtt.axes['ttbarmass'].edges[:-1]\n",
    "\n",
    "\n",
    "IOV = '2016'\n",
    "\n",
    "httbar = getHist('ttbarmass', 'TTbar', False, IOV, sum_axes=['anacat','systematic'], integrate_axes={'anacat':signal_cats})\n",
    "hdata  = getHist('ttbarmass', 'JetHT', False, IOV, sum_axes=['anacat','systematic'], integrate_axes={'anacat':signal_cats})\n",
    "\n",
    "\n",
    "h_mtt_mt = getHist('mtt_vs_mt', 'JetHT', False, IOV, sum_axes=['anacat'], integrate_axes={'anacat':pretag_cats})\n",
    "hntmj_2d = h_mtt_mt * f_rlf\n",
    "hntmj = hntmj_2d[{'jetmass':sum}]\n",
    "\n",
    "\n",
    "hbkg = httbar + hntmj# * np.abs(np.average(f_rtl, axis=0)) #* np.abs(np.average(f_rlf, axis=1))\n",
    "\n",
    "\n",
    "hep.histplot(hdata, histtype='errorbar', color='k', ax=ax1, label='Data')\n",
    "hep.histplot(hbkg, histtype='fill', color='xkcd:pale gold', label='NTMJ Bkg Est', ax=ax1)\n",
    "hep.histplot(httbar, histtype='fill', color='xkcd:deep red', label='TTbar', ax=ax1)\n",
    "\n",
    "\n",
    "ax1.set_yscale('log')\n",
    "\n",
    "\n",
    "ax1.set_ylabel('Events')\n",
    "\n",
    "ratio_plot = hdata / h2.values()\n",
    "\n",
    "\n",
    "hep.histplot(ratio_plot, ax=ax2, histtype='errorbar', color='black')\n",
    "ax2.set_ylim(0,2)\n",
    "ax2.axhline(1, color='black', ls='--')\n",
    "ax2.set_ylabel('Data/Bkg')\n",
    "ax2.set_xlabel(ax1.get_xlabel())\n",
    "ax1.set_xlabel('')\n",
    "\n",
    "\n",
    "ax1.legend(loc=1)\n",
    "\n",
    "\n"
   ]
  },
  {
   "cell_type": "markdown",
   "id": "ea5b1a6a",
   "metadata": {},
   "source": [
    "## transfer function by categories"
   ]
  },
  {
   "cell_type": "code",
   "execution_count": null,
   "id": "925bdceb",
   "metadata": {
    "scrolled": false
   },
   "outputs": [],
   "source": [
    "IOV = '2016'\n",
    "\n",
    "\n",
    "cats = ['0bcen', '0bfwd', '1bcen', '1bfwd', '2bcen', '2bfwd']\n",
    "\n",
    "for cat in cats:\n",
    "    \n",
    "    \n",
    "    fig, (ax1, ax2) = plt.subplots(nrows=2, height_ratios=[3, 1])\n",
    "\n",
    "\n",
    "    signal_cat = label_to_int_dict['2t'+cat]\n",
    "    pretag_cat = label_to_int_dict['pret'+cat]\n",
    "    \n",
    "    \n",
    "    httbar = getHist('ttbarmass', 'TTbar', False, IOV, sum_axes=['systematic'], integrate_axes={'anacat':signal_cat})\n",
    "    hdata  = getHist('ttbarmass', 'JetHT', False, IOV, sum_axes=['systematic'], integrate_axes={'anacat':signal_cat})\n",
    "\n",
    "\n",
    "    h_mtt_mt = getHist('mtt_vs_mt', 'JetHT', False, IOV, sum_axes=[], integrate_axes={'anacat':pretag_cat})\n",
    "    hntmj_2d = h_mtt_mt * f_rlf\n",
    "    hntmj = hntmj_2d[{'jetmass':sum}]\n",
    "\n",
    "\n",
    "    hbkg = httbar + hntmj# * np.abs(np.average(f_rtl, axis=0)) #* np.abs(np.average(f_rlf, axis=1))\n",
    "\n",
    "\n",
    "\n",
    "\n",
    "\n",
    "    hep.histplot(hdata, histtype='errorbar', color='k', ax=ax1, label='Data')\n",
    "    hep.histplot(hbkg, histtype='fill', color='xkcd:pale gold', label='NTMJ Bkg Est', ax=ax1)\n",
    "    hep.histplot(httbar, histtype='fill', color='xkcd:deep red', label='TTbar', ax=ax1)\n",
    "\n",
    "\n",
    "    ax1.set_yscale('log')\n",
    "\n",
    "\n",
    "    ax1.set_ylabel('Events')\n",
    "\n",
    "    ratio_plot = hdata / h2.values()\n",
    "\n",
    "\n",
    "    hep.histplot(ratio_plot, ax=ax2, histtype='errorbar', color='black')\n",
    "    ax2.set_ylim(0,2)\n",
    "    ax2.axhline(1, color='black', ls='--')\n",
    "    ax2.set_ylabel('Data/Bkg')\n",
    "    ax2.set_xlabel(ax1.get_xlabel())\n",
    "    ax1.set_xlabel('')\n",
    "\n",
    "\n",
    "    ax1.legend(loc=1)\n",
    "    \n",
    "    \n",
    "    plt.plot()\n",
    "\n",
    "\n",
    "    \n",
    "    \n",
    "\n"
   ]
  },
  {
   "cell_type": "code",
   "execution_count": null,
   "id": "733835da",
   "metadata": {},
   "outputs": [],
   "source": [
    "np.save('save',f_rlf)"
   ]
  },
  {
   "cell_type": "code",
   "execution_count": null,
   "id": "4cd64116",
   "metadata": {},
   "outputs": [],
   "source": [
    "f_rlf.shape"
   ]
  },
  {
   "cell_type": "code",
   "execution_count": null,
   "id": "2e86565a",
   "metadata": {},
   "outputs": [],
   "source": []
  },
  {
   "cell_type": "code",
   "execution_count": null,
   "id": "29a36e6e",
   "metadata": {},
   "outputs": [],
   "source": []
  }
 ],
 "metadata": {
  "kernelspec": {
   "display_name": "Python 3 (ipykernel)",
   "language": "python",
   "name": "python3"
  },
  "language_info": {
   "codemirror_mode": {
    "name": "ipython",
    "version": 3
   },
   "file_extension": ".py",
   "mimetype": "text/x-python",
   "name": "python",
   "nbconvert_exporter": "python",
   "pygments_lexer": "ipython3",
   "version": "3.8.15"
  }
 },
 "nbformat": 4,
 "nbformat_minor": 5
}
