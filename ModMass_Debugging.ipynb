{
 "cells": [
  {
   "cell_type": "code",
   "execution_count": null,
   "id": "d10874e6",
   "metadata": {},
   "outputs": [],
   "source": [
    "from coffea import hist\n",
    "from coffea import util\n",
    "import numpy as np\n",
    "import itertools"
   ]
  },
  {
   "cell_type": "code",
   "execution_count": null,
   "id": "4f24782f",
   "metadata": {},
   "outputs": [],
   "source": [
    "QCD_unweighted = util.load('CoffeaOutputsForCombine/Coffea_FirstRun/QCD/2016/APV/TTbarRes_0l_UL16preVFP_QCD.coffea')\n",
    "QCD_unweighted_old = util.load('CoffeaOutputs/UnweightedOutputs/TTbarResCoffea_QCD_unweighted_output.coffea')"
   ]
  },
  {
   "cell_type": "code",
   "execution_count": null,
   "id": "34076baf",
   "metadata": {},
   "outputs": [],
   "source": [
    "print(\"-------QCD v9 Cutflow--------\")\n",
    "for i,j in QCD_unweighted['cutflow'].items():        \n",
    "    print( '%20s : %1s' % (i,j) )"
   ]
  },
  {
   "cell_type": "code",
   "execution_count": null,
   "id": "460409d4",
   "metadata": {},
   "outputs": [],
   "source": [
    "print(\"-------QCD v7 Cutflow--------\")\n",
    "for i,j in QCD_unweighted_old['cutflow'].items():        \n",
    "    print( '%20s : %1s' % (i,j) )"
   ]
  },
  {
   "cell_type": "code",
   "execution_count": null,
   "id": "f53942d6",
   "metadata": {},
   "outputs": [],
   "source": [
    "import matplotlib.colors as colors\n",
    "import matplotlib.pyplot as plt\n",
    "import warnings\n",
    "import re # regular expressions\n",
    "warnings.filterwarnings(\"ignore\")\n",
    "\n",
    "# ---- Reiterate categories ---- #\n",
    "#ttagcats = [\"Probet\", \"at\", \"0t\", \"pret\", \"1t\", \"1t+2t\", \"2t\", \"0t+1t+2t\"] # 'Pt' = t-tagged probe\n",
    "btagcats = [\"0b\", \"1b\", \"2b\"]\n",
    "ycats = ['cen', 'fwd']\n",
    "\n",
    "list_of_cats = [ b+y for b,y in itertools.product(btagcats, ycats) ]"
   ]
  },
  {
   "cell_type": "code",
   "execution_count": null,
   "id": "6bed8426",
   "metadata": {},
   "outputs": [],
   "source": [
    "stack_tag1_opts = {'marker': '.', 'markersize': 10., 'color': 'b', 'elinewidth': 1}\n",
    "stack_tag2_opts = {'marker': 's', 'markersize': 5., 'color': 'g', 'elinewidth': 1}\n",
    "# legend_tag_opts = {'labels':['', '', 'DeepTag', 'DeepTag MD']}\n",
    "stack_ttbar_opts = {'alpha': 0.8, 'edgecolor':(0,0,0,0.3), 'color': 'red'}\n",
    "# stack_rsg1000_opts = {'color': 'orange', 'label':'_nolegend_'}\n",
    "line_rsg1000_opts = {'color': 'orange'}\n",
    "stack_background_opts = {'alpha': 0.8, 'edgecolor':(0,0,0,0.3), 'color': 'yellow'}\n",
    "stack_error_opts = {'label':'Stat. Unc.', 'hatch':'///', 'facecolor':'None', 'edgecolor':(0,0,0,.5), 'linewidth': 0, 'label':'_nolegend_'}\n",
    "data_err_opts = {'linestyle': 'none', 'marker': '.', 'markersize': 10., 'color': 'k', 'elinewidth': 1}"
   ]
  },
  {
   "cell_type": "code",
   "execution_count": null,
   "id": "c0f565cd",
   "metadata": {},
   "outputs": [],
   "source": [
    "for l in list_of_cats:\n",
    "    fig, ax = plt.subplots(\n",
    "            nrows=1,\n",
    "            ncols=1,\n",
    "            figsize=(7,7)\n",
    "        )\n",
    "    \n",
    "    QCD_hist = QCD_unweighted['jetmass'].integrate('anacat', '2t' + l).integrate('dataset', 'UL16preVFP_QCD')\n",
    "    QCDold_hist = QCD_unweighted_old['jetmass'].integrate('anacat', '2t' + l).integrate('dataset', 'QCD')\n",
    "    \n",
    "    Nqcd_old = np.sum(QCDold_hist.integrate('jetmass').values())\n",
    "    Nqcd_old = [j for j in Nqcd_old.values()]\n",
    "    if Nqcd_old[0] > 0.:\n",
    "        QCDold_hist.scale(1.0/Nqcd_old[0]) # Normalized to Luminosity\n",
    "    else:\n",
    "        QCDold_hist.scale(0.)\n",
    "        \n",
    "    Nqcd = np.sum(QCD_hist.integrate('jetmass').values())\n",
    "    Nqcd = [j for j in Nqcd.values()]\n",
    "    if Nqcd[0] > 0.:\n",
    "        QCD_hist.scale(1.0/Nqcd[0]) # Normalized to Luminosity\n",
    "    else:\n",
    "        QCD_hist.scale(0.)\n",
    "        \n",
    "    \n",
    "    hist.plot1d(QCD_hist, ax=ax, clear=False, line_opts={'color': 'red'})\n",
    "    hist.plot1d(QCDold_hist, ax=ax, clear=False, fill_opts=stack_background_opts)\n",
    "    \n",
    "    ax.set_title('Signal Region ' + l)\n",
    "    ax.set_ylabel('Normalized Events')\n",
    "    leg = ax.legend(labels=[r'QCD preVFP v9',r'QCD preVFP v7'], bbox_to_anchor=(1., 1.), loc='upper right')"
   ]
  },
  {
   "cell_type": "code",
   "execution_count": null,
   "id": "933c530c",
   "metadata": {},
   "outputs": [],
   "source": []
  }
 ],
 "metadata": {
  "kernelspec": {
   "display_name": "Python 3 (ipykernel)",
   "language": "python",
   "name": "python3"
  },
  "language_info": {
   "codemirror_mode": {
    "name": "ipython",
    "version": 3
   },
   "file_extension": ".py",
   "mimetype": "text/x-python",
   "name": "python",
   "nbconvert_exporter": "python",
   "pygments_lexer": "ipython3",
   "version": "3.8.13"
  }
 },
 "nbformat": 4,
 "nbformat_minor": 5
}
