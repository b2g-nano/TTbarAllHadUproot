{
 "cells": [
  {
   "cell_type": "code",
   "execution_count": null,
   "id": "eba302ee",
   "metadata": {},
   "outputs": [],
   "source": [
    "import os\n",
    "import copy\n",
    "from coffea import hist\n",
    "from coffea import util\n",
    "import numpy as np\n",
    "import itertools\n",
    "import pandas as pd"
   ]
  },
  {
   "cell_type": "code",
   "execution_count": null,
   "id": "d60fd1ec",
   "metadata": {},
   "outputs": [],
   "source": [
    "directory = 'CoffeaOutputsForTriggerAnalysis/JetHT/'"
   ]
  },
  {
   "cell_type": "code",
   "execution_count": null,
   "id": "e9eca15e",
   "metadata": {},
   "outputs": [],
   "source": [
    "Data_num2016 = util.load(directory+'2016/TTbarRes_0l_JetHT2016_Data_TriggerAnalysis.coffea')"
   ]
  },
  {
   "cell_type": "code",
   "execution_count": null,
   "id": "27d51c54",
   "metadata": {},
   "outputs": [],
   "source": [
    "print(Data_num2016)"
   ]
  },
  {
   "cell_type": "code",
   "execution_count": null,
   "id": "6edc638c",
   "metadata": {},
   "outputs": [],
   "source": [
    "print(\"-------Unweighted JetHT2016_Data--------\")\n",
    "for i,j in Data_num2016['cutflow'].items():        \n",
    "    print( '%20s : %12d' % (i,j) )"
   ]
  },
  {
   "cell_type": "code",
   "execution_count": null,
   "id": "8e169393",
   "metadata": {},
   "outputs": [],
   "source": [
    "def mkdir_p(mypath):\n",
    "    '''Creates a directory. equivalent to using mkdir -p on the command line'''\n",
    "\n",
    "    from errno import EEXIST\n",
    "    from os import makedirs,path\n",
    "\n",
    "    try:\n",
    "        makedirs(mypath)\n",
    "    except OSError as exc: # Python >2.5\n",
    "        if exc.errno == EEXIST and path.isdir(mypath):\n",
    "            pass\n",
    "        else: raise"
   ]
  },
  {
   "cell_type": "code",
   "execution_count": null,
   "id": "750c99e6",
   "metadata": {},
   "outputs": [],
   "source": [
    "def DoesDirectoryExist(mypath): #extra precaution (Probably overkill...)\n",
    "    '''Checks to see if Directory exists before running mkdir_p'''\n",
    "    import os.path\n",
    "    from os import path\n",
    "    \n",
    "    if path.exists(mypath):\n",
    "        pass\n",
    "    else:\n",
    "        mkdir_p(mypath)"
   ]
  },
  {
   "cell_type": "code",
   "execution_count": null,
   "id": "43d8f88b",
   "metadata": {},
   "outputs": [],
   "source": [
    "import matplotlib.pyplot as plt\n",
    "import warnings\n",
    "import re # regular expressions\n",
    "warnings.filterwarnings(\"ignore\")\n",
    "\n",
    "# ---- Reiterate categories ---- #\n",
    "ttagcats = [\">=1t\", \">=0t\"]\n",
    "btagcats = [\"0b\", \"1b\", \"2b\"]\n",
    "ycats = ['cen', 'fwd']\n",
    "\n",
    "list_of_cats = [ t+b+y for t,b,y in itertools.product( ttagcats, btagcats, ycats) ]\n",
    "list_of_bcats = [ b+y for b,y in itertools.product( btagcats, ycats) ]\n",
    "\n",
    "# # ---- List the Histograms Here ---- #\n",
    "# list_of_hists = ('ttbarmass', 'jetpt', 'jeteta', 'jetphi', 'jety', 'jetdy', 'probept', 'probep')"
   ]
  },
  {
   "cell_type": "code",
   "execution_count": null,
   "id": "ece05e06",
   "metadata": {},
   "outputs": [],
   "source": [
    "maindirectory = os.getcwd() "
   ]
  },
  {
   "cell_type": "code",
   "execution_count": null,
   "id": "3a97b15f",
   "metadata": {},
   "outputs": [],
   "source": [
    "for cat in list_of_cats:\n",
    "    #---- Histogram Window Config. ----# \n",
    "    plt.rcParams.update({\n",
    "    'font.size': 14,\n",
    "    'axes.titlesize': 18,\n",
    "    'axes.labelsize': 18,\n",
    "    'xtick.labelsize': 12,\n",
    "    'ytick.labelsize': 12\n",
    "    })\n",
    "    fig, ax = plt.subplots(\n",
    "        nrows=1,\n",
    "        ncols=1,\n",
    "        figsize=(7,7),\n",
    "    )\n",
    "#     fig.subplots_adjust(hspace=.07)\n",
    "    ax.set_title('Trigger Efficiency; ' + cat)\n",
    "    \n",
    "    Numerator1 = Data_num2016['condition1_numerator'].integrate('anacat', cat).integrate('dataset', 'JetHT2016_Data')\n",
    "    Numerator2 = Data_num2016['condition2_numerator'].integrate('anacat', cat).integrate('dataset', 'JetHT2016_Data')\n",
    "    Numerator3 = Data_num2016['condition3_numerator'].integrate('anacat', cat).integrate('dataset', 'JetHT2016_Data')\n",
    "    Numerator4 = Data_num2016['condition4_numerator'].integrate('anacat', cat).integrate('dataset', 'JetHT2016_Data')\n",
    "    Denominator = Data_num2016['condition_denominator'].integrate('anacat', cat).integrate('dataset', 'JetHT2016_Data')\n",
    "    \n",
    "    EffPlot1 = hist.plotratio(num = Numerator1, denom = Denominator, ax = ax, clear=False,\n",
    "                   error_opts={'marker': '.', 'markersize': 7., 'color': 'k', 'elinewidth': 1},\n",
    "                   unc = 'num')\n",
    "    EffPlot2 = hist.plotratio(num = Numerator2, denom = Denominator, ax = ax, clear=False,\n",
    "                   error_opts={'marker': 'x', 'markersize': 7., 'color': 'g', 'elinewidth': 1},\n",
    "                   unc = 'num')\n",
    "    EffPlot3 = hist.plotratio(num = Numerator3, denom = Denominator, ax = ax, clear=False,\n",
    "                   error_opts={'marker': 's', 'markersize': 6., 'color': 'r', 'elinewidth': 1},\n",
    "                   unc = 'num')\n",
    "    EffPlot4 = hist.plotratio(num = Numerator4, denom = Denominator, ax = ax, clear=False,\n",
    "                   error_opts={'marker': '*', 'markersize': 7., 'color': 'b', 'elinewidth': 1},\n",
    "                   unc = 'num')\n",
    "    \n",
    "    ax.set_ylim(bottom=0.9, top=1.1)\n",
    "    leg = ax.legend(labels=[r'$Condition_1$',r'$Condition_2$',r'$Condition_3$',r'$Condition_4$'], bbox_to_anchor=(1.35, 1.), loc='upper right')\n",
    "    \n",
    "#     ax.set_ylim(0, 1.2)\n",
    "    "
   ]
  },
  {
   "cell_type": "code",
   "execution_count": null,
   "id": "bd096b64",
   "metadata": {},
   "outputs": [],
   "source": []
  }
 ],
 "metadata": {
  "kernelspec": {
   "display_name": "Python 3 (ipykernel)",
   "language": "python",
   "name": "python3"
  },
  "language_info": {
   "codemirror_mode": {
    "name": "ipython",
    "version": 3
   },
   "file_extension": ".py",
   "mimetype": "text/x-python",
   "name": "python",
   "nbconvert_exporter": "python",
   "pygments_lexer": "ipython3",
   "version": "3.8.13"
  }
 },
 "nbformat": 4,
 "nbformat_minor": 5
}
