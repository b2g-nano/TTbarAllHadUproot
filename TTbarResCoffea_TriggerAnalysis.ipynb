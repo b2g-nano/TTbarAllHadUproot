{
 "cells": [
  {
   "cell_type": "code",
   "execution_count": 1,
   "id": "eba302ee",
   "metadata": {},
   "outputs": [],
   "source": [
    "import os\n",
    "import copy\n",
    "from coffea import hist\n",
    "from coffea import util\n",
    "import numpy as np\n",
    "import itertools\n",
    "import pandas as pd"
   ]
  },
  {
   "cell_type": "code",
   "execution_count": 2,
   "id": "d60fd1ec",
   "metadata": {},
   "outputs": [],
   "source": [
    "directory = 'CoffeaOutputsForTriggerAnalysis/SingleMu/'"
   ]
  },
  {
   "cell_type": "code",
   "execution_count": 3,
   "id": "e9eca15e",
   "metadata": {},
   "outputs": [],
   "source": [
    "Data_num2016 = util.load(directory+'2016/TTbarRes_0l_SingleMu2016_Data_TriggerAnalysis.coffea')"
   ]
  },
  {
   "cell_type": "code",
   "execution_count": 4,
   "id": "27d51c54",
   "metadata": {},
   "outputs": [
    {
     "name": "stdout",
     "output_type": "stream",
     "text": [
      "{'ttbarmass': <Hist (dataset,anacat,ttbarmass) instance at 0x7ff6ec099280>, 'jetmass': <Hist (dataset,anacat,jetmass) instance at 0x7ff6491fcc10>, 'SDmass': <Hist (dataset,anacat,jetmass) instance at 0x7ff64920df70>, 'SDmass_precat': <Hist (dataset,jetpt,jetmass) instance at 0x7ff6491b1250>, 'jetpt': <Hist (dataset,anacat,jetpt) instance at 0x7ff6491b1340>, 'jeteta': <Hist (dataset,anacat,jeteta) instance at 0x7ff6491c25e0>, 'jetphi': <Hist (dataset,anacat,jetphi) instance at 0x7ff6491d5940>, 'probept': <Hist (dataset,anacat,jetpt) instance at 0x7ff6491e6ca0>, 'probep': <Hist (dataset,anacat,jetp) instance at 0x7ff649179f40>, 'jety': <Hist (dataset,anacat,jety) instance at 0x7ff649194370>, 'jetdy': <Hist (dataset,anacat,jetdy) instance at 0x7ff6491a46d0>, 'deepTag_TvsQCD': <Hist (dataset,anacat,jetpt,tagger) instance at 0x7ff649136a60>, 'deepTagMD_TvsQCD': <Hist (dataset,anacat,jetpt,tagger) instance at 0x7ff649136b50>, 'tau32': <Hist (dataset,anacat,tau32) instance at 0x7ff649136b80>, 'tau32_2D': <Hist (dataset,anacat,jetpt,tau32) instance at 0x7ff649148ee0>, 'tau32_precat': <Hist (dataset,jetpt,tau32) instance at 0x7ff649148f10>, 'subjetmass': <Hist (dataset,anacat,subjetmass) instance at 0x7ff649148f40>, 'subjetpt': <Hist (dataset,anacat,subjetpt) instance at 0x7ff649159070>, 'subjeteta': <Hist (dataset,anacat,subjeteta) instance at 0x7ff649159190>, 'subjetphi': <Hist (dataset,anacat,subjetphi) instance at 0x7ff6491592b0>, 'numerator': <Hist (dataset,anacat,jetp) instance at 0x7ff6491593d0>, 'denominator': <Hist (dataset,anacat,jetp) instance at 0x7ff649164670>, 'condition1_numerator': <Hist (dataset,anacat,Jet_HT) instance at 0x7ff6490ee910>, 'condition2_numerator': <Hist (dataset,anacat,Jet_HT) instance at 0x7ff6490eeaf0>, 'condition3_numerator': <Hist (dataset,anacat,Jet_HT) instance at 0x7ff6490eec10>, 'condition4_numerator': <Hist (dataset,anacat,Jet_HT) instance at 0x7ff6490eed30>, 'condition_denominator': <Hist (dataset,anacat,Jet_HT) instance at 0x7ff6490eee50>, 'b_eff_numerator_s01': <Hist (dataset,subjetpt,subjeteta) instance at 0x7ff6490fb370>, 'b_eff_numerator_s02': <Hist (dataset,subjetpt,subjeteta) instance at 0x7ff6490fb3a0>, 'b_eff_numerator_s11': <Hist (dataset,subjetpt,subjeteta) instance at 0x7ff6490fb3d0>, 'b_eff_numerator_s12': <Hist (dataset,subjetpt,subjeteta) instance at 0x7ff6490fb400>, 'b_eff_denominator_s01': <Hist (dataset,subjetpt,subjeteta) instance at 0x7ff6490fb430>, 'b_eff_denominator_s02': <Hist (dataset,subjetpt,subjeteta) instance at 0x7ff6490fb460>, 'b_eff_denominator_s11': <Hist (dataset,subjetpt,subjeteta) instance at 0x7ff6490fb490>, 'b_eff_denominator_s12': <Hist (dataset,subjetpt,subjeteta) instance at 0x7ff6490fb4c0>, 'b_eff_numerator_s01_largerbins': <Hist (dataset,subjetpt,subjeteta) instance at 0x7ff6490fb4f0>, 'b_eff_numerator_s02_largerbins': <Hist (dataset,subjetpt,subjeteta) instance at 0x7ff6490fb6a0>, 'b_eff_numerator_s11_largerbins': <Hist (dataset,subjetpt,subjeteta) instance at 0x7ff6490fb6d0>, 'b_eff_numerator_s12_largerbins': <Hist (dataset,subjetpt,subjeteta) instance at 0x7ff6490fb700>, 'b_eff_denominator_s01_largerbins': <Hist (dataset,subjetpt,subjeteta) instance at 0x7ff6490fb730>, 'b_eff_denominator_s02_largerbins': <Hist (dataset,subjetpt,subjeteta) instance at 0x7ff6490fb760>, 'b_eff_denominator_s11_largerbins': <Hist (dataset,subjetpt,subjeteta) instance at 0x7ff6490fb790>, 'b_eff_denominator_s12_largerbins': <Hist (dataset,subjetpt,subjeteta) instance at 0x7ff6490fb7c0>, 'b_eff_numerator_s01_manualbins': <Hist (dataset,subjetpt,subjeteta) instance at 0x7ff6490fb7f0>, 'b_eff_numerator_s02_manualbins': <Hist (dataset,subjetpt,subjeteta) instance at 0x7ff6490fb970>, 'b_eff_numerator_s11_manualbins': <Hist (dataset,subjetpt,subjeteta) instance at 0x7ff6490fb9a0>, 'b_eff_numerator_s12_manualbins': <Hist (dataset,subjetpt,subjeteta) instance at 0x7ff6490fb9d0>, 'b_eff_denominator_s01_manualbins': <Hist (dataset,subjetpt,subjeteta) instance at 0x7ff6490fba00>, 'b_eff_denominator_s02_manualbins': <Hist (dataset,subjetpt,subjeteta) instance at 0x7ff6490fba30>, 'b_eff_denominator_s11_manualbins': <Hist (dataset,subjetpt,subjeteta) instance at 0x7ff6490fba60>, 'b_eff_denominator_s12_manualbins': <Hist (dataset,subjetpt,subjeteta) instance at 0x7ff6490fba90>, 'c_eff_numerator_s01': <Hist (dataset,subjetpt,subjeteta) instance at 0x7ff6490fbac0>, 'c_eff_numerator_s02': <Hist (dataset,subjetpt,subjeteta) instance at 0x7ff6490fbaf0>, 'c_eff_numerator_s11': <Hist (dataset,subjetpt,subjeteta) instance at 0x7ff6490fbb20>, 'c_eff_numerator_s12': <Hist (dataset,subjetpt,subjeteta) instance at 0x7ff6490fbb50>, 'c_eff_denominator_s01': <Hist (dataset,subjetpt,subjeteta) instance at 0x7ff6490fbb80>, 'c_eff_denominator_s02': <Hist (dataset,subjetpt,subjeteta) instance at 0x7ff6490fbbb0>, 'c_eff_denominator_s11': <Hist (dataset,subjetpt,subjeteta) instance at 0x7ff6490fbbe0>, 'c_eff_denominator_s12': <Hist (dataset,subjetpt,subjeteta) instance at 0x7ff6490fbc10>, 'c_eff_numerator_s01_largerbins': <Hist (dataset,subjetpt,subjeteta) instance at 0x7ff6490fbc40>, 'c_eff_numerator_s02_largerbins': <Hist (dataset,subjetpt,subjeteta) instance at 0x7ff6490fbc70>, 'c_eff_numerator_s11_largerbins': <Hist (dataset,subjetpt,subjeteta) instance at 0x7ff6490fbca0>, 'c_eff_numerator_s12_largerbins': <Hist (dataset,subjetpt,subjeteta) instance at 0x7ff6490fbcd0>, 'c_eff_denominator_s01_largerbins': <Hist (dataset,subjetpt,subjeteta) instance at 0x7ff6490fbd00>, 'c_eff_denominator_s02_largerbins': <Hist (dataset,subjetpt,subjeteta) instance at 0x7ff6490fbd30>, 'c_eff_denominator_s11_largerbins': <Hist (dataset,subjetpt,subjeteta) instance at 0x7ff6490fbd60>, 'c_eff_denominator_s12_largerbins': <Hist (dataset,subjetpt,subjeteta) instance at 0x7ff6490fbd90>, 'c_eff_numerator_s01_manualbins': <Hist (dataset,subjetpt,subjeteta) instance at 0x7ff6490fbdc0>, 'c_eff_numerator_s02_manualbins': <Hist (dataset,subjetpt,subjeteta) instance at 0x7ff6490fbdf0>, 'c_eff_numerator_s11_manualbins': <Hist (dataset,subjetpt,subjeteta) instance at 0x7ff6490fbe20>, 'c_eff_numerator_s12_manualbins': <Hist (dataset,subjetpt,subjeteta) instance at 0x7ff6490fbe50>, 'c_eff_denominator_s01_manualbins': <Hist (dataset,subjetpt,subjeteta) instance at 0x7ff6490fbe80>, 'c_eff_denominator_s02_manualbins': <Hist (dataset,subjetpt,subjeteta) instance at 0x7ff6490fbeb0>, 'c_eff_denominator_s11_manualbins': <Hist (dataset,subjetpt,subjeteta) instance at 0x7ff6490fbee0>, 'c_eff_denominator_s12_manualbins': <Hist (dataset,subjetpt,subjeteta) instance at 0x7ff6490fbf10>, 'udsg_eff_numerator_s01': <Hist (dataset,subjetpt,subjeteta) instance at 0x7ff6490fbf40>, 'udsg_eff_numerator_s02': <Hist (dataset,subjetpt,subjeteta) instance at 0x7ff6490fbf70>, 'udsg_eff_numerator_s11': <Hist (dataset,subjetpt,subjeteta) instance at 0x7ff6490fbfa0>, 'udsg_eff_numerator_s12': <Hist (dataset,subjetpt,subjeteta) instance at 0x7ff6490fbfd0>, 'udsg_eff_denominator_s01': <Hist (dataset,subjetpt,subjeteta) instance at 0x7ff64910e040>, 'udsg_eff_denominator_s02': <Hist (dataset,subjetpt,subjeteta) instance at 0x7ff64910e070>, 'udsg_eff_denominator_s11': <Hist (dataset,subjetpt,subjeteta) instance at 0x7ff64910e0a0>, 'udsg_eff_denominator_s12': <Hist (dataset,subjetpt,subjeteta) instance at 0x7ff64910e0d0>, 'udsg_eff_numerator_s01_largerbins': <Hist (dataset,subjetpt,subjeteta) instance at 0x7ff64910e100>, 'udsg_eff_numerator_s02_largerbins': <Hist (dataset,subjetpt,subjeteta) instance at 0x7ff64910e130>, 'udsg_eff_numerator_s11_largerbins': <Hist (dataset,subjetpt,subjeteta) instance at 0x7ff64910e160>, 'udsg_eff_numerator_s12_largerbins': <Hist (dataset,subjetpt,subjeteta) instance at 0x7ff64910e190>, 'udsg_eff_denominator_s01_largerbins': <Hist (dataset,subjetpt,subjeteta) instance at 0x7ff64910e1c0>, 'udsg_eff_denominator_s02_largerbins': <Hist (dataset,subjetpt,subjeteta) instance at 0x7ff64910e1f0>, 'udsg_eff_denominator_s11_largerbins': <Hist (dataset,subjetpt,subjeteta) instance at 0x7ff64910e220>, 'udsg_eff_denominator_s12_largerbins': <Hist (dataset,subjetpt,subjeteta) instance at 0x7ff64910e250>, 'udsg_eff_numerator_s01_manualbins': <Hist (dataset,subjetpt,subjeteta) instance at 0x7ff64910e280>, 'udsg_eff_numerator_s02_manualbins': <Hist (dataset,subjetpt,subjeteta) instance at 0x7ff64910e2b0>, 'udsg_eff_numerator_s11_manualbins': <Hist (dataset,subjetpt,subjeteta) instance at 0x7ff64910e2e0>, 'udsg_eff_numerator_s12_manualbins': <Hist (dataset,subjetpt,subjeteta) instance at 0x7ff64910e310>, 'udsg_eff_denominator_s01_manualbins': <Hist (dataset,subjetpt,subjeteta) instance at 0x7ff64910e340>, 'udsg_eff_denominator_s02_manualbins': <Hist (dataset,subjetpt,subjeteta) instance at 0x7ff64910e370>, 'udsg_eff_denominator_s11_manualbins': <Hist (dataset,subjetpt,subjeteta) instance at 0x7ff64910e3a0>, 'udsg_eff_denominator_s12_manualbins': <Hist (dataset,subjetpt,subjeteta) instance at 0x7ff64910e3d0>, 'cutflow': defaultdict_accumulator(<class 'int'>, {'all events': 29045542, 'jet id': 2138839, 'jet kin': 99421, 'two FatJets and jet kin': 38314, '>= one oneTTbar': 38314, 'dPhi > 2.1': 19151, 'sumw': 18577.0, 'sumw2': 18577.0, 'AT&Pt0bcen': 177, 'AT&Pt0bfwd': 143, 'AT&Pt1bcen': 137, 'AT&Pt1bfwd': 120, 'AT&Pt2bcen': 24, 'AT&Pt2bfwd': 15, 'at0bcen': 901, 'at0bfwd': 772, 'at1bcen': 532, 'at1bfwd': 519, 'at2bcen': 58, 'at2bfwd': 60, 'pret0bcen': 1171, 'pret0bfwd': 1031, 'pret1bcen': 739, 'pret1bfwd': 705, 'pret2bcen': 99, 'pret2bfwd': 90, '0t0bcen': 4163, '0t0bfwd': 3760, '0t1bcen': 1891, '0t1bfwd': 1671, '0t2bcen': 150, '0t2bfwd': 140, '1t0bcen': 1871, '1t0bfwd': 1669, '1t1bcen': 1137, '1t1bfwd': 1048, '1t2bcen': 129, '1t2bfwd': 112, '>=1t0bcen': 2109, '>=1t0bfwd': 1856, '>=1t1bcen': 1322, '>=1t1bfwd': 1212, '>=1t2bcen': 166, '>=1t2bfwd': 137, '2t0bcen': 238, '2t0bfwd': 187, '2t1bcen': 185, '2t1bfwd': 164, '2t2bcen': 37, '2t2bfwd': 25, '>=0t0bcen': 6272, '>=0t0bfwd': 5616, '>=0t1bcen': 3213, '>=0t1bfwd': 2883, '>=0t2bcen': 316, '>=0t2bfwd': 277})}\n"
     ]
    }
   ],
   "source": [
    "print(Data_num2016)"
   ]
  },
  {
   "cell_type": "code",
   "execution_count": 5,
   "id": "6edc638c",
   "metadata": {},
   "outputs": [
    {
     "name": "stdout",
     "output_type": "stream",
     "text": [
      "-------Unweighted SingleMu2016_Data--------\n",
      "          all events :     29045542\n",
      "              jet id :      2138839\n",
      "             jet kin :        99421\n",
      "two FatJets and jet kin :        38314\n",
      "     >= one oneTTbar :        38314\n",
      "          dPhi > 2.1 :        19151\n",
      "                sumw :        18577\n",
      "               sumw2 :        18577\n",
      "          AT&Pt0bcen :          177\n",
      "          AT&Pt0bfwd :          143\n",
      "          AT&Pt1bcen :          137\n",
      "          AT&Pt1bfwd :          120\n",
      "          AT&Pt2bcen :           24\n",
      "          AT&Pt2bfwd :           15\n",
      "             at0bcen :          901\n",
      "             at0bfwd :          772\n",
      "             at1bcen :          532\n",
      "             at1bfwd :          519\n",
      "             at2bcen :           58\n",
      "             at2bfwd :           60\n",
      "           pret0bcen :         1171\n",
      "           pret0bfwd :         1031\n",
      "           pret1bcen :          739\n",
      "           pret1bfwd :          705\n",
      "           pret2bcen :           99\n",
      "           pret2bfwd :           90\n",
      "             0t0bcen :         4163\n",
      "             0t0bfwd :         3760\n",
      "             0t1bcen :         1891\n",
      "             0t1bfwd :         1671\n",
      "             0t2bcen :          150\n",
      "             0t2bfwd :          140\n",
      "             1t0bcen :         1871\n",
      "             1t0bfwd :         1669\n",
      "             1t1bcen :         1137\n",
      "             1t1bfwd :         1048\n",
      "             1t2bcen :          129\n",
      "             1t2bfwd :          112\n",
      "           >=1t0bcen :         2109\n",
      "           >=1t0bfwd :         1856\n",
      "           >=1t1bcen :         1322\n",
      "           >=1t1bfwd :         1212\n",
      "           >=1t2bcen :          166\n",
      "           >=1t2bfwd :          137\n",
      "             2t0bcen :          238\n",
      "             2t0bfwd :          187\n",
      "             2t1bcen :          185\n",
      "             2t1bfwd :          164\n",
      "             2t2bcen :           37\n",
      "             2t2bfwd :           25\n",
      "           >=0t0bcen :         6272\n",
      "           >=0t0bfwd :         5616\n",
      "           >=0t1bcen :         3213\n",
      "           >=0t1bfwd :         2883\n",
      "           >=0t2bcen :          316\n",
      "           >=0t2bfwd :          277\n"
     ]
    }
   ],
   "source": [
    "print(\"-------Unweighted SingleMu2016_Data--------\")\n",
    "for i,j in Data_num2016['cutflow'].items():        \n",
    "    print( '%20s : %12d' % (i,j) )"
   ]
  },
  {
   "cell_type": "code",
   "execution_count": 6,
   "id": "8e169393",
   "metadata": {},
   "outputs": [],
   "source": [
    "def mkdir_p(mypath):\n",
    "    '''Creates a directory. equivalent to using mkdir -p on the command line'''\n",
    "\n",
    "    from errno import EEXIST\n",
    "    from os import makedirs,path\n",
    "\n",
    "    try:\n",
    "        makedirs(mypath)\n",
    "    except OSError as exc: # Python >2.5\n",
    "        if exc.errno == EEXIST and path.isdir(mypath):\n",
    "            pass\n",
    "        else: raise"
   ]
  },
  {
   "cell_type": "code",
   "execution_count": 7,
   "id": "750c99e6",
   "metadata": {},
   "outputs": [],
   "source": [
    "def DoesDirectoryExist(mypath): #extra precaution (Probably overkill...)\n",
    "    '''Checks to see if Directory exists before running mkdir_p'''\n",
    "    import os.path\n",
    "    from os import path\n",
    "    \n",
    "    if path.exists(mypath):\n",
    "        pass\n",
    "    else:\n",
    "        mkdir_p(mypath)"
   ]
  },
  {
   "cell_type": "code",
   "execution_count": 8,
   "id": "43d8f88b",
   "metadata": {},
   "outputs": [],
   "source": [
    "import matplotlib.pyplot as plt\n",
    "import warnings\n",
    "import re # regular expressions\n",
    "warnings.filterwarnings(\"ignore\")\n",
    "\n",
    "# ---- Reiterate categories ---- #\n",
    "ttagcats = [\"0t\", \">=1t\"]\n",
    "# btagcats = [\"0b\", \"1b\", \"2b\"]\n",
    "# ycats = ['cen', 'fwd']\n",
    "\n",
    "# list_of_cats = [ t+b+y for t,b,y in itertools.product( ttagcats, btagcats, ycats) ]\n",
    "# list_of_bcats = [ b+y for b,y in itertools.product( btagcats, ycats) ]\n",
    "\n",
    "# # ---- List the Histograms Here ---- #\n",
    "# list_of_hists = ('ttbarmass', 'jetpt', 'jeteta', 'jetphi', 'jety', 'jetdy', 'probept', 'probep')"
   ]
  },
  {
   "cell_type": "code",
   "execution_count": 9,
   "id": "ece05e06",
   "metadata": {},
   "outputs": [],
   "source": [
    "maindirectory = os.getcwd() "
   ]
  },
  {
   "cell_type": "code",
   "execution_count": 11,
   "id": "3a97b15f",
   "metadata": {},
   "outputs": [
    {
     "name": "stdout",
     "output_type": "stream",
     "text": [
      "{}\n",
      "{}\n"
     ]
    },
    {
     "data": {
      "image/png": "[encoded data removed]",
      "text/plain": [
       "<Figure size 504x504 with 1 Axes>"
      ]
     },
     "metadata": {
      "needs_background": "light"
     },
     "output_type": "display_data"
    },
    {
     "data": {
      "image/png": "[encoded data removed]",
      "text/plain": [
       "<Figure size 504x504 with 1 Axes>"
      ]
     },
     "metadata": {
      "needs_background": "light"
     },
     "output_type": "display_data"
    }
   ],
   "source": [
    "for cat in ttagcats:\n",
    "    #---- Histogram Window Config. ----# \n",
    "    plt.rcParams.update({\n",
    "    'font.size': 14,\n",
    "    'axes.titlesize': 18,\n",
    "    'axes.labelsize': 18,\n",
    "    'xtick.labelsize': 12,\n",
    "    'ytick.labelsize': 12\n",
    "    })\n",
    "    fig, ax = plt.subplots(\n",
    "        nrows=1,\n",
    "        ncols=1,\n",
    "        figsize=(7,7),\n",
    "    )\n",
    "#     fig.subplots_adjust(hspace=.07)\n",
    "    ax.set_title('Trigger Efficiency; ' + cat)\n",
    "    \n",
    "    Numerator1 = Data_num2016['condition1_numerator'].integrate('anacat', cat).integrate('dataset', 'SingleMu2016_Data')\n",
    "    Numerator2 = Data_num2016['condition2_numerator'].integrate('anacat', cat).integrate('dataset', 'SingleMu2016_Data')\n",
    "    Numerator3 = Data_num2016['condition3_numerator'].integrate('anacat', cat).integrate('dataset', 'SingleMu2016_Data')\n",
    "    Numerator4 = Data_num2016['condition4_numerator'].integrate('anacat', cat).integrate('dataset', 'SingleMu2016_Data')\n",
    "    Denominator = Data_num2016['condition_denominator'].integrate('anacat', cat).integrate('dataset', 'SingleMu2016_Data')\n",
    "    \n",
    "    print(Denominator.values())\n",
    "    \n",
    "    # TestPlot = hist.plot1d(Denominator, ax=ax, clear=False, error_opts={'marker': '.', 'markersize': 7., 'color': 'k', 'elinewidth': 1})\n",
    "    \n",
    "    # EffPlot1 = hist.plotratio(num = Numerator1, denom = Denominator, ax = ax, clear=False,\n",
    "    #                error_opts={'marker': '.', 'markersize': 7., 'color': 'k', 'elinewidth': 1},\n",
    "    #                unc = 'num')\n",
    "    # EffPlot2 = hist.plotratio(num = Numerator2, denom = Denominator, ax = ax, clear=False,\n",
    "    #                error_opts={'marker': 'x', 'markersize': 7., 'color': 'g', 'elinewidth': 1},\n",
    "    #                unc = 'num')\n",
    "    # EffPlot3 = hist.plotratio(num = Numerator3, denom = Denominator, ax = ax, clear=False,\n",
    "    #                error_opts={'marker': 's', 'markersize': 6., 'color': 'r', 'elinewidth': 1},\n",
    "    #                unc = 'num')\n",
    "    # EffPlot4 = hist.plotratio(num = Numerator4, denom = Denominator, ax = ax, clear=False,\n",
    "    #                error_opts={'marker': '*', 'markersize': 7., 'color': 'b', 'elinewidth': 1},\n",
    "    #                unc = 'num')\n",
    "    \n",
    "    ax.set_ylim(bottom=0, top=1.1)\n",
    "    leg = ax.legend(labels=[r'$Condition_1$',r'$Condition_2$',r'$Condition_3$',r'$Condition_4$'], bbox_to_anchor=(1.35, 1.), loc='upper right')\n",
    "    \n",
    "#     ax.set_ylim(0, 1.2)\n",
    "    "
   ]
  },
  {
   "cell_type": "code",
   "execution_count": null,
   "id": "bd096b64",
   "metadata": {},
   "outputs": [],
   "source": []
  }
 ],
 "metadata": {
  "kernelspec": {
   "display_name": "Python 3 (ipykernel)",
   "language": "python",
   "name": "python3"
  },
  "language_info": {
   "codemirror_mode": {
    "name": "ipython",
    "version": 3
   },
   "file_extension": ".py",
   "mimetype": "text/x-python",
   "name": "python",
   "nbconvert_exporter": "python",
   "pygments_lexer": "ipython3",
   "version": "3.8.13"
  }
 },
 "nbformat": 4,
 "nbformat_minor": 5
}
